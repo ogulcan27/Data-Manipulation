{
 "cells": [
  {
   "cell_type": "markdown",
   "id": "b13ad048",
   "metadata": {},
   "source": [
    "# DATA MANIPULATION WITH PANDAS "
   ]
  },
  {
   "cell_type": "markdown",
   "id": "f5e87fb8",
   "metadata": {},
   "source": [
    "# Transforming DataFrames (Veri Çerçevelerini Dönüştürme)"
   ]
  },
  {
   "cell_type": "markdown",
   "id": "d92f689a",
   "metadata": {},
   "source": [
    "DataFrame'leri nasıl inceleyeceğimizi ve satırları sıralama, alt kümeleme ve yeni sütunlar ekleme dahil olmak üzere temel manipülasyonları nasıl yapacağımızı öğrenelim."
   ]
  },
  {
   "cell_type": "markdown",
   "id": "e98aa30a",
   "metadata": {},
   "source": [
    "### < Introducing DataFrames (Veri Çerçevelerine Giriş) > "
   ]
  },
  {
   "cell_type": "markdown",
   "id": "c79eda92",
   "metadata": {},
   "source": [
    "DataFrame, verileri bir elektronik tablo gibi 2 boyutlu satır ve sütun tablosu halinde düzenleyen bir veri yapısıdır. Oluşturduğumuz ya da import ettiğimiz (içe aktardığımız) DataFrame hakkında bilgi edinebilmek için kullanabileceğimiz bazı Pandas işlevleri vardır. Bunlar: "
   ]
  },
  {
   "cell_type": "markdown",
   "id": "8619517c",
   "metadata": {},
   "source": [
    "+ pd.DataFrame.head() -> Bu işlev, konuma göre nesne için ilk n satırı döndürür. Nesnenizin içinde doğru türde veri olup olmadığını hızlı bir şekilde test etmek için kullanışlıdır.\n",
    "\n",
    "Tutorial Linki = https://pandas.pydata.org/docs/reference/api/pandas.DataFrame.head.html"
   ]
  },
  {
   "cell_type": "markdown",
   "id": "7710812a",
   "metadata": {},
   "source": [
    "+ pd.DataFrame.tail() -> Bu işlev, konuma göre nesneden son n satırı döndürür. Örneğin satırları sıraladıktan veya ekledikten sonra verileri hızlı bir şekilde doğrulamak için kullanışlıdır.\n",
    "\n",
    "Tutorial Linki = https://pandas.pydata.org/docs/reference/api/pandas.DataFrame.tail.html"
   ]
  },
  {
   "cell_type": "markdown",
   "id": "6213006a",
   "metadata": {},
   "source": [
    "+ pd.Dataframe.info() -> Bir DataFrame'in kısa bir özetini yazdırın. Bu yöntem, dizin tipi ve sütunlar, boş olmayan değerler ve bellek kullanımı dahil olmak üzere bir DataFrame hakkında bilgi yazdırır.\n",
    "\n",
    "Tutorial Linki = https://pandas.pydata.org/docs/reference/api/pandas.DataFrame.info.html"
   ]
  },
  {
   "cell_type": "markdown",
   "id": "051144c1",
   "metadata": {},
   "source": [
    "+ pd.DataFrame.shape -> DataFrame'in kaç satır ve sütundan oluştuğunu gösteren bir tuple nesnesi döndürür.\n",
    "\n",
    "Tutorial Linki = https://pandas.pydata.org/pandas-docs/stable/reference/api/pandas.DataFrame.shape.html?highlight=shape"
   ]
  },
  {
   "cell_type": "markdown",
   "id": "6d882c0f",
   "metadata": {},
   "source": [
    "+ pd.DataFrame.describe() -> DataFrame'in tanımlayıcı (descriptive) istatistiklerini hesaplar.\n",
    "\n",
    "Tutorial Linki = https://pandas.pydata.org/docs/reference/api/pandas.DataFrame.describe.html"
   ]
  },
  {
   "cell_type": "markdown",
   "id": "897d2a73",
   "metadata": {},
   "source": [
    "+ pd.DataFrame.values -> Sadece DataFrame'deki değerleri döndürür, eksen etiketleri kaldırılır.\n",
    "\n",
    "Tutorial Linki = https://pandas.pydata.org/pandas-docs/stable/reference/api/pandas.DataFrame.values.html?highlight=values#pandas.DataFrame.values"
   ]
  },
  {
   "cell_type": "markdown",
   "id": "4e17d69f",
   "metadata": {},
   "source": [
    "+ pd.DataFrame.columns -> DataFrame'deki sütun başlıklarını döndürür.\n",
    "\n",
    "Tutorial Linki = https://pandas.pydata.org/pandas-docs/stable/reference/api/pandas.DataFrame.columns.html?highlight=columns#pandas.DataFrame.columns"
   ]
  },
  {
   "cell_type": "markdown",
   "id": "e89fc1a2",
   "metadata": {},
   "source": [
    "+ pd.DataFrame.index -> DataFrame'in dizini (satır etiketleri)\n",
    "\n",
    "Tutorial Linki = https://pandas.pydata.org/pandas-docs/stable/reference/api/pandas.DataFrame.index.html?highlight=index#pandas.DataFrame.index"
   ]
  },
  {
   "cell_type": "markdown",
   "id": "f9a7902a-cbad-4922-9856-bf423b4bc020",
   "metadata": {},
   "source": [
    "Aşağıdaki örnekte, yukarıda bahsettiğimiz işlevleri \"homelessness.csv\" dosyası üzerinde uygulayalım."
   ]
  },
  {
   "cell_type": "code",
   "execution_count": 1,
   "id": "21e1ae51-99fb-46aa-a396-5b602e290950",
   "metadata": {
    "scrolled": true
   },
   "outputs": [
    {
     "name": "stdout",
     "output_type": "stream",
     "text": [
      "   Unnamed: 0              region       state  individuals  family_members  \\\n",
      "0           0  East South Central     Alabama       2570.0           864.0   \n",
      "1           1             Pacific      Alaska       1434.0           582.0   \n",
      "2           2            Mountain     Arizona       7259.0          2606.0   \n",
      "3           3  West South Central    Arkansas       2280.0           432.0   \n",
      "4           4             Pacific  California     109008.0         20964.0   \n",
      "\n",
      "   state_pop  \n",
      "0    4887681  \n",
      "1     735139  \n",
      "2    7158024  \n",
      "3    3009733  \n",
      "4   39461588  \n",
      "\n",
      "*************************\n",
      "\n",
      "    Unnamed: 0              region          state  individuals  \\\n",
      "46          46      South Atlantic       Virginia       3928.0   \n",
      "47          47             Pacific     Washington      16424.0   \n",
      "48          48      South Atlantic  West Virginia       1021.0   \n",
      "49          49  East North Central      Wisconsin       2740.0   \n",
      "50          50            Mountain        Wyoming        434.0   \n",
      "\n",
      "    family_members  state_pop  \n",
      "46          2047.0    8501286  \n",
      "47          5880.0    7523869  \n",
      "48           222.0    1804291  \n",
      "49          2167.0    5807406  \n",
      "50           205.0     577601  \n",
      "\n",
      "*************************\n",
      "\n",
      "<class 'pandas.core.frame.DataFrame'>\n",
      "RangeIndex: 51 entries, 0 to 50\n",
      "Data columns (total 6 columns):\n",
      " #   Column          Non-Null Count  Dtype  \n",
      "---  ------          --------------  -----  \n",
      " 0   Unnamed: 0      51 non-null     int64  \n",
      " 1   region          51 non-null     object \n",
      " 2   state           51 non-null     object \n",
      " 3   individuals     51 non-null     float64\n",
      " 4   family_members  51 non-null     float64\n",
      " 5   state_pop       51 non-null     int64  \n",
      "dtypes: float64(2), int64(2), object(2)\n",
      "memory usage: 2.5+ KB\n",
      "None\n",
      "\n",
      "*************************\n",
      "\n",
      "(51, 6)\n",
      "\n",
      "*************************\n",
      "\n",
      "       Unnamed: 0    individuals  family_members     state_pop\n",
      "count   51.000000      51.000000       51.000000  5.100000e+01\n",
      "mean    25.000000    7225.784314     3504.882353  6.405637e+06\n",
      "std     14.866069   15991.025083     7805.411811  7.327258e+06\n",
      "min      0.000000     434.000000       75.000000  5.776010e+05\n",
      "25%     12.500000    1446.500000      592.000000  1.777414e+06\n",
      "50%     25.000000    3082.000000     1482.000000  4.461153e+06\n",
      "75%     37.500000    6781.500000     3196.000000  7.340946e+06\n",
      "max     50.000000  109008.000000    52070.000000  3.946159e+07\n",
      "\n",
      "*************************\n",
      "\n",
      "[[0 'East South Central' 'Alabama' 2570.0 864.0 4887681]\n",
      " [1 'Pacific' 'Alaska' 1434.0 582.0 735139]\n",
      " [2 'Mountain' 'Arizona' 7259.0 2606.0 7158024]\n",
      " [3 'West South Central' 'Arkansas' 2280.0 432.0 3009733]\n",
      " [4 'Pacific' 'California' 109008.0 20964.0 39461588]\n",
      " [5 'Mountain' 'Colorado' 7607.0 3250.0 5691287]\n",
      " [6 'New England' 'Connecticut' 2280.0 1696.0 3571520]\n",
      " [7 'South Atlantic' 'Delaware' 708.0 374.0 965479]\n",
      " [8 'South Atlantic' 'District of Columbia' 3770.0 3134.0 701547]\n",
      " [9 'South Atlantic' 'Florida' 21443.0 9587.0 21244317]\n",
      " [10 'South Atlantic' 'Georgia' 6943.0 2556.0 10511131]\n",
      " [11 'Pacific' 'Hawaii' 4131.0 2399.0 1420593]\n",
      " [12 'Mountain' 'Idaho' 1297.0 715.0 1750536]\n",
      " [13 'East North Central' 'Illinois' 6752.0 3891.0 12723071]\n",
      " [14 'East North Central' 'Indiana' 3776.0 1482.0 6695497]\n",
      " [15 'West North Central' 'Iowa' 1711.0 1038.0 3148618]\n",
      " [16 'West North Central' 'Kansas' 1443.0 773.0 2911359]\n",
      " [17 'East South Central' 'Kentucky' 2735.0 953.0 4461153]\n",
      " [18 'West South Central' 'Louisiana' 2540.0 519.0 4659690]\n",
      " [19 'New England' 'Maine' 1450.0 1066.0 1339057]\n",
      " [20 'South Atlantic' 'Maryland' 4914.0 2230.0 6035802]\n",
      " [21 'New England' 'Massachusetts' 6811.0 13257.0 6882635]\n",
      " [22 'East North Central' 'Michigan' 5209.0 3142.0 9984072]\n",
      " [23 'West North Central' 'Minnesota' 3993.0 3250.0 5606249]\n",
      " [24 'East South Central' 'Mississippi' 1024.0 328.0 2981020]\n",
      " [25 'West North Central' 'Missouri' 3776.0 2107.0 6121623]\n",
      " [26 'Mountain' 'Montana' 983.0 422.0 1060665]\n",
      " [27 'West North Central' 'Nebraska' 1745.0 676.0 1925614]\n",
      " [28 'Mountain' 'Nevada' 7058.0 486.0 3027341]\n",
      " [29 'New England' 'New Hampshire' 835.0 615.0 1353465]\n",
      " [30 'Mid-Atlantic' 'New Jersey' 6048.0 3350.0 8886025]\n",
      " [31 'Mountain' 'New Mexico' 1949.0 602.0 2092741]\n",
      " [32 'Mid-Atlantic' 'New York' 39827.0 52070.0 19530351]\n",
      " [33 'South Atlantic' 'North Carolina' 6451.0 2817.0 10381615]\n",
      " [34 'West North Central' 'North Dakota' 467.0 75.0 758080]\n",
      " [35 'East North Central' 'Ohio' 6929.0 3320.0 11676341]\n",
      " [36 'West South Central' 'Oklahoma' 2823.0 1048.0 3940235]\n",
      " [37 'Pacific' 'Oregon' 11139.0 3337.0 4181886]\n",
      " [38 'Mid-Atlantic' 'Pennsylvania' 8163.0 5349.0 12800922]\n",
      " [39 'New England' 'Rhode Island' 747.0 354.0 1058287]\n",
      " [40 'South Atlantic' 'South Carolina' 3082.0 851.0 5084156]\n",
      " [41 'West North Central' 'South Dakota' 836.0 323.0 878698]\n",
      " [42 'East South Central' 'Tennessee' 6139.0 1744.0 6771631]\n",
      " [43 'West South Central' 'Texas' 19199.0 6111.0 28628666]\n",
      " [44 'Mountain' 'Utah' 1904.0 972.0 3153550]\n",
      " [45 'New England' 'Vermont' 780.0 511.0 624358]\n",
      " [46 'South Atlantic' 'Virginia' 3928.0 2047.0 8501286]\n",
      " [47 'Pacific' 'Washington' 16424.0 5880.0 7523869]\n",
      " [48 'South Atlantic' 'West Virginia' 1021.0 222.0 1804291]\n",
      " [49 'East North Central' 'Wisconsin' 2740.0 2167.0 5807406]\n",
      " [50 'Mountain' 'Wyoming' 434.0 205.0 577601]]\n",
      "\n",
      "*************************\n",
      "\n",
      "Index(['Unnamed: 0', 'region', 'state', 'individuals', 'family_members',\n",
      "       'state_pop'],\n",
      "      dtype='object')\n",
      "\n",
      "*************************\n",
      "\n",
      "RangeIndex(start=0, stop=51, step=1)\n"
     ]
    }
   ],
   "source": [
    "import pandas as pd\n",
    "\n",
    "homelessness = pd.read_csv(\"homelessness.csv\")\n",
    "\n",
    "print(homelessness.head())\n",
    "print(\"\\n*************************\\n\")\n",
    "print(homelessness.tail())\n",
    "print(\"\\n*************************\\n\")\n",
    "print(homelessness.info())\n",
    "print(\"\\n*************************\\n\")\n",
    "print(homelessness.shape)\n",
    "print(\"\\n*************************\\n\")\n",
    "print(homelessness.describe())\n",
    "print(\"\\n*************************\\n\")\n",
    "print(homelessness.values)\n",
    "print(\"\\n*************************\\n\")\n",
    "print(homelessness.columns)\n",
    "print(\"\\n*************************\\n\")\n",
    "print(homelessness.index)"
   ]
  },
  {
   "cell_type": "markdown",
   "id": "ece1d59c",
   "metadata": {},
   "source": [
    "### < Sorting and Subsetting (Sıralama ve Alt Kümeleme) >  "
   ]
  },
  {
   "cell_type": "markdown",
   "id": "fb1d9cc3",
   "metadata": {},
   "source": [
    "+ pd.DataFrame.sort_values() -> DataFrame'deki istenilen sütunu artan veya azalan sırada sıralar.\n",
    "\n",
    "Tutorial Linki = https://pandas.pydata.org/docs/reference/api/pandas.DataFrame.sort_values.html"
   ]
  },
  {
   "cell_type": "markdown",
   "id": "e0d0358e",
   "metadata": {},
   "source": [
    "+ pd.DataFrame.isin() -> Kategorik bir değişkenin, birden çok değerini filtrelemek için kullanılır. Filtrelenecek değerlerin bir listesini alır. \n",
    "\n",
    "Tutorial Linki = https://pandas.pydata.org/docs/reference/api/pandas.DataFrame.isin.html"
   ]
  },
  {
   "cell_type": "markdown",
   "id": "aaed54b4",
   "metadata": {},
   "source": [
    "Aşağıdaki örnekte, yukarıda bahsettiğimiz \"xx.sort_values()\" işlevini \"homelessness\" değişkenine atadığımız \"homelessness.csv\" dosyası üzerinde deneyelim. "
   ]
  },
  {
   "cell_type": "code",
   "execution_count": 2,
   "id": "8469e89c",
   "metadata": {
    "scrolled": true
   },
   "outputs": [
    {
     "name": "stdout",
     "output_type": "stream",
     "text": [
      "    Unnamed: 0              region         state  individuals  family_members  \\\n",
      "50          50            Mountain       Wyoming        434.0           205.0   \n",
      "34          34  West North Central  North Dakota        467.0            75.0   \n",
      "7            7      South Atlantic      Delaware        708.0           374.0   \n",
      "39          39         New England  Rhode Island        747.0           354.0   \n",
      "45          45         New England       Vermont        780.0           511.0   \n",
      "\n",
      "    state_pop  \n",
      "50     577601  \n",
      "34     758080  \n",
      "7      965479  \n",
      "39    1058287  \n",
      "45     624358  \n",
      "\n",
      "*************************\n",
      "\n",
      "    Unnamed: 0              region          state  individuals  \\\n",
      "32          32        Mid-Atlantic       New York      39827.0   \n",
      "4            4             Pacific     California     109008.0   \n",
      "21          21         New England  Massachusetts       6811.0   \n",
      "9            9      South Atlantic        Florida      21443.0   \n",
      "43          43  West South Central          Texas      19199.0   \n",
      "\n",
      "    family_members  state_pop  \n",
      "32         52070.0   19530351  \n",
      "4          20964.0   39461588  \n",
      "21         13257.0    6882635  \n",
      "9           9587.0   21244317  \n",
      "43          6111.0   28628666  \n",
      "\n",
      "*************************\n",
      "\n",
      "    Unnamed: 0              region      state  individuals  family_members  \\\n",
      "13          13  East North Central   Illinois       6752.0          3891.0   \n",
      "35          35  East North Central       Ohio       6929.0          3320.0   \n",
      "22          22  East North Central   Michigan       5209.0          3142.0   \n",
      "49          49  East North Central  Wisconsin       2740.0          2167.0   \n",
      "14          14  East North Central    Indiana       3776.0          1482.0   \n",
      "\n",
      "    state_pop  \n",
      "13   12723071  \n",
      "35   11676341  \n",
      "22    9984072  \n",
      "49    5807406  \n",
      "14    6695497  \n"
     ]
    }
   ],
   "source": [
    "# \"individuals\" sütunundaki değerleri sıralıyoruz \n",
    "homelessness_ind = homelessness.sort_values(\"individuals\")\n",
    "print(homelessness_ind.head())\n",
    "\n",
    "print(\"\\n*************************\\n\")\n",
    "\n",
    "# \"family_members\" sütunundaki değerleri azalan sırada sıralıyoruz\n",
    "homelessness_fam = homelessness.sort_values(\"family_members\", ascending = False)\n",
    "print(homelessness_fam.head())\n",
    "\n",
    "print(\"\\n*************************\\n\")\n",
    "\n",
    "# \"region\" ve \"family_members\" sütunlarını aynı anda sıralıyoruz\n",
    "homelessness_reg_fam = homelessness.sort_values([\"region\", \"family_members\"], ascending = [True, False])\n",
    "print(homelessness_reg_fam.head())"
   ]
  },
  {
   "cell_type": "markdown",
   "id": "377bd9cb",
   "metadata": {},
   "source": [
    "Aşağıdaki örnekte \"homelessness\" DataFrame'i üzerinde subsetting (alt kümeleme) işlemleri yapalım."
   ]
  },
  {
   "cell_type": "code",
   "execution_count": 3,
   "id": "d10f10e1",
   "metadata": {
    "scrolled": true
   },
   "outputs": [
    {
     "name": "stdout",
     "output_type": "stream",
     "text": [
      "0      2570.0\n",
      "1      1434.0\n",
      "2      7259.0\n",
      "3      2280.0\n",
      "4    109008.0\n",
      "Name: individuals, dtype: float64\n",
      "\n",
      "**********************\n",
      "\n",
      "        state  family_members\n",
      "0     Alabama           864.0\n",
      "1      Alaska           582.0\n",
      "2     Arizona          2606.0\n",
      "3    Arkansas           432.0\n",
      "4  California         20964.0\n",
      "\n",
      "**********************\n",
      "\n",
      "    Unnamed: 0              region       state  individuals  family_members  \\\n",
      "4            4             Pacific  California     109008.0         20964.0   \n",
      "9            9      South Atlantic     Florida      21443.0          9587.0   \n",
      "32          32        Mid-Atlantic    New York      39827.0         52070.0   \n",
      "37          37             Pacific      Oregon      11139.0          3337.0   \n",
      "43          43  West South Central       Texas      19199.0          6111.0   \n",
      "47          47             Pacific  Washington      16424.0          5880.0   \n",
      "\n",
      "    state_pop  \n",
      "4    39461588  \n",
      "9    21244317  \n",
      "32   19530351  \n",
      "37    4181886  \n",
      "43   28628666  \n",
      "47    7523869  \n",
      "\n",
      "**********************\n",
      "\n",
      "    Unnamed: 0    region       state  individuals  family_members  state_pop\n",
      "2            2  Mountain     Arizona       7259.0          2606.0    7158024\n",
      "5            5  Mountain    Colorado       7607.0          3250.0    5691287\n",
      "12          12  Mountain       Idaho       1297.0           715.0    1750536\n",
      "26          26  Mountain     Montana        983.0           422.0    1060665\n",
      "28          28  Mountain      Nevada       7058.0           486.0    3027341\n",
      "31          31  Mountain  New Mexico       1949.0           602.0    2092741\n",
      "44          44  Mountain        Utah       1904.0           972.0    3153550\n",
      "50          50  Mountain     Wyoming        434.0           205.0     577601\n",
      "\n",
      "**********************\n",
      "\n",
      "   Unnamed: 0   region   state  individuals  family_members  state_pop\n",
      "1           1  Pacific  Alaska       1434.0           582.0     735139\n",
      "\n",
      "**********************\n",
      "\n",
      "    Unnamed: 0          region                 state  individuals  \\\n",
      "7            7  South Atlantic              Delaware        708.0   \n",
      "8            8  South Atlantic  District of Columbia       3770.0   \n",
      "9            9  South Atlantic               Florida      21443.0   \n",
      "10          10  South Atlantic               Georgia       6943.0   \n",
      "20          20  South Atlantic              Maryland       4914.0   \n",
      "30          30    Mid-Atlantic            New Jersey       6048.0   \n",
      "32          32    Mid-Atlantic              New York      39827.0   \n",
      "33          33  South Atlantic        North Carolina       6451.0   \n",
      "38          38    Mid-Atlantic          Pennsylvania       8163.0   \n",
      "40          40  South Atlantic        South Carolina       3082.0   \n",
      "46          46  South Atlantic              Virginia       3928.0   \n",
      "48          48  South Atlantic         West Virginia       1021.0   \n",
      "\n",
      "    family_members  state_pop  \n",
      "7            374.0     965479  \n",
      "8           3134.0     701547  \n",
      "9           9587.0   21244317  \n",
      "10          2556.0   10511131  \n",
      "20          2230.0    6035802  \n",
      "30          3350.0    8886025  \n",
      "32         52070.0   19530351  \n",
      "33          2817.0   10381615  \n",
      "38          5349.0   12800922  \n",
      "40           851.0    5084156  \n",
      "46          2047.0    8501286  \n",
      "48           222.0    1804291  \n"
     ]
    }
   ],
   "source": [
    "# \"individuals\" sütununu seçelim \n",
    "individuals = homelessness[\"individuals\"]\n",
    "print(individuals.head())\n",
    "\n",
    "print(\"\\n**********************\\n\")\n",
    "\n",
    "# \"state\" ve \"family_members\" sütunlarını seçelim \n",
    "state_fam = homelessness[[\"state\", \"family_members\"]]\n",
    "print(state_fam.head())\n",
    "\n",
    "print(\"\\n**********************\\n\")\n",
    "\n",
    "# \"individuals\" sütunundaki 10000'den büyük değerleri seçelim \n",
    "ind_gt_10k = homelessness[homelessness[\"individuals\"] > 10000]\n",
    "print(ind_gt_10k)\n",
    "\n",
    "print(\"\\n**********************\\n\")\n",
    "\n",
    "# \"region\" sütunundaki \"Mountain\" olan satırları seçelim\n",
    "mountain_reg = homelessness[homelessness[\"region\"] == \"Mountain\"]\n",
    "print(mountain_reg)\n",
    "\n",
    "print(\"\\n**********************\\n\")\n",
    "\n",
    "# \"family_members\" sütununun 1000'den az ve \"region\" sütununun \"Pacific\" olduğu satırları seçelim\n",
    "fam_lt_1k_pac = homelessness[(homelessness[\"family_members\"] < 1000) & (homelessness[\"region\"] == \"Pacific\")]\n",
    "print(fam_lt_1k_pac)\n",
    "\n",
    "print(\"\\n**********************\\n\")\n",
    "\n",
    "# \"South Atlantic\" veya \"Mid-Atlantic\" bölgelerindeki \"region\" için alt kümeleme yapalım\n",
    "south_mid_atlantic = homelessness[(homelessness[\"region\"] == \"South Atlantic\") | (homelessness[\"region\"] == \"Mid-Atlantic\")]\n",
    "print(south_mid_atlantic)"
   ]
  },
  {
   "cell_type": "markdown",
   "id": "a5c35613",
   "metadata": {},
   "source": [
    "Aşağıdaki örnekte, yukarıda bahsettiğimiz \"xx.isin()\" işlevini \"homelessness\" değişkeni üzerinde deneyelim. \"canu\" adlı değişkene bazı eyalet isimlerini liste içerisinde atayacağız. Ardından \"xx.isin()\" işlevi içerisine yazacağız ve eğer \"state\" adlı sütunda bu değerler varsa döndürülecek.  "
   ]
  },
  {
   "cell_type": "code",
   "execution_count": 4,
   "id": "686cc297",
   "metadata": {
    "scrolled": true
   },
   "outputs": [
    {
     "name": "stdout",
     "output_type": "stream",
     "text": [
      "    Unnamed: 0    region       state  individuals  family_members  state_pop\n",
      "2            2  Mountain     Arizona       7259.0          2606.0    7158024\n",
      "4            4   Pacific  California     109008.0         20964.0   39461588\n",
      "28          28  Mountain      Nevada       7058.0           486.0    3027341\n",
      "44          44  Mountain        Utah       1904.0           972.0    3153550\n"
     ]
    }
   ],
   "source": [
    "canu = [\"California\", \"Arizona\", \"Nevada\", \"Utah\"]\n",
    "mojave_homelessness = homelessness[homelessness[\"state\"].isin(canu)]\n",
    "print(mojave_homelessness)"
   ]
  },
  {
   "cell_type": "markdown",
   "id": "0e3dc16e",
   "metadata": {},
   "source": [
    "### < New Columns (Yeni Sütunlar) >"
   ]
  },
  {
   "cell_type": "markdown",
   "id": "aa3adbee",
   "metadata": {},
   "source": [
    "Genellikle DataFrame'ler ilk aldığımızda istediğimiz durumda değillerdir. Bu yüzden, mevcut sütunlardan türetilen yeni sütunlar eklememiz gerekebilir. "
   ]
  },
  {
   "cell_type": "markdown",
   "id": "df39fcf1",
   "metadata": {},
   "source": [
    "Aşağıdaki örnekte, \"homelessness\" DataFrame'ine \"total\" adlı, \"individuals\" ve \"family_members\" sütununlarının toplamını içeren yeni bir sütun ekleyelim. Ardından \"p_individuals\" adlı, \"individuals\" ve \"total\" sütunlarının bölümünü içeren yeni bir sütun daha ekleyelim."
   ]
  },
  {
   "cell_type": "code",
   "execution_count": 5,
   "id": "b264f4d3",
   "metadata": {
    "scrolled": true
   },
   "outputs": [
    {
     "name": "stdout",
     "output_type": "stream",
     "text": [
      "    Unnamed: 0              region                 state  individuals  \\\n",
      "0            0  East South Central               Alabama       2570.0   \n",
      "1            1             Pacific                Alaska       1434.0   \n",
      "2            2            Mountain               Arizona       7259.0   \n",
      "3            3  West South Central              Arkansas       2280.0   \n",
      "4            4             Pacific            California     109008.0   \n",
      "5            5            Mountain              Colorado       7607.0   \n",
      "6            6         New England           Connecticut       2280.0   \n",
      "7            7      South Atlantic              Delaware        708.0   \n",
      "8            8      South Atlantic  District of Columbia       3770.0   \n",
      "9            9      South Atlantic               Florida      21443.0   \n",
      "10          10      South Atlantic               Georgia       6943.0   \n",
      "11          11             Pacific                Hawaii       4131.0   \n",
      "12          12            Mountain                 Idaho       1297.0   \n",
      "13          13  East North Central              Illinois       6752.0   \n",
      "14          14  East North Central               Indiana       3776.0   \n",
      "15          15  West North Central                  Iowa       1711.0   \n",
      "16          16  West North Central                Kansas       1443.0   \n",
      "17          17  East South Central              Kentucky       2735.0   \n",
      "18          18  West South Central             Louisiana       2540.0   \n",
      "19          19         New England                 Maine       1450.0   \n",
      "20          20      South Atlantic              Maryland       4914.0   \n",
      "21          21         New England         Massachusetts       6811.0   \n",
      "22          22  East North Central              Michigan       5209.0   \n",
      "23          23  West North Central             Minnesota       3993.0   \n",
      "24          24  East South Central           Mississippi       1024.0   \n",
      "25          25  West North Central              Missouri       3776.0   \n",
      "26          26            Mountain               Montana        983.0   \n",
      "27          27  West North Central              Nebraska       1745.0   \n",
      "28          28            Mountain                Nevada       7058.0   \n",
      "29          29         New England         New Hampshire        835.0   \n",
      "30          30        Mid-Atlantic            New Jersey       6048.0   \n",
      "31          31            Mountain            New Mexico       1949.0   \n",
      "32          32        Mid-Atlantic              New York      39827.0   \n",
      "33          33      South Atlantic        North Carolina       6451.0   \n",
      "34          34  West North Central          North Dakota        467.0   \n",
      "35          35  East North Central                  Ohio       6929.0   \n",
      "36          36  West South Central              Oklahoma       2823.0   \n",
      "37          37             Pacific                Oregon      11139.0   \n",
      "38          38        Mid-Atlantic          Pennsylvania       8163.0   \n",
      "39          39         New England          Rhode Island        747.0   \n",
      "40          40      South Atlantic        South Carolina       3082.0   \n",
      "41          41  West North Central          South Dakota        836.0   \n",
      "42          42  East South Central             Tennessee       6139.0   \n",
      "43          43  West South Central                 Texas      19199.0   \n",
      "44          44            Mountain                  Utah       1904.0   \n",
      "45          45         New England               Vermont        780.0   \n",
      "46          46      South Atlantic              Virginia       3928.0   \n",
      "47          47             Pacific            Washington      16424.0   \n",
      "48          48      South Atlantic         West Virginia       1021.0   \n",
      "49          49  East North Central             Wisconsin       2740.0   \n",
      "50          50            Mountain               Wyoming        434.0   \n",
      "\n",
      "    family_members  state_pop     total  p_individuals  \n",
      "0            864.0    4887681    3434.0       0.748398  \n",
      "1            582.0     735139    2016.0       0.711310  \n",
      "2           2606.0    7158024    9865.0       0.735834  \n",
      "3            432.0    3009733    2712.0       0.840708  \n",
      "4          20964.0   39461588  129972.0       0.838704  \n",
      "5           3250.0    5691287   10857.0       0.700654  \n",
      "6           1696.0    3571520    3976.0       0.573441  \n",
      "7            374.0     965479    1082.0       0.654344  \n",
      "8           3134.0     701547    6904.0       0.546060  \n",
      "9           9587.0   21244317   31030.0       0.691041  \n",
      "10          2556.0   10511131    9499.0       0.730919  \n",
      "11          2399.0    1420593    6530.0       0.632619  \n",
      "12           715.0    1750536    2012.0       0.644632  \n",
      "13          3891.0   12723071   10643.0       0.634408  \n",
      "14          1482.0    6695497    5258.0       0.718144  \n",
      "15          1038.0    3148618    2749.0       0.622408  \n",
      "16           773.0    2911359    2216.0       0.651173  \n",
      "17           953.0    4461153    3688.0       0.741594  \n",
      "18           519.0    4659690    3059.0       0.830337  \n",
      "19          1066.0    1339057    2516.0       0.576312  \n",
      "20          2230.0    6035802    7144.0       0.687850  \n",
      "21         13257.0    6882635   20068.0       0.339396  \n",
      "22          3142.0    9984072    8351.0       0.623758  \n",
      "23          3250.0    5606249    7243.0       0.551291  \n",
      "24           328.0    2981020    1352.0       0.757396  \n",
      "25          2107.0    6121623    5883.0       0.641849  \n",
      "26           422.0    1060665    1405.0       0.699644  \n",
      "27           676.0    1925614    2421.0       0.720777  \n",
      "28           486.0    3027341    7544.0       0.935578  \n",
      "29           615.0    1353465    1450.0       0.575862  \n",
      "30          3350.0    8886025    9398.0       0.643541  \n",
      "31           602.0    2092741    2551.0       0.764014  \n",
      "32         52070.0   19530351   91897.0       0.433387  \n",
      "33          2817.0   10381615    9268.0       0.696051  \n",
      "34            75.0     758080     542.0       0.861624  \n",
      "35          3320.0   11676341   10249.0       0.676066  \n",
      "36          1048.0    3940235    3871.0       0.729269  \n",
      "37          3337.0    4181886   14476.0       0.769481  \n",
      "38          5349.0   12800922   13512.0       0.604130  \n",
      "39           354.0    1058287    1101.0       0.678474  \n",
      "40           851.0    5084156    3933.0       0.783626  \n",
      "41           323.0     878698    1159.0       0.721311  \n",
      "42          1744.0    6771631    7883.0       0.778764  \n",
      "43          6111.0   28628666   25310.0       0.758554  \n",
      "44           972.0    3153550    2876.0       0.662031  \n",
      "45           511.0     624358    1291.0       0.604183  \n",
      "46          2047.0    8501286    5975.0       0.657406  \n",
      "47          5880.0    7523869   22304.0       0.736370  \n",
      "48           222.0    1804291    1243.0       0.821400  \n",
      "49          2167.0    5807406    4907.0       0.558386  \n",
      "50           205.0     577601     639.0       0.679186  \n"
     ]
    }
   ],
   "source": [
    "homelessness[\"total\"] = homelessness[\"individuals\"] + homelessness[\"family_members\"]\n",
    "homelessness[\"p_individuals\"] = homelessness[\"individuals\"] / homelessness[\"total\"]\n",
    "print(homelessness)"
   ]
  },
  {
   "cell_type": "markdown",
   "id": "fecf4a84",
   "metadata": {},
   "source": [
    "# Aggregating DataFrames (Veri Çerçevelerini Toplama) "
   ]
  },
  {
   "cell_type": "markdown",
   "id": "c0253262",
   "metadata": {},
   "source": [
    "Bu bölümde, DataFrame sütunlarında özet istatistikleri ve ana gruplandırılmış özet istatistikleri ve pivot tabloları hesaplayacağız."
   ]
  },
  {
   "cell_type": "markdown",
   "id": "099b5f11",
   "metadata": {},
   "source": [
    "### < Summary Statistics (Özet İstatistikler) > "
   ]
  },
  {
   "cell_type": "markdown",
   "id": "9e148e2d",
   "metadata": {},
   "source": [
    "+ pd.DataFrame.mean() -> İstenen sütundaki değerlerin ortalamasını döndürün.\n",
    "\n",
    "Tutorial Linki = https://pandas.pydata.org/pandas-docs/stable/reference/api/pandas.DataFrame.mean.html?highlight=mean#pandas.DataFrame.mean"
   ]
  },
  {
   "cell_type": "markdown",
   "id": "c5153c70",
   "metadata": {},
   "source": [
    "+ pd.DataFrame.median() -> İstenen sütundaki değerlerin medyanını döndürün\n",
    "\n",
    "Tutorial Linki = https://pandas.pydata.org/pandas-docs/stable/reference/api/pandas.DataFrame.median.html?highlight=median"
   ]
  },
  {
   "cell_type": "markdown",
   "id": "b0edce17",
   "metadata": {},
   "source": [
    "+ pd.DataFrame.mode() -> İstenen sütunun mod değerini/lerini döndürün\n",
    "\n",
    "Tutorial Linki = https://pandas.pydata.org/pandas-docs/stable/reference/api/pandas.DataFrame.mode.html?highlight=mode"
   ]
  },
  {
   "cell_type": "markdown",
   "id": "5e89eb3b",
   "metadata": {},
   "source": [
    "+ pd.DataFrame.min() -> İstenen sütundaki minimum değeri döndürün\n",
    "\n",
    "Tutorial Linki = https://pandas.pydata.org/pandas-docs/stable/reference/api/pandas.DataFrame.min.html?highlight=min#pandas.DataFrame.min"
   ]
  },
  {
   "cell_type": "markdown",
   "id": "90e46a72",
   "metadata": {},
   "source": [
    "+ pd.DataFrame.max() -> İstenen sütundaki maximum değeri döndürün \n",
    "\n",
    "Tutorial Linki = https://pandas.pydata.org/pandas-docs/stable/reference/api/pandas.DataFrame.max.html?highlight=max#pandas.DataFrame.max"
   ]
  },
  {
   "cell_type": "markdown",
   "id": "0da41741",
   "metadata": {},
   "source": [
    "+ pd.DataFrame.var() -> İstenen sütunun varyans değerini döndürün. Varsayılan olarak N-1 tarafından normalize edilmiştir. Bu, ddof argümanı kullanılarak değiştirilebilir. \n",
    "\n",
    "Tutorial Linki = https://pandas.pydata.org/pandas-docs/stable/reference/api/pandas.DataFrame.var.html?highlight=var#pandas.DataFrame.var"
   ]
  },
  {
   "cell_type": "markdown",
   "id": "f466c683",
   "metadata": {},
   "source": [
    "+ pd.DataFrame.std() -> İstenen sütunun standart sapmasını döndürün. Varsayılan olarak N-1 tarafından normalize edilmiştir. Bu, ddof argümanı kullanılarak değiştirilebilir.\n",
    "\n",
    "Tutorial Linki = https://pandas.pydata.org/pandas-docs/stable/reference/api/pandas.DataFrame.std.html?highlight=std#pandas.DataFrame.std"
   ]
  },
  {
   "cell_type": "markdown",
   "id": "9fd5a7fd",
   "metadata": {},
   "source": [
    "+ pd.DataFrame.sum() -> İstenen sütundaki değerlerin toplamını döndürün\n",
    "\n",
    "Tutorial Linki = https://pandas.pydata.org/pandas-docs/stable/reference/api/pandas.DataFrame.sum.html?highlight=sum#pandas.DataFrame.sum"
   ]
  },
  {
   "cell_type": "markdown",
   "id": "1339028a",
   "metadata": {},
   "source": [
    "+ pd.DataFrame.quantile() -> İstenen sütundaki değerlerin çeyreklik değerlerini döndürün\n",
    "\n",
    "Tutorial Linki = https://pandas.pydata.org/pandas-docs/stable/reference/api/pandas.DataFrame.quantile.html?highlight=quantile#pandas.DataFrame.quantile"
   ]
  },
  {
   "cell_type": "markdown",
   "id": "70d49b3d",
   "metadata": {},
   "source": [
    "+ pd.DataFrame.cumsum() -> Bir DataFrame veya Series ekseni üzerinden kümülatif toplamı döndürün. Kümülatif toplamı içeren aynı boyutta bir DataFrame veya Series döndürür.\n",
    "\n",
    "Tutorial Linki = https://pandas.pydata.org/pandas-docs/stable/reference/api/pandas.DataFrame.cumsum.html?highlight=cumsum#pandas.DataFrame.cumsum"
   ]
  },
  {
   "cell_type": "markdown",
   "id": "32294331",
   "metadata": {},
   "source": [
    "+ pd.DataFrame.cummax() -> Bir DataFrame veya Series ekseni üzerinden kümülatif maksimum değeri döndürün. Kümülatif maksimumu içeren aynı boyutta bir DataFrame veya Series döndürür.\n",
    "\n",
    "Tutorial Linki = https://pandas.pydata.org/pandas-docs/stable/reference/api/pandas.DataFrame.cummax.html?highlight=cummax#pandas.DataFrame.cummax"
   ]
  },
  {
   "cell_type": "markdown",
   "id": "2cb250b5",
   "metadata": {},
   "source": [
    "+ pd.DataFrame.cummin() -> Bir DataFrame veya Series ekseni üzerinden kümülatif minimum değeri döndürün. Kümülatif minimum değeri içeren aynı boyutta bir DataFrame veya Series döndürür.\n",
    "\n",
    "Tutorial Linki = https://pandas.pydata.org/pandas-docs/stable/reference/api/pandas.DataFrame.cummin.html?highlight=cummin#pandas.DataFrame.cummin"
   ]
  },
  {
   "cell_type": "markdown",
   "id": "237ddced",
   "metadata": {},
   "source": [
    "+ pd.DataFrame.cumprod() -> Kümülatif ürünü bir DataFrame veya Series ekseni üzerinden döndürün. Kümülatif ürünü içeren aynı boyutta bir DataFrame veya Series döndürür.\n",
    "\n",
    "Tutorial Linki = https://pandas.pydata.org/pandas-docs/stable/reference/api/pandas.DataFrame.cumprod.html?highlight=cumprod#pandas.DataFrame.cumprod"
   ]
  },
  {
   "cell_type": "markdown",
   "id": "5aa30d1e",
   "metadata": {},
   "source": [
    "+ pd.DataFrame.agg() -> Belirtilen sütunda bir veya daha fazla işlem yaparak toplama yapın.\n",
    "\n",
    "Tutorial Linki = https://pandas.pydata.org/pandas-docs/stable/reference/api/pandas.DataFrame.agg.html?highlight=agg#pandas.DataFrame.agg"
   ]
  },
  {
   "cell_type": "markdown",
   "id": "99561b88",
   "metadata": {},
   "source": [
    "Aşağıdaki örnekte, yukarıda bahsettiğimiz işlevleri \"sales_subset.csv\" dosyası üzerinde deneyelim. İlk olarak DataFrame hakkında bilgi edinelim."
   ]
  },
  {
   "cell_type": "code",
   "execution_count": 6,
   "id": "87e37972",
   "metadata": {
    "scrolled": true
   },
   "outputs": [
    {
     "name": "stdout",
     "output_type": "stream",
     "text": [
      "   Unnamed: 0  store type  department        date  weekly_sales  is_holiday  \\\n",
      "0           0      1    A           1  2010-02-05      24924.50       False   \n",
      "1           1      1    A           1  2010-03-05      21827.90       False   \n",
      "2           2      1    A           1  2010-04-02      57258.43       False   \n",
      "3           3      1    A           1  2010-05-07      17413.94       False   \n",
      "4           4      1    A           1  2010-06-04      17558.09       False   \n",
      "\n",
      "   temperature_c  fuel_price_usd_per_l  unemployment  \n",
      "0       5.727778              0.679451         8.106  \n",
      "1       8.055556              0.693452         8.106  \n",
      "2      16.816667              0.718284         7.808  \n",
      "3      22.527778              0.748928         7.808  \n",
      "4      27.050000              0.714586         7.808  \n",
      "\n",
      "*******************\n",
      "\n",
      "       Unnamed: 0  store type  department        date  weekly_sales  \\\n",
      "10769       10769     39    A          99  2011-12-09        895.00   \n",
      "10770       10770     39    A          99  2012-02-03        350.00   \n",
      "10771       10771     39    A          99  2012-06-08        450.00   \n",
      "10772       10772     39    A          99  2012-07-13          0.06   \n",
      "10773       10773     39    A          99  2012-10-05        915.00   \n",
      "\n",
      "       is_holiday  temperature_c  fuel_price_usd_per_l  unemployment  \n",
      "10769       False       9.644444              0.834256         7.716  \n",
      "10770       False      15.938889              0.887619         7.244  \n",
      "10771       False      27.288889              0.911922         6.989  \n",
      "10772       False      25.644444              0.860145         6.623  \n",
      "10773       False      22.250000              0.955511         6.228  \n",
      "\n",
      "*******************\n",
      "\n",
      "<class 'pandas.core.frame.DataFrame'>\n",
      "RangeIndex: 10774 entries, 0 to 10773\n",
      "Data columns (total 10 columns):\n",
      " #   Column                Non-Null Count  Dtype  \n",
      "---  ------                --------------  -----  \n",
      " 0   Unnamed: 0            10774 non-null  int64  \n",
      " 1   store                 10774 non-null  int64  \n",
      " 2   type                  10774 non-null  object \n",
      " 3   department            10774 non-null  int64  \n",
      " 4   date                  10774 non-null  object \n",
      " 5   weekly_sales          10774 non-null  float64\n",
      " 6   is_holiday            10774 non-null  bool   \n",
      " 7   temperature_c         10774 non-null  float64\n",
      " 8   fuel_price_usd_per_l  10774 non-null  float64\n",
      " 9   unemployment          10774 non-null  float64\n",
      "dtypes: bool(1), float64(4), int64(3), object(2)\n",
      "memory usage: 768.2+ KB\n",
      "None\n"
     ]
    }
   ],
   "source": [
    "import pandas as pd \n",
    "\n",
    "sales = pd.read_csv(\"sales_subset.csv\")\n",
    "print(sales.head())\n",
    "print(\"\\n*******************\\n\")\n",
    "print(sales.tail())\n",
    "print(\"\\n*******************\\n\")\n",
    "print(sales.info())"
   ]
  },
  {
   "cell_type": "code",
   "execution_count": 7,
   "id": "065a0bd8",
   "metadata": {
    "scrolled": true
   },
   "outputs": [
    {
     "name": "stdout",
     "output_type": "stream",
     "text": [
      "15.44189715982922\n",
      "\n",
      "*********************\n",
      "\n",
      "13.0\n",
      "\n",
      "*********************\n",
      "\n",
      "0    13\n",
      "dtype: int64\n",
      "\n",
      "*********************\n",
      "\n",
      "39 1\n",
      "\n",
      "*********************\n",
      "\n",
      "133.04493897912664\n",
      "\n",
      "*********************\n",
      "\n",
      "11.534510781958923\n",
      "\n",
      "*********************\n",
      "\n",
      "13.0\n"
     ]
    }
   ],
   "source": [
    "# mean() kullanımı\n",
    "print(sales[\"store\"].mean())\n",
    "\n",
    "print(\"\\n*********************\\n\")\n",
    "# median() kullanımı\n",
    "print(sales[\"store\"].median())\n",
    "\n",
    "print(\"\\n*********************\\n\")\n",
    "# mode() kullanımı\n",
    "print(sales[\"store\"].mode())\n",
    "\n",
    "print(\"\\n*********************\\n\")\n",
    "# max() ve min() kullanımı\n",
    "print(sales[\"store\"].max(), sales[\"store\"].min())\n",
    "\n",
    "print(\"\\n*********************\\n\")\n",
    "# var() kullanımı\n",
    "print(sales[\"store\"].var())\n",
    "\n",
    "print(\"\\n*********************\\n\")\n",
    "# std() kullanımı\n",
    "print(sales[\"store\"].std())\n",
    "\n",
    "print(\"\\n*********************\\n\")\n",
    "# quantile() kullanımı \n",
    "print(sales[\"store\"].quantile())"
   ]
  },
  {
   "cell_type": "markdown",
   "id": "ea5751af",
   "metadata": {},
   "source": [
    "### < Counting (Sayma, Sayım) > "
   ]
  },
  {
   "cell_type": "markdown",
   "id": "207edbf9",
   "metadata": {},
   "source": [
    "Kategorik verileri ayıklamak için kullanılan bazı işlevler vardır. "
   ]
  },
  {
   "cell_type": "markdown",
   "id": "50fd584f",
   "metadata": {},
   "source": [
    "+ pd.DataFrame.drop_duplicates() -> DataFrame'de yinelenen satırlar kaldırılmış olarak DataFrame'i döndürür. Belirli sütunları dikkate almak isteğe bağlıdır. Zaman indeksleri de dahil olmak üzere indeksler dikkate alınmaz. Aynı isimde farklı veriler olabilir. Bu yüzden bu işlevi kullanırken bu noktaya dikkat etmek gerekir.\n",
    "\n",
    "Tutorial Linki = https://pandas.pydata.org/docs/reference/api/pandas.DataFrame.drop_duplicates.html"
   ]
  },
  {
   "cell_type": "markdown",
   "id": "d2d5d550",
   "metadata": {},
   "source": [
    "+ pd.DataFrame.value_counts() -> DataFrame'de benzersiz satırların sayısını içeren bir Seri döndürün. \"sort\" argümanı, en büyük sayıya sahip olan veriyi en üste almak için kullanılabilir. \"normalize\" argümanı, sayıları toplamın oranlarına dönüştürmek için kullanılabilir. \n",
    "\n",
    "Tutorial Linki = https://pandas.pydata.org/docs/reference/api/pandas.DataFrame.value_counts.html?highlight=value_counts"
   ]
  },
  {
   "cell_type": "markdown",
   "id": "dd3119c1",
   "metadata": {},
   "source": [
    "Aşağıdaki örnekte, \"sales\" adlı değişken üzerinde yukarıdaki \"xx.drop_duplicates()\" işlevini uygulayalım. "
   ]
  },
  {
   "cell_type": "code",
   "execution_count": 8,
   "id": "f5b5f0de",
   "metadata": {
    "scrolled": true
   },
   "outputs": [
    {
     "name": "stdout",
     "output_type": "stream",
     "text": [
      "      Unnamed: 0  store type  department        date  weekly_sales  \\\n",
      "0              0      1    A           1  2010-02-05      24924.50   \n",
      "901          901      2    A           1  2010-02-05      35034.06   \n",
      "1798        1798      4    A           1  2010-02-05      38724.42   \n",
      "2699        2699      6    A           1  2010-02-05      25619.00   \n",
      "3593        3593     10    B           1  2010-02-05      40212.84   \n",
      "\n",
      "      is_holiday  temperature_c  fuel_price_usd_per_l  unemployment  \n",
      "0          False       5.727778              0.679451         8.106  \n",
      "901        False       4.550000              0.679451         8.324  \n",
      "1798       False       6.533333              0.686319         8.623  \n",
      "2699       False       4.683333              0.679451         7.259  \n",
      "3593       False      12.411111              0.782478         9.765  \n",
      "\n",
      "*******************\n",
      "\n",
      "    Unnamed: 0  store type  department        date  weekly_sales  is_holiday  \\\n",
      "0            0      1    A           1  2010-02-05      24924.50       False   \n",
      "12          12      1    A           2  2010-02-05      50605.27       False   \n",
      "24          24      1    A           3  2010-02-05      13740.12       False   \n",
      "36          36      1    A           4  2010-02-05      39954.04       False   \n",
      "48          48      1    A           5  2010-02-05      32229.38       False   \n",
      "\n",
      "    temperature_c  fuel_price_usd_per_l  unemployment  \n",
      "0        5.727778              0.679451         8.106  \n",
      "12       5.727778              0.679451         8.106  \n",
      "24       5.727778              0.679451         8.106  \n",
      "36       5.727778              0.679451         8.106  \n",
      "48       5.727778              0.679451         8.106  \n",
      "\n",
      "*******************\n",
      "\n",
      "498     2010-09-10\n",
      "691     2011-11-25\n",
      "2315    2010-02-12\n",
      "6735    2012-09-07\n",
      "6810    2010-12-31\n",
      "6815    2012-02-10\n",
      "6820    2011-09-09\n",
      "Name: date, dtype: object\n"
     ]
    }
   ],
   "source": [
    "# Tekrar eden store/type kombinasyonlarını bırakalım\n",
    "store_types = sales.drop_duplicates(subset=[\"store\", \"type\"])\n",
    "print(store_types.head())\n",
    "print(\"\\n*******************\\n\")\n",
    "\n",
    "# Tekrar eden store/department kombinasyonlarını bırakalım \n",
    "store_depts = sales.drop_duplicates(subset=[\"store\", \"department\"])\n",
    "print(store_depts.head())\n",
    "print(\"\\n*******************\\n\")\n",
    "\n",
    "# is_holiday'in True olduğu satırları alt kümeleyin ve yinelenen tarihleri bıraklım\n",
    "holiday_dates = sales[sales[\"is_holiday\"]].drop_duplicates(subset=\"date\")\n",
    "\n",
    "# holiday_dates'in, date sütununu yazdıralım \n",
    "print(holiday_dates[\"date\"])"
   ]
  },
  {
   "cell_type": "markdown",
   "id": "e7ba6b59",
   "metadata": {},
   "source": [
    "Aşağıdaki örnekte, \"sales\" adlı değişken üzerinde yukarıdaki \"xx.value_counts()\" işlevini uygulayalım."
   ]
  },
  {
   "cell_type": "code",
   "execution_count": 9,
   "id": "d5d99186",
   "metadata": {
    "scrolled": true
   },
   "outputs": [
    {
     "name": "stdout",
     "output_type": "stream",
     "text": [
      "A    11\n",
      "B     1\n",
      "Name: type, dtype: int64\n",
      "\n",
      "***********************\n",
      "\n",
      "A    0.916667\n",
      "B    0.083333\n",
      "Name: type, dtype: float64\n",
      "\n",
      "***********************\n",
      "\n",
      "1     12\n",
      "55    12\n",
      "72    12\n",
      "71    12\n",
      "67    12\n",
      "      ..\n",
      "37    10\n",
      "48     8\n",
      "50     6\n",
      "39     4\n",
      "43     2\n",
      "Name: department, Length: 80, dtype: int64\n",
      "\n",
      "***********************\n",
      "\n",
      "1     0.012917\n",
      "55    0.012917\n",
      "72    0.012917\n",
      "71    0.012917\n",
      "67    0.012917\n",
      "        ...   \n",
      "37    0.010764\n",
      "48    0.008611\n",
      "50    0.006459\n",
      "39    0.004306\n",
      "43    0.002153\n",
      "Name: department, Length: 80, dtype: float64\n"
     ]
    }
   ],
   "source": [
    "# Her türdeki mağaza sayısını döndürelim\n",
    "store_counts = store_types[\"type\"].value_counts()\n",
    "print(store_counts)\n",
    "print(\"\\n***********************\\n\")\n",
    "\n",
    "# Her türdeki mağaza oranını döndürelim\n",
    "store_props = store_types[\"type\"].value_counts(normalize=True)\n",
    "print(store_props)\n",
    "print(\"\\n***********************\\n\")\n",
    "\n",
    "# Her departman numarasını sayalım ve sıralayalım \n",
    "dept_counts_sorted = store_depts[\"department\"].value_counts(sort=True)\n",
    "print(dept_counts_sorted)\n",
    "print(\"\\n***********************\\n\")\n",
    "\n",
    "# Her sayının bölümlerinin oranını alalım ve sıralayalım\n",
    "dept_props_sorted = store_depts[\"department\"].value_counts(sort=True, normalize=True)\n",
    "print(dept_props_sorted)"
   ]
  },
  {
   "cell_type": "markdown",
   "id": "ed9251b7",
   "metadata": {},
   "source": [
    "### < Grouped Summary Statistics (Gruplandırılmış Özet İstatistikler) > "
   ]
  },
  {
   "cell_type": "markdown",
   "id": "de7be3b1",
   "metadata": {},
   "source": [
    "Kategorik verilerin başka bir sütunda karşılık gelen değerlerini gruplandırmak için tek tek kod yazmak yerine kullanabileceğimiz bir işlev vardır. "
   ]
  },
  {
   "cell_type": "markdown",
   "id": "1ef0ee26",
   "metadata": {},
   "source": [
    "+ pd.DataFrame.groupby() -> DataFrame'i bir eşleyici kullanarak veya bir dizi sütuna göre gruplandırın. Groupby işlemi, nesneyi bölme, bir işlev uygulama ve sonuçları birleştirmenin bir kombinasyonunu içerir. Bu, büyük miktarda veriyi gruplandırmak ve bu gruplar üzerindeki hesaplama işlemlerini yapmak için kullanılabilir. \n",
    "\n",
    "Tutorial Linki = https://pandas.pydata.org/docs/reference/api/pandas.DataFrame.groupby.html"
   ]
  },
  {
   "cell_type": "markdown",
   "id": "a682f303",
   "metadata": {},
   "source": [
    "Aşağıdaki örnekte, \"xx.groupby()\" işlevini kullanmadan gruplandırma işlemi (bir sütundaki değerlerin başka bir sütundaki karşılık gelen değerler ile gruplandırma) yapmak için ne kadar çok kod yazmamız gerektiğini ve bunun ne kadar karmaşık olduğuna dikkat edelim. "
   ]
  },
  {
   "cell_type": "code",
   "execution_count": 10,
   "id": "867ac4f3",
   "metadata": {},
   "outputs": [
    {
     "name": "stdout",
     "output_type": "stream",
     "text": [
      "[0.9097747 0.0902253 0.       ]\n"
     ]
    }
   ],
   "source": [
    "# Toplam haftalık satışları hesaplayalım\n",
    "sales_all = sales[\"weekly_sales\"].sum()\n",
    "\n",
    "# A tipi mağazalardaki toplam haftalık satışları hesaplayalım\n",
    "sales_A = sales[sales[\"type\"] == \"A\"][\"weekly_sales\"].sum()\n",
    "\n",
    "# B tipi mağazalardaki toplam haftalık satışları hesaplayalım\n",
    "sales_B = sales[sales[\"type\"] == \"B\"][\"weekly_sales\"].sum()\n",
    "\n",
    "# C tipi mağazalardaki toplam haftalık satışları hesaplayalım\n",
    "sales_C = sales[sales[\"type\"] == \"C\"][\"weekly_sales\"].sum()\n",
    "\n",
    "# Her tür için oran hesaplayalım\n",
    "sales_propn_by_type = [sales_A, sales_B, sales_C] / sales_all\n",
    "print(sales_propn_by_type)"
   ]
  },
  {
   "cell_type": "markdown",
   "id": "d84fc242",
   "metadata": {},
   "source": [
    "Aşağıdaki örnekte, yukarıdaki kod bloğunda yaptığımız işlemleri \"xx.groupby()\" işlevi ile yapalım. A,B ve C tipi mağazalar için ayrı ayrı yazdığımız kodları sadece tek bir satırda yapmamıza olanak sağlayacak. (Veri setinde C tipi mağaza olmadığı için onunla ilgili bir sonuç gelmeyecek)"
   ]
  },
  {
   "cell_type": "code",
   "execution_count": 11,
   "id": "8373b675",
   "metadata": {},
   "outputs": [
    {
     "name": "stdout",
     "output_type": "stream",
     "text": [
      "type\n",
      "A    0.909775\n",
      "B    0.090225\n",
      "Name: weekly_sales, dtype: float64\n",
      "\n",
      "*******************\n",
      "\n",
      "type  is_holiday\n",
      "A     False         2.336927e+08\n",
      "      True          2.360181e+04\n",
      "B     False         2.317678e+07\n",
      "      True          1.621410e+03\n",
      "Name: weekly_sales, dtype: float64\n"
     ]
    }
   ],
   "source": [
    "# Türe göre gruplandıralım; toplam haftalık satışları hesaplayalım\n",
    "sales_by_type = sales.groupby(\"type\")[\"weekly_sales\"].sum()\n",
    "\n",
    "# Her tür için oran alalım\n",
    "sales_propn_by_type = sales_by_type / sum(sales_by_type)\n",
    "print(sales_propn_by_type)\n",
    "\n",
    "print(\"\\n*******************\\n\")\n",
    "\n",
    "# type ve is_holiday'e göre gruplandıralım; toplam haftalık satışları hesaplayalım\n",
    "sales_by_type_is_holiday = sales.groupby([\"type\", \"is_holiday\"])[\"weekly_sales\"].sum()\n",
    "print(sales_by_type_is_holiday)"
   ]
  },
  {
   "cell_type": "markdown",
   "id": "d289e4a3",
   "metadata": {},
   "source": [
    "Aşağıdaki örnekte, \"type\" sütunundaki her bir türe karşılık gelen \"weekly_sales\" sütunundaki değerleri \"xx.groupby()\" işlevi ile gruplandırıp \"xx.agg()\" işlevi ile bu gruplara Numpy'ın \"min, max, mean, median\" işlevlerini uygulayalım."
   ]
  },
  {
   "cell_type": "code",
   "execution_count": 12,
   "id": "b53ebc63",
   "metadata": {
    "scrolled": false
   },
   "outputs": [
    {
     "name": "stdout",
     "output_type": "stream",
     "text": [
      "        amin       amax          mean    median\n",
      "type                                           \n",
      "A    -1098.0  293966.05  23674.667242  11943.92\n",
      "B     -798.0  232558.51  25696.678370  13336.08\n",
      "\n",
      "***************\n",
      "\n",
      "     unemployment                         fuel_price_usd_per_l            \\\n",
      "             amin   amax      mean median                 amin      amax   \n",
      "type                                                                       \n",
      "A           3.879  8.992  7.972611  8.067             0.664129  1.107410   \n",
      "B           7.170  9.765  9.279323  9.199             0.760023  1.107674   \n",
      "\n",
      "                          \n",
      "          mean    median  \n",
      "type                      \n",
      "A     0.744619  0.735455  \n",
      "B     0.805858  0.803348  \n"
     ]
    }
   ],
   "source": [
    "# Numpy'ı içe aktaralım \n",
    "import numpy as np\n",
    "\n",
    "# Her mağaza türü için weekly_sales'i toplayalım: minimum, maksimum, ortalama ve medyanı hesaplayalım\n",
    "sales_stats = sales.groupby(\"type\")[\"weekly_sales\"].agg([np.min, np.max, np.mean, np.median])\n",
    "\n",
    "# sales_stats'ı yazdıralım\n",
    "print(sales_stats)\n",
    "\n",
    "print(\"\\n***************\\n\")\n",
    "\n",
    "# Her mağaza türü için, unemployment ve fuel_price_usd_per_l için: min, maks, ortalama ve medyanı alın\n",
    "unemp_fuel_stats = sales.groupby(\"type\")[[\"unemployment\", \"fuel_price_usd_per_l\"]].agg([np.min, np.max, np.mean, np.median])\n",
    "\n",
    "# Print unemp_fuel_stats\n",
    "print(unemp_fuel_stats)"
   ]
  },
  {
   "cell_type": "markdown",
   "id": "4f23fc96",
   "metadata": {},
   "source": [
    "### < Pivot Tables (Pivot Tabloları) >  "
   ]
  },
  {
   "cell_type": "markdown",
   "id": "e0de385b",
   "metadata": {},
   "source": [
    "Kategorik veriler için Pandas'ın \"xx.pivot_table()\" işlevi ile DataFrame olarak elektronik tablo stilinde bir pivot tablo oluşturulabilir. Aslında yukarıda \"xx.groupby()\" işlevi ile yaptığımız işlemleri sadece \"xx.pivot_table()\" işlevi ile yapıyoruz."
   ]
  },
  {
   "cell_type": "markdown",
   "id": "c445d140",
   "metadata": {},
   "source": [
    "+ pd.pivot_table() -> DataFrame olarak elektronik tablo stilinde bir pivot tablo oluşturun. Pivot tablodaki düzeyler, sonuç DataFrame'in dizini ve sütunları üzerindeki MultiIndex nesnelerinde (hiyerarşik dizinler) saklanacaktır. \n",
    "\n",
    "Tutorial Linki = https://pandas.pydata.org/docs/reference/api/pandas.pivot_table.html"
   ]
  },
  {
   "cell_type": "markdown",
   "id": "c5f0ca12",
   "metadata": {},
   "source": [
    "Aşağıdaki örnekte \"xx.pivot_table()\" işlevini kullanalım."
   ]
  },
  {
   "cell_type": "code",
   "execution_count": 13,
   "id": "f81887da",
   "metadata": {
    "scrolled": true
   },
   "outputs": [
    {
     "name": "stdout",
     "output_type": "stream",
     "text": [
      "      weekly_sales\n",
      "type              \n",
      "A     23674.667242\n",
      "B     25696.678370\n",
      "\n",
      "****************\n",
      "\n",
      "              mean       median\n",
      "      weekly_sales weekly_sales\n",
      "type                           \n",
      "A     23674.667242     11943.92\n",
      "B     25696.678370     13336.08\n",
      "\n",
      "****************\n",
      "\n",
      "is_holiday         False       True\n",
      "type                               \n",
      "A           23768.583523  590.04525\n",
      "B           25751.980533  810.70500\n",
      "\n",
      "****************\n",
      "\n",
      "department            1              2             3             4   \\\n",
      "type                                                                  \n",
      "A           30961.725379   67600.158788  17160.002955  44285.399091   \n",
      "B           44050.626667  112958.526667  30580.655000  51219.654167   \n",
      "\n",
      "department            5             6             7             8   \\\n",
      "type                                                                 \n",
      "A           34821.011364   7136.292652  38454.336818  48583.475303   \n",
      "B           63236.875000  10717.297500  52909.653333  90733.753333   \n",
      "\n",
      "department            9             10  ...            90            91  \\\n",
      "type                                    ...                               \n",
      "A           30120.449924  30930.456364  ...  85776.905909  70423.165227   \n",
      "B           66679.301667  48595.126667  ...  14780.210000  13199.602500   \n",
      "\n",
      "department             92            93            94             95  \\\n",
      "type                                                                   \n",
      "A           139722.204773  53413.633939  60081.155303  123933.787121   \n",
      "B            50859.278333   1466.274167    161.445833   77082.102500   \n",
      "\n",
      "department            96            97            98          99  \n",
      "type                                                              \n",
      "A           21367.042857  28471.266970  12875.423182  379.123659  \n",
      "B            9528.538333   5828.873333    217.428333    0.000000  \n",
      "\n",
      "[2 rows x 80 columns]\n",
      "\n",
      "****************\n",
      "\n",
      "type                   A              B           All\n",
      "department                                           \n",
      "1           30961.725379   44050.626667  32052.467153\n",
      "2           67600.158788  112958.526667  71380.022778\n",
      "3           17160.002955   30580.655000  18278.390625\n",
      "4           44285.399091   51219.654167  44863.253681\n",
      "5           34821.011364   63236.875000  37189.000000\n",
      "...                  ...            ...           ...\n",
      "96          21367.042857    9528.538333  20337.607681\n",
      "97          28471.266970    5828.873333  26584.400833\n",
      "98          12875.423182     217.428333  11820.590278\n",
      "99            379.123659       0.000000    379.123659\n",
      "All         23674.667242   25696.678370  23843.950149\n",
      "\n",
      "[81 rows x 3 columns]\n"
     ]
    }
   ],
   "source": [
    "# Her mağaza türü için ortalama \"weekly_sales\"i bulalım\n",
    "mean_sales_by_type = sales.pivot_table(values = \"weekly_sales\", index = \"type\")\n",
    "print(mean_sales_by_type)\n",
    "\n",
    "print(\"\\n****************\\n\")\n",
    "\n",
    "# Her mağaza türü için ortalama ve medyanı aggfunc argümanı ile bulalım\n",
    "mean_med_sales_by_type = sales.pivot_table(values = \"weekly_sales\", index = \"type\", aggfunc = [np.mean, np.median])\n",
    "print(mean_med_sales_by_type)\n",
    "\n",
    "print(\"\\n****************\\n\")\n",
    "\n",
    "# Mağaza türüne ve \"is_holiday\"e göre ortalama haftalık satışlar için pivot\n",
    "mean_sales_by_type_holiday = sales.pivot_table(values = \"weekly_sales\", index = \"type\", columns = \"is_holiday\")\n",
    "print(mean_sales_by_type_holiday)\n",
    "\n",
    "print(\"\\n****************\\n\")\n",
    "\n",
    "# Departmana ve türe göre ortalama weekly_sales'i yazdıralım; eksik değerleri 0 ile dolduralım\n",
    "print(sales.pivot_table(values = \"weekly_sales\", index = \"type\", columns = \"department\", fill_value=0))\n",
    "\n",
    "print(\"\\n****************\\n\")\n",
    "\n",
    "# Ortalama haftalık satışları departmana ve türe göre yazdırın; eksik değerleri 0'larla doldurun; tüm satırları ve sütunları topla\n",
    "print(sales.pivot_table(values=\"weekly_sales\", index=\"department\", columns=\"type\", fill_value = 0, margins = True))"
   ]
  },
  {
   "cell_type": "markdown",
   "id": "3854f5d2",
   "metadata": {},
   "source": [
    "# Slicing and Indexing DataFrames (DataFrame'leri Dilimleme ve İndeksleme) "
   ]
  },
  {
   "cell_type": "markdown",
   "id": "46ee96eb",
   "metadata": {},
   "source": [
    "İndeksler, güçlendirilmiş satır ve sütun adlarıdır. Güçlü DataFrame altkümesi için dilimleme ile nasıl birleştirilebileceklerini öğrenelim."
   ]
  },
  {
   "cell_type": "markdown",
   "id": "613bd454",
   "metadata": {},
   "source": [
    "### < Explicit Indexes (Belirgin İndeksler) >  "
   ]
  },
  {
   "cell_type": "markdown",
   "id": "c6953604",
   "metadata": {},
   "source": [
    "DataFrame'de düzenleme yapmak, sütunların yerini değiştirmek, verilere erişmek vs. için bazı işlevler vardır."
   ]
  },
  {
   "cell_type": "markdown",
   "id": "a4420fde",
   "metadata": {},
   "source": [
    "+ pd.DataFrame.set_index() -> Mevcut sütunları kullanarak DataFrame dizinini ayarlayın. Bir veya daha fazla mevcut sütun veya diziyi (doğru uzunlukta) kullanarak DataFrame dizinini (satır etiketleri) ayarlayın. Dizin, mevcut dizini değiştirebilir veya genişletebilir. Bir sütunun yerini değiştiriyor esasında.\n",
    "\n",
    "Tutorial Linki = https://pandas.pydata.org/docs/reference/api/pandas.DataFrame.set_index.html"
   ]
  },
  {
   "cell_type": "markdown",
   "id": "9e6950b5",
   "metadata": {},
   "source": [
    "+ pd.DataFrame.reset_index() -> Yukarıdaki \"xx.set_index()\" işlevi ile yapılan işlemi sıfırlar.\n",
    "\n",
    "Tutorial Linki = https://pandas.pydata.org/docs/reference/api/pandas.DataFrame.reset_index.html"
   ]
  },
  {
   "cell_type": "markdown",
   "id": "fa8a5e41",
   "metadata": {},
   "source": [
    "+ pd.DataFrame.loc[ ] -> Etiketlere veya bir boole dizisine göre bir satır ve sütun grubuna erişin. .loc[ ], öncelikle etiket tabanlıdır, ancak bir boole dizisiyle de kullanılabilir.\n",
    "\n",
    "Tutorial Linki = https://pandas.pydata.org/docs/reference/api/pandas.DataFrame.loc.html"
   ]
  },
  {
   "cell_type": "markdown",
   "id": "a56e8678",
   "metadata": {},
   "source": [
    "+ pd.DataFrame.sort_index() -> Sütunları dizin değerlerine göre sıralar. Varsayılan olarak tüm dizin düzeylerini dıştan içe doğru artan düzende sıralar.  \n",
    "\n",
    "Tutorial Linki = https://pandas.pydata.org/docs/reference/api/pandas.DataFrame.sort_index.html"
   ]
  },
  {
   "cell_type": "markdown",
   "id": "7c0cc3f5",
   "metadata": {},
   "source": [
    "Aşağıdaki örnekte, yukarıda bahsettiğimiz işlevleri ve işlevlerin argümanlarının kullanımlarını \"temperatures.csv\" adlı dosya üzerinde deneyelim."
   ]
  },
  {
   "cell_type": "code",
   "execution_count": 14,
   "id": "c6fb6d14",
   "metadata": {
    "scrolled": true
   },
   "outputs": [
    {
     "name": "stdout",
     "output_type": "stream",
     "text": [
      "       Unnamed: 0        date     city        country  avg_temp_c\n",
      "0               0  2000-01-01  Abidjan  Côte D'Ivoire      27.293\n",
      "1               1  2000-02-01  Abidjan  Côte D'Ivoire      27.685\n",
      "2               2  2000-03-01  Abidjan  Côte D'Ivoire      29.061\n",
      "3               3  2000-04-01  Abidjan  Côte D'Ivoire      28.162\n",
      "4               4  2000-05-01  Abidjan  Côte D'Ivoire      27.547\n",
      "...           ...         ...      ...            ...         ...\n",
      "16495       16495  2013-05-01     Xian          China      18.979\n",
      "16496       16496  2013-06-01     Xian          China      23.522\n",
      "16497       16497  2013-07-01     Xian          China      25.251\n",
      "16498       16498  2013-08-01     Xian          China      24.528\n",
      "16499       16499  2013-09-01     Xian          China         NaN\n",
      "\n",
      "[16500 rows x 5 columns]\n",
      "\n",
      "****************\n",
      "\n",
      "         Unnamed: 0        date        country  avg_temp_c\n",
      "city                                                      \n",
      "Abidjan           0  2000-01-01  Côte D'Ivoire      27.293\n",
      "Abidjan           1  2000-02-01  Côte D'Ivoire      27.685\n",
      "Abidjan           2  2000-03-01  Côte D'Ivoire      29.061\n",
      "Abidjan           3  2000-04-01  Côte D'Ivoire      28.162\n",
      "Abidjan           4  2000-05-01  Côte D'Ivoire      27.547\n",
      "...             ...         ...            ...         ...\n",
      "Xian          16495  2013-05-01          China      18.979\n",
      "Xian          16496  2013-06-01          China      23.522\n",
      "Xian          16497  2013-07-01          China      25.251\n",
      "Xian          16498  2013-08-01          China      24.528\n",
      "Xian          16499  2013-09-01          China         NaN\n",
      "\n",
      "[16500 rows x 4 columns]\n",
      "\n",
      "****************\n",
      "\n",
      "          city  Unnamed: 0        date        country  avg_temp_c\n",
      "0      Abidjan           0  2000-01-01  Côte D'Ivoire      27.293\n",
      "1      Abidjan           1  2000-02-01  Côte D'Ivoire      27.685\n",
      "2      Abidjan           2  2000-03-01  Côte D'Ivoire      29.061\n",
      "3      Abidjan           3  2000-04-01  Côte D'Ivoire      28.162\n",
      "4      Abidjan           4  2000-05-01  Côte D'Ivoire      27.547\n",
      "...        ...         ...         ...            ...         ...\n",
      "16495     Xian       16495  2013-05-01          China      18.979\n",
      "16496     Xian       16496  2013-06-01          China      23.522\n",
      "16497     Xian       16497  2013-07-01          China      25.251\n",
      "16498     Xian       16498  2013-08-01          China      24.528\n",
      "16499     Xian       16499  2013-09-01          China         NaN\n",
      "\n",
      "[16500 rows x 5 columns]\n",
      "\n",
      "****************\n",
      "\n",
      "       Unnamed: 0        date        country  avg_temp_c\n",
      "0               0  2000-01-01  Côte D'Ivoire      27.293\n",
      "1               1  2000-02-01  Côte D'Ivoire      27.685\n",
      "2               2  2000-03-01  Côte D'Ivoire      29.061\n",
      "3               3  2000-04-01  Côte D'Ivoire      28.162\n",
      "4               4  2000-05-01  Côte D'Ivoire      27.547\n",
      "...           ...         ...            ...         ...\n",
      "16495       16495  2013-05-01          China      18.979\n",
      "16496       16496  2013-06-01          China      23.522\n",
      "16497       16497  2013-07-01          China      25.251\n",
      "16498       16498  2013-08-01          China      24.528\n",
      "16499       16499  2013-09-01          China         NaN\n",
      "\n",
      "[16500 rows x 4 columns]\n",
      "\n",
      "****************\n",
      "\n",
      "       Unnamed: 0        date              city country  avg_temp_c\n",
      "10725       10725  2000-01-01            Moscow  Russia      -7.313\n",
      "10726       10726  2000-02-01            Moscow  Russia      -3.551\n",
      "10727       10727  2000-03-01            Moscow  Russia      -1.661\n",
      "10728       10728  2000-04-01            Moscow  Russia      10.096\n",
      "10729       10729  2000-05-01            Moscow  Russia      10.357\n",
      "...           ...         ...               ...     ...         ...\n",
      "13360       13360  2013-05-01  Saint Petersburg  Russia      12.355\n",
      "13361       13361  2013-06-01  Saint Petersburg  Russia      17.185\n",
      "13362       13362  2013-07-01  Saint Petersburg  Russia      17.234\n",
      "13363       13363  2013-08-01  Saint Petersburg  Russia      17.153\n",
      "13364       13364  2013-09-01  Saint Petersburg  Russia         NaN\n",
      "\n",
      "[330 rows x 5 columns]\n",
      "\n",
      "****************\n",
      "\n",
      "                  Unnamed: 0        date country  avg_temp_c\n",
      "city                                                        \n",
      "Moscow                 10725  2000-01-01  Russia      -7.313\n",
      "Moscow                 10726  2000-02-01  Russia      -3.551\n",
      "Moscow                 10727  2000-03-01  Russia      -1.661\n",
      "Moscow                 10728  2000-04-01  Russia      10.096\n",
      "Moscow                 10729  2000-05-01  Russia      10.357\n",
      "...                      ...         ...     ...         ...\n",
      "Saint Petersburg       13360  2013-05-01  Russia      12.355\n",
      "Saint Petersburg       13361  2013-06-01  Russia      17.185\n",
      "Saint Petersburg       13362  2013-07-01  Russia      17.234\n",
      "Saint Petersburg       13363  2013-08-01  Russia      17.153\n",
      "Saint Petersburg       13364  2013-09-01  Russia         NaN\n",
      "\n",
      "[330 rows x 4 columns]\n",
      "\n",
      "****************\n",
      "\n",
      "                         Unnamed: 0        date  avg_temp_c\n",
      "country  city                                              \n",
      "Brazil   Rio De Janeiro       12540  2000-01-01      25.974\n",
      "         Rio De Janeiro       12541  2000-02-01      26.699\n",
      "         Rio De Janeiro       12542  2000-03-01      26.270\n",
      "         Rio De Janeiro       12543  2000-04-01      25.750\n",
      "         Rio De Janeiro       12544  2000-05-01      24.356\n",
      "...                             ...         ...         ...\n",
      "Pakistan Lahore                8575  2013-05-01      33.457\n",
      "         Lahore                8576  2013-06-01      34.456\n",
      "         Lahore                8577  2013-07-01      33.279\n",
      "         Lahore                8578  2013-08-01      31.511\n",
      "         Lahore                8579  2013-09-01         NaN\n",
      "\n",
      "[330 rows x 3 columns]\n",
      "\n",
      "****************\n",
      "\n",
      "                    Unnamed: 0        date  avg_temp_c\n",
      "country     city                                      \n",
      "Afghanistan Kabul         7260  2000-01-01       3.326\n",
      "            Kabul         7261  2000-02-01       3.454\n",
      "            Kabul         7262  2000-03-01       9.612\n",
      "            Kabul         7263  2000-04-01      17.925\n",
      "            Kabul         7264  2000-05-01      24.658\n",
      "...                        ...         ...         ...\n",
      "Zimbabwe    Harare        5605  2013-05-01      18.298\n",
      "            Harare        5606  2013-06-01      17.020\n",
      "            Harare        5607  2013-07-01      16.299\n",
      "            Harare        5608  2013-08-01      19.232\n",
      "            Harare        5609  2013-09-01         NaN\n",
      "\n",
      "[16500 rows x 3 columns]\n",
      "\n",
      "****************\n",
      "\n",
      "                       Unnamed: 0        date  avg_temp_c\n",
      "country       city                                       \n",
      "Côte D'Ivoire Abidjan           0  2000-01-01      27.293\n",
      "              Abidjan           1  2000-02-01      27.685\n",
      "              Abidjan           2  2000-03-01      29.061\n",
      "              Abidjan           3  2000-04-01      28.162\n",
      "              Abidjan           4  2000-05-01      27.547\n",
      "...                           ...         ...         ...\n",
      "China         Xian          16495  2013-05-01      18.979\n",
      "              Xian          16496  2013-06-01      23.522\n",
      "              Xian          16497  2013-07-01      25.251\n",
      "              Xian          16498  2013-08-01      24.528\n",
      "              Xian          16499  2013-09-01         NaN\n",
      "\n",
      "[16500 rows x 3 columns]\n",
      "\n",
      "****************\n",
      "\n",
      "                    Unnamed: 0        date  avg_temp_c\n",
      "country     city                                      \n",
      "Afghanistan Kabul         7260  2000-01-01       3.326\n",
      "            Kabul         7261  2000-02-01       3.454\n",
      "            Kabul         7262  2000-03-01       9.612\n",
      "            Kabul         7263  2000-04-01      17.925\n",
      "            Kabul         7264  2000-05-01      24.658\n",
      "...                        ...         ...         ...\n",
      "Zimbabwe    Harare        5605  2013-05-01      18.298\n",
      "            Harare        5606  2013-06-01      17.020\n",
      "            Harare        5607  2013-07-01      16.299\n",
      "            Harare        5608  2013-08-01      19.232\n",
      "            Harare        5609  2013-09-01         NaN\n",
      "\n",
      "[16500 rows x 3 columns]\n"
     ]
    }
   ],
   "source": [
    "import pandas as pd\n",
    "temperatures = pd.read_csv(\"temperatures.csv\")\n",
    "\n",
    "# temperatures DataFrame'ini inceleyelim\n",
    "print(temperatures)\n",
    "\n",
    "print(\"\\n****************\\n\")\n",
    "\n",
    "# city sütununu index olarak ayarlayalım \n",
    "temperatures_ind = temperatures.set_index(\"city\")\n",
    "print(temperatures_ind) # Dikkatli bakarsak city sütunun daha index kısmında yazdığını görürüz\n",
    "\n",
    "print(\"\\n****************\\n\")\n",
    "\n",
    "# reset_index() işlevini temperatures_ind'de kullanarak temperatures_ind'i eski haline getirelim\n",
    "print(temperatures_ind.reset_index())\n",
    "\n",
    "print(\"\\n****************\\n\")\n",
    "\n",
    "# reset_index(drop = True) argümanını kullanarak temperatures_ind'de index olarak ayarladığımız \"city\" sütununu bırakalım\n",
    "print(temperatures_ind.reset_index(drop = True))\n",
    "\n",
    "print(\"\\n****************\\n\")\n",
    "\n",
    "# cities adlı bir liste oluşturalım\n",
    "# bu listedeki elemanların \"city\" sütununda olup olmadığını uzun yoldan kontrol edelim\n",
    "cities = [\"Moscow\", \"Saint Petersburg\"]\n",
    "print(temperatures[temperatures[\"city\"].isin(cities)])\n",
    "\n",
    "print(\"\\n****************\\n\")\n",
    "\n",
    "# yukarıda uzun yoldan kontrol ettiğimiz cities listesindeki elemanları \"loc[]\" ile kolayca kontrol edelim\n",
    "print(temperatures_ind.loc[cities])\n",
    "\n",
    "print(\"\\n****************\\n\")\n",
    "\n",
    "# city ve country sütunlarını index yapalım\n",
    "# rows_to_keep adlı değişkene Brazil, Rio De Janeiro & Pakistan, Lahore'dan oluşan iki adet tuple atayalım\n",
    "# loc[] ile Brazil ülkesi, Rio De Janeiro şehri ve Pakistan ülkesi, Lahore şehri olan indexleri döndürelim\n",
    "temperatures_ind = temperatures.set_index([\"country\",\"city\"])\n",
    "rows_to_keep = [(\"Brazil\", \"Rio De Janeiro\"), (\"Pakistan\", \"Lahore\")]\n",
    "print(temperatures_ind.loc[rows_to_keep])\n",
    "\n",
    "print(\"\\n****************\\n\")\n",
    "\n",
    "# temperatures_ind'i indexe göre sıralayalım\n",
    "print(temperatures_ind.sort_index())\n",
    "\n",
    "print(\"\\n****************\\n\")\n",
    "\n",
    "# temperatures_ind'i şehir düzeyinde sıralayalım \n",
    "print(temperatures_ind.sort_index(level = \"city\"))\n",
    "\n",
    "print(\"\\n****************\\n\")\n",
    "\n",
    "# temperaturs_ind'i ülke düzeyinde, artan ve şehir düzeyinde, azalan olarak sıralayalım \n",
    "print(temperatures_ind.sort_index(level = [\"country\", \"city\"], ascending = [True, False]))"
   ]
  },
  {
   "cell_type": "markdown",
   "id": "212eee7d",
   "metadata": {},
   "source": [
    "### < Slicing and subsetting with .loc and .iloc (.loc ve .iloc ile dilimleme ve alt küme oluşturma) >  "
   ]
  },
  {
   "cell_type": "markdown",
   "id": "17e371fc",
   "metadata": {},
   "source": [
    "+ Dilimleme, nesnelerden ardışık öğeleri seçme tekniğidir. DataFrame'leri dilimleyebilirsiniz ancak önce dizini sıralamamız gerekir.    "
   ]
  },
  {
   "cell_type": "markdown",
   "id": "dc28c68c",
   "metadata": {},
   "source": [
    "+ \"xx.loc[ ]\" ile dilimlemenin, listeleri dilimlerken kullandığımız \"xx[:3]\" gibi tekniğe nazaran farkı: \n",
    "\n",
    "      -> Satır numaralarını belirtmek yerine dizin değerlerini belirtiriz. \n",
    "      -> Nihai değer ([:]'nın sağındaki eleman) dahil edilir. "
   ]
  },
  {
   "cell_type": "markdown",
   "id": "033c5964",
   "metadata": {},
   "source": [
    "+ \"xx.loc[ ]\" işlevi ile yapacağımız dilimleme, sadece DIŞ dizin seviyelerinde çalışır. (Yani en soldaki sütunda!!) Pandas, iç dizin seviyesindeki sütunlarda boş bir DataFrame döndürür ve hata vermez. Bu yüzden bunu kullanırken dikkatli olmalıyız."
   ]
  },
  {
   "cell_type": "markdown",
   "id": "96f9731b",
   "metadata": {},
   "source": [
    "+ İç dizin seviyelerindeki sütunlarla (Yani daha sağdaki sütunlar) dilimleme yapmak için, ilk ve son konumları Tuple olarak yazmak gerekir."
   ]
  },
  {
   "cell_type": "markdown",
   "id": "03a7f272",
   "metadata": {},
   "source": [
    "+ DataFrame'ler iki boyutlu nesneler olduğundan, listeleri dilimler gibi sütunları da dilimleyebiliriz. "
   ]
  },
  {
   "cell_type": "markdown",
   "id": "794af2bd",
   "metadata": {},
   "source": [
    "+ pd.DataFrame.iloc[ ] -> DataFrame'leri satır veya sütun numarasına göre dilimlemeyi sağlar. \n",
    "\n",
    "[     :     ,     :     ] row (satır) / column (sütun)\n",
    "\n",
    "Tutorial Linki = https://pandas.pydata.org/docs/reference/api/pandas.DataFrame.iloc.html"
   ]
  },
  {
   "cell_type": "markdown",
   "id": "7311eb19",
   "metadata": {},
   "source": [
    "Aşağıdaki örnekte, yukarıdaki maddelerin denemelerini yapalım. \"temperatures_ind\" adlı, city sütununu index olarak ayarladığımız DataFrame'i sort (sıralayarak) başlayacağız."
   ]
  },
  {
   "cell_type": "code",
   "execution_count": 15,
   "id": "6e7f881a",
   "metadata": {
    "scrolled": true
   },
   "outputs": [
    {
     "name": "stdout",
     "output_type": "stream",
     "text": [
      "                    Unnamed: 0        date  avg_temp_c\n",
      "country     city                                      \n",
      "Afghanistan Kabul         7260  2000-01-01       3.326\n",
      "            Kabul         7261  2000-02-01       3.454\n",
      "            Kabul         7262  2000-03-01       9.612\n",
      "            Kabul         7263  2000-04-01      17.925\n",
      "            Kabul         7264  2000-05-01      24.658\n",
      "...                        ...         ...         ...\n",
      "Zimbabwe    Harare        5605  2013-05-01      18.298\n",
      "            Harare        5606  2013-06-01      17.020\n",
      "            Harare        5607  2013-07-01      16.299\n",
      "            Harare        5608  2013-08-01      19.232\n",
      "            Harare        5609  2013-09-01         NaN\n",
      "\n",
      "[16500 rows x 3 columns]\n",
      "\n",
      "******************\n",
      "\n",
      "                           Unnamed: 0        date  avg_temp_c\n",
      "country  city                                                \n",
      "Pakistan Faisalabad              4785  2000-01-01      12.792\n",
      "         Faisalabad              4786  2000-02-01      14.339\n",
      "         Faisalabad              4787  2000-03-01      20.309\n",
      "         Faisalabad              4788  2000-04-01      29.072\n",
      "         Faisalabad              4789  2000-05-01      34.845\n",
      "...                               ...         ...         ...\n",
      "Russia   Saint Petersburg       13360  2013-05-01      12.355\n",
      "         Saint Petersburg       13361  2013-06-01      17.185\n",
      "         Saint Petersburg       13362  2013-07-01      17.234\n",
      "         Saint Petersburg       13363  2013-08-01      17.153\n",
      "         Saint Petersburg       13364  2013-09-01         NaN\n",
      "\n",
      "[1155 rows x 3 columns]\n",
      "\n",
      "******************\n",
      "\n",
      "                    Unnamed: 0        date  avg_temp_c\n",
      "country city                                          \n",
      "Mexico  Mexico           10230  2000-01-01      12.694\n",
      "        Mexico           10231  2000-02-01      14.677\n",
      "        Mexico           10232  2000-03-01      17.376\n",
      "        Mexico           10233  2000-04-01      18.294\n",
      "        Mexico           10234  2000-05-01      18.562\n",
      "...                        ...         ...         ...\n",
      "Morocco Casablanca        3130  2013-05-01      19.217\n",
      "        Casablanca        3131  2013-06-01      23.649\n",
      "        Casablanca        3132  2013-07-01      27.488\n",
      "        Casablanca        3133  2013-08-01      27.952\n",
      "        Casablanca        3134  2013-09-01         NaN\n",
      "\n",
      "[330 rows x 3 columns]\n",
      "\n",
      "******************\n",
      "\n",
      "                 Unnamed: 0        date  avg_temp_c\n",
      "country  city                                      \n",
      "Pakistan Lahore        8415  2000-01-01      12.792\n",
      "         Lahore        8416  2000-02-01      14.339\n",
      "         Lahore        8417  2000-03-01      20.309\n",
      "         Lahore        8418  2000-04-01      29.072\n",
      "         Lahore        8419  2000-05-01      34.845\n",
      "...                     ...         ...         ...\n",
      "Russia   Moscow       10885  2013-05-01      16.152\n",
      "         Moscow       10886  2013-06-01      18.718\n",
      "         Moscow       10887  2013-07-01      18.136\n",
      "         Moscow       10888  2013-08-01      17.485\n",
      "         Moscow       10889  2013-09-01         NaN\n",
      "\n",
      "[660 rows x 3 columns]\n",
      "\n",
      "******************\n",
      "\n",
      "                   Unnamed: 0        date  avg_temp_c\n",
      "country city                                         \n",
      "India   Hyderabad        5940  2000-01-01      23.779\n",
      "        Hyderabad        5941  2000-02-01      25.826\n",
      "        Hyderabad        5942  2000-03-01      28.821\n",
      "        Hyderabad        5943  2000-04-01      32.698\n",
      "        Hyderabad        5944  2000-05-01      32.438\n",
      "...                       ...         ...         ...\n",
      "Iraq    Baghdad          1150  2013-05-01      28.673\n",
      "        Baghdad          1151  2013-06-01      33.803\n",
      "        Baghdad          1152  2013-07-01      36.392\n",
      "        Baghdad          1153  2013-08-01      35.463\n",
      "        Baghdad          1154  2013-09-01         NaN\n",
      "\n",
      "[2145 rows x 3 columns]\n",
      "\n",
      "******************\n",
      "\n",
      "                          date  avg_temp_c\n",
      "country     city                          \n",
      "Afghanistan Kabul   2000-01-01       3.326\n",
      "            Kabul   2000-02-01       3.454\n",
      "            Kabul   2000-03-01       9.612\n",
      "            Kabul   2000-04-01      17.925\n",
      "            Kabul   2000-05-01      24.658\n",
      "...                        ...         ...\n",
      "Zimbabwe    Harare  2013-05-01      18.298\n",
      "            Harare  2013-06-01      17.020\n",
      "            Harare  2013-07-01      16.299\n",
      "            Harare  2013-08-01      19.232\n",
      "            Harare  2013-09-01         NaN\n",
      "\n",
      "[16500 rows x 2 columns]\n",
      "\n",
      "******************\n",
      "\n",
      "                         date  avg_temp_c\n",
      "country city                             \n",
      "India   Hyderabad  2000-01-01      23.779\n",
      "        Hyderabad  2000-02-01      25.826\n",
      "        Hyderabad  2000-03-01      28.821\n",
      "        Hyderabad  2000-04-01      32.698\n",
      "        Hyderabad  2000-05-01      32.438\n",
      "...                       ...         ...\n",
      "Iraq    Baghdad    2013-05-01      28.673\n",
      "        Baghdad    2013-06-01      33.803\n",
      "        Baghdad    2013-07-01      36.392\n",
      "        Baghdad    2013-08-01      35.463\n",
      "        Baghdad    2013-09-01         NaN\n",
      "\n",
      "[2145 rows x 2 columns]\n",
      "\n",
      "******************\n",
      "\n",
      "            Unnamed: 0        city    country  avg_temp_c\n",
      "date                                                     \n",
      "2010-01-01        4905  Faisalabad   Pakistan      11.810\n",
      "2010-01-01       10185   Melbourne  Australia      20.016\n",
      "2010-01-01        3750   Chongqing      China       7.921\n",
      "2010-01-01       13155   São Paulo     Brazil      23.738\n",
      "2010-01-01        5400   Guangzhou      China      14.136\n",
      "...                ...         ...        ...         ...\n",
      "2010-12-01        6896     Jakarta  Indonesia      26.602\n",
      "2010-12-01        5246       Gizeh      Egypt      16.530\n",
      "2010-12-01       11186      Nagpur      India      19.120\n",
      "2010-12-01       14981      Sydney  Australia      19.559\n",
      "2010-12-01       13496    Salvador     Brazil      26.265\n",
      "\n",
      "[1200 rows x 4 columns]\n",
      "\n",
      "******************\n",
      "\n",
      "            Unnamed: 0           city        country  avg_temp_c\n",
      "date                                                            \n",
      "2010-08-01        2602       Calcutta          India      30.226\n",
      "2010-08-01       12337           Pune          India      24.941\n",
      "2010-08-01        6562          Izmir         Turkey      28.352\n",
      "2010-08-01       15637        Tianjin          China      25.543\n",
      "2010-08-01        9862         Manila    Philippines      27.101\n",
      "...                ...            ...            ...         ...\n",
      "2011-01-01        4257  Dar Es Salaam       Tanzania      28.541\n",
      "2011-01-01       11352        Nairobi          Kenya      17.768\n",
      "2011-01-01         297    Addis Abeba       Ethiopia      17.708\n",
      "2011-01-01       11517        Nanjing          China       0.144\n",
      "2011-01-01       11847       New York  United States      -4.463\n",
      "\n",
      "[600 rows x 4 columns]\n",
      "\n",
      "******************\n",
      "\n",
      "Empty DataFrame\n",
      "Columns: [Unnamed: 0, date, city, country, avg_temp_c]\n",
      "Index: []\n",
      "\n",
      "******************\n",
      "\n",
      "   Unnamed: 0        date     city        country  avg_temp_c\n",
      "0           0  2000-01-01  Abidjan  Côte D'Ivoire      27.293\n",
      "1           1  2000-02-01  Abidjan  Côte D'Ivoire      27.685\n",
      "2           2  2000-03-01  Abidjan  Côte D'Ivoire      29.061\n",
      "3           3  2000-04-01  Abidjan  Côte D'Ivoire      28.162\n",
      "4           4  2000-05-01  Abidjan  Côte D'Ivoire      27.547\n",
      "\n",
      "******************\n",
      "\n",
      "          city        country\n",
      "0      Abidjan  Côte D'Ivoire\n",
      "1      Abidjan  Côte D'Ivoire\n",
      "2      Abidjan  Côte D'Ivoire\n",
      "3      Abidjan  Côte D'Ivoire\n",
      "4      Abidjan  Côte D'Ivoire\n",
      "...        ...            ...\n",
      "16495     Xian          China\n",
      "16496     Xian          China\n",
      "16497     Xian          China\n",
      "16498     Xian          China\n",
      "16499     Xian          China\n",
      "\n",
      "[16500 rows x 2 columns]\n",
      "\n",
      "******************\n",
      "\n",
      "      city        country\n",
      "0  Abidjan  Côte D'Ivoire\n",
      "1  Abidjan  Côte D'Ivoire\n",
      "2  Abidjan  Côte D'Ivoire\n",
      "3  Abidjan  Côte D'Ivoire\n",
      "4  Abidjan  Côte D'Ivoire\n"
     ]
    }
   ],
   "source": [
    "import pandas as pd \n",
    "\n",
    "temperatures_srt = temperatures_ind.sort_index()\n",
    "print(temperatures_srt)\n",
    "\n",
    "print(\"\\n******************\\n\")\n",
    "\n",
    "# Satırların Pakistan'dan, Rusya'ya kadar olan kısımlarını sıralayalım \n",
    "print(temperatures_srt.loc[\"Pakistan\":\"Russia\"])\n",
    "\n",
    "print(\"\\n******************\\n\")\n",
    "\n",
    "# Satırları Lahore'den, Moskova'ya olacak şekilde sıralamayı deneyelim\n",
    "# İÇ DİZİN seviyesini sıralamaya çalıştığımız için saçma bir şey döndürecektir\n",
    "print(temperatures_srt.loc[\"Lahore\":\"Moscow\"])\n",
    "\n",
    "print(\"\\n******************\\n\")\n",
    "\n",
    "# satırları (Pakistan, Lahore)'dan, (Rusya, Moskova)'ya sıralayalım\n",
    "# İÇ DİZİN seviyelerini sıraladığımız için Tuple içerisinde yazmamız gerek \n",
    "print(temperatures_srt.loc[(\"Pakistan\", \"Lahore\"):(\"Russia\", \"Moscow\")])\n",
    "\n",
    "print(\"\\n******************\\n\")\n",
    "\n",
    "# satırları (India, Hyderabad)'tan, (Iraq, Baghdad)'a sıralayalım\n",
    "print(temperatures_srt.loc[(\"India\",\"Hyderabad\"):(\"Iraq\",\"Baghdad\")])\n",
    "\n",
    "print(\"\\n******************\\n\")\n",
    "\n",
    "# sütunları \"date\"'ten \"avg_temp_c\"'e kadar sıralayalım \n",
    "print(temperatures_srt.loc[:, \"date\":\"avg_temp_c\"])\n",
    "\n",
    "print(\"\\n******************\\n\")\n",
    "\n",
    "# satırları (India, Hyderabad)'tan, (Iraq, Baghdad)'a kadar\n",
    "# sütunları \"date\"'ten \"avg_temp_c\"'e kadar sıralayalım\n",
    "print(temperatures_srt.loc[(\"India\",\"Hyderabad\"):(\"Iraq\",\"Baghdad\"), \"date\":\"avg_temp_c\"])\n",
    "\n",
    "print(\"\\n******************\\n\")\n",
    "\n",
    "# \"date\" sütununu \"xx.set_index()\" ile satır haline getirelim\n",
    "# \"xx.sort_index()\" ile sıralayalım\n",
    "temperatures_ind = temperatures.set_index(\"date\").sort_index()\n",
    "\n",
    "# temperatures_ind'in \"date\" satırındaki değerleri 2010'dan 2011'e kadar sıralayalım\n",
    "print(temperatures_ind.loc[\"2010\":\"2011\"])\n",
    "\n",
    "print(\"\\n******************\\n\")\n",
    "\n",
    "# temperatures_ind'in \"date\" satırındaki değerleri 2010 Ağustos'tan, 2011 Şubat'a kadar sıralayalım\n",
    "print(temperatures_ind.loc[\"2010-08\":\"2011-02\"])\n",
    "\n",
    "print(\"\\n******************\\n\")\n",
    "\n",
    "# 23. satır, 2. sütunu \"xx.iloc[]\" ile yazdıralım (index 22, 1)\n",
    "# None döndürecektir \n",
    "print(temperatures.iloc[22:1])\n",
    "\n",
    "print(\"\\n******************\\n\")\n",
    "\n",
    "# dilimleme yaparak ilk 5 satırı yazdıralım (bütün sütunlar dahil)\n",
    "print(temperatures.iloc[0:5,:])\n",
    "\n",
    "print(\"\\n******************\\n\")\n",
    "\n",
    "# dilimleme yaparak 3'ten 4. sütuna kadar yazdıralım (bütün satırlar dahil)\n",
    "print(temperatures.iloc[:, 2:4])\n",
    "\n",
    "print(\"\\n******************\\n\")\n",
    "\n",
    "# dilimleme yaparak ilk 5 satırı yazdıralım (bütün sütunlar dahil)\n",
    "# dilimleme yaparak 3'ten 4. sütuna kadar yazdıralım (bütün satırlar dahil)\n",
    "print(temperatures.iloc[0:5, 2:4])"
   ]
  },
  {
   "cell_type": "markdown",
   "id": "4f74e6ef",
   "metadata": {},
   "source": [
    "# Creating and Visualizing DataFrames (Veri Çerçevelerini Oluşturma ve Görselleştirme)"
   ]
  },
  {
   "cell_type": "markdown",
   "id": "669befdf",
   "metadata": {},
   "source": [
    "DataFrame'lerimizin içeriğini görselleştirmeyi, eksik veri değerlerini işlemeyi ve CSV dosyalarından veri içe aktarmayı ve bu dosyalara veri vermeyi öğrenelim."
   ]
  },
  {
   "cell_type": "markdown",
   "id": "750f9383",
   "metadata": {},
   "source": [
    "### < Visualizing Data (Verileri Görselleştirme) >  "
   ]
  },
  {
   "cell_type": "markdown",
   "id": "30cf3912",
   "metadata": {},
   "source": [
    "Grafikler, verilerimizden elde ettiğimiz içgörüleri paylaşmanın güçlü bir yoludur. Python'da verileri görselleştirmek için Matplotlib adlı kütüphaneyi kullanabiliriz. "
   ]
  },
  {
   "cell_type": "markdown",
   "id": "fd09a2fc",
   "metadata": {},
   "source": [
    "+ plt.show() -> Çizdirilen grafikleri gösterir. \n",
    "\n",
    "Tutorial Linki = https://matplotlib.org/stable/api/_as_gen/matplotlib.pyplot.show.html"
   ]
  },
  {
   "cell_type": "markdown",
   "id": "ac8b159d",
   "metadata": {},
   "source": [
    "+ plt.hist() -> Histogram grafiği çizer.\n",
    "\n",
    "      -> bins Argümanı : Çubuk veya kutu sayısı ayarlanılabilir \n",
    "\n",
    "Tutorial Linki = https://matplotlib.org/stable/api/_as_gen/matplotlib.pyplot.hist.html#matplotlib-pyplot-hist\n",
    "\n",
    "Histogram Grafiği : Sürekli nicel veriler için çizilen bir grafik türüdür. \n",
    "\n",
    "    -> Verilerin merkezinin yaklaşık olarak nerede olduğunu,\n",
    "    -> Verilerin yayılımını,\n",
    "    -> Dağılımın şeklini (simetrik, çarpık, basık, merkezde toplanmış, çan vb.) gösterir\n"
   ]
  },
  {
   "cell_type": "markdown",
   "id": "95bc50b6",
   "metadata": {},
   "source": [
    "+ plt.bar() -> Bar (Çubuk) grafiği çizer.\n",
    "\n",
    "Tutorial Linki = https://matplotlib.org/stable/api/_as_gen/matplotlib.pyplot.bar.html#matplotlib.pyplot.bar\n",
    "\n",
    "Bar Grafiği : Nitel verilerde kullanılan bir grafik türüdür.\n",
    "\n",
    "!!! Aynı zamanda aşağıdaki işlev, \"xx.plot()\" ile de bar grafiği çizilebilir."
   ]
  },
  {
   "cell_type": "markdown",
   "id": "ff0775a7",
   "metadata": {},
   "source": [
    "+ plt.plot() -> Line (Çizgi) grafiği çizer.\n",
    "\n",
    "      -> kind Argümanı : Çizilecek olan grafiğin türünü belirler. \"bar\" yazarsak bar grafiği çizecektir. \"scatter\", \"hist\",...     \n",
    "\n",
    "Tutorial Linki = https://matplotlib.org/stable/api/_as_gen/matplotlib.pyplot.plot.html#matplotlib.pyplot.plot\n",
    "\n",
    "Line Grafiği : Devam eden ya da belirli zaman aralığındaki “sayısal” değişimleri göstermek için kullanılır. Çizgi grafikler gruplandırıldığında, veriler arasındaki eğilimleri ve ilişkileri gösterir."
   ]
  },
  {
   "cell_type": "markdown",
   "id": "7f00719b",
   "metadata": {},
   "source": [
    "+ plt.scatter() -> Scatter (Dağılım) grafiği çizer.\n",
    "\n",
    "Tutorial Linki = https://matplotlib.org/stable/api/_as_gen/matplotlib.pyplot.scatter.html#matplotlib.pyplot.scatter\n",
    "\n",
    "Scatter Grafiği : İki sayısal değişken arasındaki ilişkiyi görselleştirmek için kullanılır. Bu grafik ile ilişkinin sebebini anlayamasak da, bir ilişki olup olmadığını ya da ilişkinin ne kadar güçlü olduğunu anlayabiliyoruz"
   ]
  },
  {
   "cell_type": "markdown",
   "id": "66268dc6",
   "metadata": {},
   "source": [
    "+ plt.legend() -> Hangi grafiğin hangi veri kümesine ait olduğunu belirtmemize yardımcı olur.\n",
    "\n",
    "Tutorial Linki = https://matplotlib.org/stable/api/_as_gen/matplotlib.pyplot.legend.html#matplotlib.pyplot.legend"
   ]
  },
  {
   "cell_type": "markdown",
   "id": "e01d190b",
   "metadata": {},
   "source": [
    "Aşağıdaki örnekte, yukarıdaki işlevleri \"avoplotto.pkl\" adlı dosya üzerinde deneyelim."
   ]
  },
  {
   "cell_type": "code",
   "execution_count": 16,
   "id": "3943ba52",
   "metadata": {
    "scrolled": true
   },
   "outputs": [
    {
     "name": "stdout",
     "output_type": "stream",
     "text": [
      "         date          type  year  avg_price   size     nb_sold\n",
      "0  2015-12-27  conventional  2015       0.95  small  9626901.09\n",
      "1  2015-12-20  conventional  2015       0.98  small  8710021.76\n",
      "2  2015-12-13  conventional  2015       0.93  small  9855053.66\n",
      "3  2015-12-06  conventional  2015       0.89  small  9405464.36\n",
      "4  2015-11-29  conventional  2015       0.99  small  8094803.56\n",
      "\n",
      "*************\n",
      "\n",
      "<class 'pandas.core.frame.DataFrame'>\n",
      "RangeIndex: 1014 entries, 0 to 1013\n",
      "Data columns (total 6 columns):\n",
      " #   Column     Non-Null Count  Dtype  \n",
      "---  ------     --------------  -----  \n",
      " 0   date       1014 non-null   object \n",
      " 1   type       1014 non-null   object \n",
      " 2   year       1014 non-null   int64  \n",
      " 3   avg_price  1014 non-null   float64\n",
      " 4   size       1014 non-null   object \n",
      " 5   nb_sold    1014 non-null   float64\n",
      "dtypes: float64(2), int64(1), object(3)\n",
      "memory usage: 47.7+ KB\n",
      "None\n",
      "\n",
      "*************\n",
      "\n",
      "(1014, 6)\n",
      "\n",
      "*************\n",
      "\n",
      "Index(['date', 'type', 'year', 'avg_price', 'size', 'nb_sold'], dtype='object')\n",
      "\n",
      "*************\n",
      "\n"
     ]
    },
    {
     "data": {
      "image/png": "[encoded data removed]",
      "text/plain": [
       "<Figure size 432x288 with 1 Axes>"
      ]
     },
     "metadata": {
      "needs_background": "light"
     },
     "output_type": "display_data"
    },
    {
     "name": "stdout",
     "output_type": "stream",
     "text": [
      "\n",
      "*************\n",
      "\n"
     ]
    },
    {
     "data": {
      "image/png": "[encoded data removed]",
      "text/plain": [
       "<Figure size 432x288 with 1 Axes>"
      ]
     },
     "metadata": {
      "needs_background": "light"
     },
     "output_type": "display_data"
    },
    {
     "name": "stdout",
     "output_type": "stream",
     "text": [
      "\n",
      "*************\n",
      "\n"
     ]
    },
    {
     "data": {
      "image/png": "[encoded data removed]",
      "text/plain": [
       "<Figure size 432x288 with 1 Axes>"
      ]
     },
     "metadata": {
      "needs_background": "light"
     },
     "output_type": "display_data"
    },
    {
     "name": "stdout",
     "output_type": "stream",
     "text": [
      "\n",
      "*************\n",
      "\n"
     ]
    },
    {
     "data": {
      "image/png": "[encoded data removed]",
      "text/plain": [
       "<Figure size 432x288 with 1 Axes>"
      ]
     },
     "metadata": {
      "needs_background": "light"
     },
     "output_type": "display_data"
    },
    {
     "name": "stdout",
     "output_type": "stream",
     "text": [
      "\n",
      "*************\n",
      "\n"
     ]
    },
    {
     "data": {
      "image/png": "[encoded data removed]",
      "text/plain": [
       "<Figure size 432x288 with 1 Axes>"
      ]
     },
     "metadata": {
      "needs_background": "light"
     },
     "output_type": "display_data"
    }
   ],
   "source": [
    "import pandas as pd \n",
    "import matplotlib.pyplot as plt \n",
    "\n",
    "avocados = pd.read_pickle(\"avoplotto.pkl\")\n",
    "\n",
    "# önce DataFrame hakkında bilgi edinelim \n",
    "print(avocados.head())\n",
    "print(\"\\n*************\\n\")\n",
    "print(avocados.info())\n",
    "print(\"\\n*************\\n\")\n",
    "print(avocados.shape)\n",
    "print(\"\\n*************\\n\")\n",
    "print(avocados.columns)\n",
    "\n",
    "print(\"\\n*************\\n\")\n",
    "\n",
    "# her boyutta satılan toplam avokado sayısını hesaplayalım\n",
    "nb_sold_by_size = avocados.groupby(\"size\")[\"nb_sold\"].sum()\n",
    "\n",
    "# boyuta göre satılan avokado sayısının bir çubuk grafiği oluşturalım\n",
    "nb_sold_by_size.plot(kind = \"bar\")\n",
    "\n",
    "# grafiği gösterelim\n",
    "plt.show()\n",
    "\n",
    "print(\"\\n*************\\n\")\n",
    "\n",
    "# her tarihte satılan toplam avokado sayısını hesaplayalım\n",
    "nb_sold_by_date = avocados.groupby(\"date\")[\"nb_sold\"].sum()\n",
    "\n",
    "# tarihe göre satılan avokado sayısının çizgi grafiğini oluşturalım\n",
    "nb_sold_by_date.plot()\n",
    "\n",
    "# grafiği gösterelim\n",
    "plt.show()\n",
    "\n",
    "print(\"\\n*************\\n\")\n",
    "\n",
    "# avg_price ve nb_sold sütunlarının dağılım grafiklerini çizdirelim\n",
    "# bunu \"xx.plot\" ile yapacağız\n",
    "# kind argümanına tablo türünü, x ve y argümanlarına eksenleri, title argümanına başlığı yazacağız\n",
    "avocados.plot(kind = \"scatter\", x = \"nb_sold\", y = \"avg_price\", title = \"Number of avocados sold vs. average price\")\n",
    "\n",
    "# grafiği gösterelim \n",
    "plt.show()\n",
    "\n",
    "print(\"\\n*************\\n\")\n",
    "\n",
    "# type sütunun conventional verilerinin, avg_price değerlerinin histogramı   \n",
    "avocados[avocados[\"type\"] == \"conventional\"][\"avg_price\"].hist()\n",
    "\n",
    "# type sütunun organic verilerinin, avg_price değerlerinin histogramı \n",
    "avocados[avocados[\"type\"] == \"organic\"][\"avg_price\"].hist()\n",
    "\n",
    "# hangi histogramın hangisine ait olduğunu gösterelim\n",
    "plt.legend([\"conventional\", \"organic\"])\n",
    "\n",
    "# grafiği gösterelim\n",
    "plt.show()\n",
    "\n",
    "print(\"\\n*************\\n\")\n",
    "\n",
    "# type sütunun conventional verilerinin, avg_price değerlerinin histogramı\n",
    "# alpha argümanını 0.5 ayarlayarak grafiği saydamlaştıralım\n",
    "# bins argümanını 20 ayarlayarak kullanılacak kutu sayısını belirleyelim\n",
    "avocados[avocados[\"type\"] == \"conventional\"][\"avg_price\"].hist(alpha=0.5, bins = 20)\n",
    "\n",
    "# type sütunun organic verilerinin, avg_price değerlerinin histogramı\n",
    "# alpha argümanını 0.5 ayarlayarak grafiği saydamlaştıralım\n",
    "# bins argümanını 20 ayarlayarak kullanılacak kutu sayısını belirleyelim\n",
    "avocados[avocados[\"type\"] == \"organic\"][\"avg_price\"].hist(alpha=0.5, bins = 20)\n",
    "\n",
    "# hangi histogramın hangisine ait olduğunu gösterelim\n",
    "plt.legend([\"conventional\", \"organic\"])\n",
    "\n",
    "# grafiği gösterelim\n",
    "plt.show()"
   ]
  },
  {
   "cell_type": "markdown",
   "id": "3d4efc16",
   "metadata": {},
   "source": [
    "### < Missing Values (Kayıp Değerler) >  "
   ]
  },
  {
   "cell_type": "markdown",
   "id": "59a362aa",
   "metadata": {},
   "source": [
    "Çoğu veri mükemmel değildir. Her zaman veri kümemizde bazı parçaların eksik olma olasılığı vardır. Kayıp değerlere sahip DataFramelerle uğraşmamız gerekebilir. Bu nedenle bunların nasıl ele alınacağını bilmek önemlidir. "
   ]
  },
  {
   "cell_type": "markdown",
   "id": "1b2e02e4",
   "metadata": {},
   "source": [
    "+ pd.DataFrame.isna() -> Missing (kayıp) değerleri tespit eder ancak veri sayısı fazla olan DataFrame'lerde pek işe yaramaz. Bu yüzden aşağıda bahsedeceğimiz \"xx.any()\" işlevini kullanırız.\n",
    "\n",
    "Tutorial Linki = https://pandas.pydata.org/docs/reference/api/pandas.DataFrame.isna.html"
   ]
  },
  {
   "cell_type": "markdown",
   "id": "0da835bd",
   "metadata": {},
   "source": [
    "+ pd.DataFrame.any() -> Potansiyel olarak bir eksen üzerinde herhangi bir öğenin True olup olmadığını döndürür.\n",
    "\n",
    "Tutorial Linki = https://pandas.pydata.org/docs/reference/api/pandas.DataFrame.any.html?highlight=any#pandas.DataFrame.any"
   ]
  },
  {
   "cell_type": "markdown",
   "id": "3e8f545c",
   "metadata": {},
   "source": [
    "+ Yukarıdaki \"xx.any()\" işlevi ile  kaç tane \"True\" olduğunu bilemeyiz. Bu yüzden \"xx.isna()\" işlevinin sonuna \"xx.sum()\" ekleyerek sütunda kaç tane True olduğunu göreceğiz."
   ]
  },
  {
   "cell_type": "markdown",
   "id": "ed7fd0e8",
   "metadata": {},
   "source": [
    "Yukarıdaki işlevlerle sütunlarda kaç tane NaN değer olduğunu bulduk. Şimdi de bunlardan nasıl kurtulabiliriz, bunu nasıl düzeltebiliriz ona bakalım."
   ]
  },
  {
   "cell_type": "markdown",
   "id": "ded7fc3d",
   "metadata": {},
   "source": [
    "1-) Pandas'ın \"xx.dropna()\" işlevi ile verileri bırakabiliriz.\n",
    "\n",
    "+ pd.DataFrame.dropna() -> Kayıp değerleri siler\n",
    "\n",
    "Tutorial Linki = https://pandas.pydata.org/docs/reference/api/pandas.DataFrame.dropna.html\n",
    "\n",
    "2-) Pandas'ın \"xx.fillna()\" işlevi ile kayıp değerleri başka bir değer ile değiştirebiliriz.\n",
    "\n",
    "+ pd.DataFrame.fillna() -> NA/NaN değerlerini belirtilen değer ile değiştirir.\n",
    "\n",
    "Tutorial Linki = https://pandas.pydata.org/docs/reference/api/pandas.DataFrame.fillna.html?highlight=fillna#pandas.DataFrame.fillna\n",
    "\n",
    "3-).... Daha birçok yöntem vardır. "
   ]
  },
  {
   "cell_type": "markdown",
   "id": "4df279f4",
   "metadata": {},
   "source": [
    "Aşağıdaki örnekte, yukarıda bahsettiğimiz işlevleri ve adımları \"food_coded.csv\" adlı dosya üzerinde uygulayalım."
   ]
  },
  {
   "cell_type": "code",
   "execution_count": 38,
   "id": "2032601d",
   "metadata": {
    "scrolled": true
   },
   "outputs": [
    {
     "name": "stdout",
     "output_type": "stream",
     "text": [
      "<class 'pandas.core.frame.DataFrame'>\n",
      "RangeIndex: 125 entries, 0 to 124\n",
      "Data columns (total 61 columns):\n",
      " #   Column                        Non-Null Count  Dtype  \n",
      "---  ------                        --------------  -----  \n",
      " 0   GPA                           123 non-null    object \n",
      " 1   Gender                        125 non-null    int64  \n",
      " 2   breakfast                     125 non-null    int64  \n",
      " 3   calories_chicken              125 non-null    int64  \n",
      " 4   calories_day                  106 non-null    float64\n",
      " 5   calories_scone                124 non-null    float64\n",
      " 6   coffee                        125 non-null    int64  \n",
      " 7   comfort_food                  124 non-null    object \n",
      " 8   comfort_food_reasons          124 non-null    object \n",
      " 9   comfort_food_reasons_coded    106 non-null    float64\n",
      " 10  cook                          122 non-null    float64\n",
      " 11  comfort_food_reasons_coded.1  125 non-null    int64  \n",
      " 12  cuisine                       108 non-null    float64\n",
      " 13  diet_current                  124 non-null    object \n",
      " 14  diet_current_coded            125 non-null    int64  \n",
      " 15  drink                         123 non-null    float64\n",
      " 16  eating_changes                122 non-null    object \n",
      " 17  eating_changes_coded          125 non-null    int64  \n",
      " 18  eating_changes_coded1         125 non-null    int64  \n",
      " 19  eating_out                    125 non-null    int64  \n",
      " 20  employment                    116 non-null    float64\n",
      " 21  ethnic_food                   125 non-null    int64  \n",
      " 22  exercise                      112 non-null    float64\n",
      " 23  father_education              124 non-null    float64\n",
      " 24  father_profession             122 non-null    object \n",
      " 25  fav_cuisine                   123 non-null    object \n",
      " 26  fav_cuisine_coded             125 non-null    int64  \n",
      " 27  fav_food                      123 non-null    float64\n",
      " 28  food_childhood                124 non-null    object \n",
      " 29  fries                         125 non-null    int64  \n",
      " 30  fruit_day                     125 non-null    int64  \n",
      " 31  grade_level                   125 non-null    int64  \n",
      " 32  greek_food                    125 non-null    int64  \n",
      " 33  healthy_feeling               125 non-null    int64  \n",
      " 34  healthy_meal                  124 non-null    object \n",
      " 35  ideal_diet                    124 non-null    object \n",
      " 36  ideal_diet_coded              125 non-null    int64  \n",
      " 37  income                        124 non-null    float64\n",
      " 38  indian_food                   125 non-null    int64  \n",
      " 39  italian_food                  125 non-null    int64  \n",
      " 40  life_rewarding                124 non-null    float64\n",
      " 41  marital_status                124 non-null    float64\n",
      " 42  meals_dinner_friend           122 non-null    object \n",
      " 43  mother_education              122 non-null    float64\n",
      " 44  mother_profession             123 non-null    object \n",
      " 45  nutritional_check             125 non-null    int64  \n",
      " 46  on_off_campus                 124 non-null    float64\n",
      " 47  parents_cook                  125 non-null    int64  \n",
      " 48  pay_meal_out                  125 non-null    int64  \n",
      " 49  persian_food                  124 non-null    float64\n",
      " 50  self_perception_weight        124 non-null    float64\n",
      " 51  soup                          124 non-null    float64\n",
      " 52  sports                        123 non-null    float64\n",
      " 53  thai_food                     125 non-null    int64  \n",
      " 54  tortilla_calories             124 non-null    float64\n",
      " 55  turkey_calories               125 non-null    int64  \n",
      " 56  type_sports                   104 non-null    object \n",
      " 57  veggies_day                   125 non-null    int64  \n",
      " 58  vitamins                      125 non-null    int64  \n",
      " 59  waffle_calories               125 non-null    int64  \n",
      " 60  weight                        123 non-null    object \n",
      "dtypes: float64(20), int64(27), object(14)\n",
      "memory usage: 59.7+ KB\n",
      "None\n",
      "\n",
      "***********\n",
      "\n",
      "       GPA  Gender  breakfast  calories_chicken  calories_day  calories_scone  \\\n",
      "0    False   False      False             False          True           False   \n",
      "1    False   False      False             False         False           False   \n",
      "2    False   False      False             False         False           False   \n",
      "3    False   False      False             False         False           False   \n",
      "4    False   False      False             False         False           False   \n",
      "..     ...     ...        ...               ...           ...             ...   \n",
      "120  False   False      False             False         False           False   \n",
      "121  False   False      False             False         False           False   \n",
      "122  False   False      False             False          True           False   \n",
      "123  False   False      False             False         False           False   \n",
      "124  False   False      False             False          True           False   \n",
      "\n",
      "     coffee  comfort_food  comfort_food_reasons  comfort_food_reasons_coded  \\\n",
      "0     False         False                 False                       False   \n",
      "1     False         False                 False                       False   \n",
      "2     False         False                 False                       False   \n",
      "3     False         False                 False                       False   \n",
      "4     False         False                 False                       False   \n",
      "..      ...           ...                   ...                         ...   \n",
      "120   False         False                 False                        True   \n",
      "121   False         False                 False                        True   \n",
      "122   False         False                 False                        True   \n",
      "123   False         False                 False                        True   \n",
      "124   False         False                 False                        True   \n",
      "\n",
      "     ...   soup  sports  thai_food  tortilla_calories  turkey_calories  \\\n",
      "0    ...  False   False      False              False            False   \n",
      "1    ...  False   False      False              False            False   \n",
      "2    ...  False   False      False              False            False   \n",
      "3    ...  False   False      False              False            False   \n",
      "4    ...  False   False      False              False            False   \n",
      "..   ...    ...     ...        ...                ...              ...   \n",
      "120  ...  False   False      False              False            False   \n",
      "121  ...  False    True      False              False            False   \n",
      "122  ...  False   False      False              False            False   \n",
      "123  ...  False   False      False              False            False   \n",
      "124  ...  False   False      False              False            False   \n",
      "\n",
      "     type_sports  veggies_day  vitamins  waffle_calories  weight  \n",
      "0          False        False     False            False   False  \n",
      "1          False        False     False            False   False  \n",
      "2          False        False     False            False   False  \n",
      "3           True        False     False            False   False  \n",
      "4          False        False     False            False   False  \n",
      "..           ...          ...       ...              ...     ...  \n",
      "120        False        False     False            False   False  \n",
      "121        False        False     False            False   False  \n",
      "122        False        False     False            False   False  \n",
      "123         True        False     False            False   False  \n",
      "124         True        False     False            False   False  \n",
      "\n",
      "[125 rows x 61 columns]\n",
      "\n",
      "***********\n",
      "\n",
      "GPA                  2\n",
      "Gender               0\n",
      "breakfast            0\n",
      "calories_chicken     0\n",
      "calories_day        19\n",
      "                    ..\n",
      "type_sports         21\n",
      "veggies_day          0\n",
      "vitamins             0\n",
      "waffle_calories      0\n",
      "weight               2\n",
      "Length: 61, dtype: int64\n",
      "\n",
      "***********\n",
      "\n",
      "GPA                  True\n",
      "Gender              False\n",
      "breakfast           False\n",
      "calories_chicken    False\n",
      "calories_day         True\n",
      "                    ...  \n",
      "type_sports          True\n",
      "veggies_day         False\n",
      "vitamins            False\n",
      "waffle_calories     False\n",
      "weight               True\n",
      "Length: 61, dtype: bool\n",
      "\n",
      "***********\n",
      "\n"
     ]
    },
    {
     "data": {
      "image/png": "[encoded data removed]",
      "text/plain": [
       "<Figure size 432x288 with 1 Axes>"
      ]
     },
     "metadata": {
      "needs_background": "light"
     },
     "output_type": "display_data"
    },
    {
     "name": "stdout",
     "output_type": "stream",
     "text": [
      "\n",
      "***********\n",
      "\n",
      "GPA                 False\n",
      "Gender              False\n",
      "breakfast           False\n",
      "calories_chicken    False\n",
      "calories_day        False\n",
      "                    ...  \n",
      "type_sports         False\n",
      "veggies_day         False\n",
      "vitamins            False\n",
      "waffle_calories     False\n",
      "weight              False\n",
      "Length: 61, dtype: bool\n",
      "\n",
      "***********\n",
      "\n"
     ]
    },
    {
     "data": {
      "image/png": "[encoded data removed]",
      "text/plain": [
       "<Figure size 432x288 with 4 Axes>"
      ]
     },
     "metadata": {
      "needs_background": "light"
     },
     "output_type": "display_data"
    },
    {
     "name": "stdout",
     "output_type": "stream",
     "text": [
      "\n",
      "***********\n",
      "\n"
     ]
    },
    {
     "data": {
      "image/png": "[encoded data removed]",
      "text/plain": [
       "<Figure size 432x288 with 4 Axes>"
      ]
     },
     "metadata": {
      "needs_background": "light"
     },
     "output_type": "display_data"
    }
   ],
   "source": [
    "import pandas as pd \n",
    "import matplotlib.pyplot as plt\n",
    "\n",
    "food_coded = pd.read_csv(\"food_coded.csv\")\n",
    "\n",
    "# food_coded DataFrame'i ile ilgili bilgi edinelim \n",
    "print(food_coded.info())\n",
    "\n",
    "print(\"\\n***********\\n\")\n",
    "\n",
    "# sütunlarda NaN değer var mı onları döndürelim\n",
    "print(food_coded.isna())\n",
    "\n",
    "print(\"\\n***********\\n\")\n",
    "\n",
    "# sütunlarda kaç tane NaN değer onları döndürelim\n",
    "print(food_coded.isna().sum())\n",
    "\n",
    "print(\"\\n***********\\n\")\n",
    "\n",
    "# NaN değerleri olan sütunları True olarak gösterelim\n",
    "print(food_coded.isna().any())\n",
    "\n",
    "print(\"\\n***********\\n\")\n",
    "\n",
    "# NaN değeri olan sütunların bar grafiğini çizdirelim\n",
    "food_coded.isna().sum().plot(kind = \"bar\")\n",
    "\n",
    "# grafiği gösterelim\n",
    "plt.show()\n",
    "\n",
    "print(\"\\n***********\\n\")\n",
    "\n",
    "# kayıp verileri bırakalım \n",
    "food_coded_complete = food_coded.dropna()\n",
    "\n",
    "# herhangi bir sütunun eksik değer içerip içermediğini kontrol edelim\n",
    "print(food_coded_complete.isna().any())\n",
    "\n",
    "print(\"\\n***********\\n\")\n",
    "\n",
    "# \"calories_day\", \"calories_scone\" ve \"cook\" sütunlarını içeren bir liste oluşturalım\n",
    "# oluşturduğumuz listeyi kullanarak missing değerlerin historgram grafiğini çizelim\n",
    "cols_with_missing = [\"calories_day\", \"calories_scone\", \"cook\"]\n",
    "food_coded[cols_with_missing].hist()\n",
    "\n",
    "# oluşturduğumuz grafiği gösterelim\n",
    "plt.show()\n",
    "\n",
    "print(\"\\n***********\\n\")\n",
    "\n",
    "# missing değerleri değiştirelim\n",
    "# değiştirilmiş değerleri olan değişkenin histogram grafiğini çizdirelim\n",
    "food_coded_filled = food_coded.fillna(0)\n",
    "food_coded_filled[cols_with_missing].hist()\n",
    "\n",
    "# oluşturduğumuz grafiği gösterelim\n",
    "plt.show()"
   ]
  }
 ],
 "metadata": {
  "kernelspec": {
   "display_name": "Python 3 (ipykernel)",
   "language": "python",
   "name": "python3"
  },
  "language_info": {
   "codemirror_mode": {
    "name": "ipython",
    "version": 3
   },
   "file_extension": ".py",
   "mimetype": "text/x-python",
   "name": "python",
   "nbconvert_exporter": "python",
   "pygments_lexer": "ipython3",
   "version": "3.9.7"
  }
 },
 "nbformat": 4,
 "nbformat_minor": 5
}
