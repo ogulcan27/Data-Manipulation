{
 "cells": [
  {
   "cell_type": "markdown",
   "id": "6bc0c09f",
   "metadata": {},
   "source": [
    "# ANALYZING POLICE ACTIVITY WITH PANDAS"
   ]
  },
  {
   "cell_type": "markdown",
   "id": "de6cee4b",
   "metadata": {},
   "source": [
    "# 1-) Preparing the Data for Analysis (Veriyi Analiz İçin Hazırlama)"
   ]
  },
  {
   "cell_type": "markdown",
   "id": "6080de96",
   "metadata": {},
   "source": [
    "Analizimize başlamadan önce, onunla çalışmayı daha verimli bir süreç haline getirmek için önce veri kümesini incelememiz ve temizlememiz çok önemlidir. Bu bölümde, Stanford Açık Polislik Projesi veri kümesini öğrenirken veri türlerini düzeltme, eksik değerleri işleme ve sütunları ve satırları bırakma alıştırmaları yapacağız.\n",
    "\n",
    "Bir analize başlamadan önce, emin olmak için verileri incelememiz çok önemlidir.\n",
    "\n",
    "Ardından, veriyle çalışmayı daha verimli bir süreç haline getirmek için verileri temizlememiz gerekir."
   ]
  },
  {
   "cell_type": "markdown",
   "id": "6a257f30",
   "metadata": {},
   "source": [
    "### < Stanford Open Policing Project Dataset (Stanford Açık Polislik Projesi Veri kümesi) >"
   ]
  },
  {
   "cell_type": "markdown",
   "id": "256ec2a1",
   "metadata": {},
   "source": [
    "Stanford üniversitesinin açık olarak hazırladığı Polislik Projesi Veri Kümesindeki NaN (missing) değerleri bulup onları temizleyeceğiz.\n",
    "\n",
    "Bu başlık altında kullandığımız tüm işlevler ve Tutorial Linkleri:\n",
    "\n",
    "+ pd.read_csv() = https://pandas.pydata.org/docs/reference/api/pandas.read_csv.html\n",
    "\n",
    "+ pd.DataFrame.head() = https://pandas.pydata.org/docs/reference/api/pandas.DataFrame.head.html\n",
    "\n",
    "+ pd.DataFrame.shape = https://pandas.pydata.org/docs/reference/api/pandas.DataFrame.shape.html?highlight=shape\n",
    "\n",
    "+ pd.DataFrame.isnull() = https://pandas.pydata.org/docs/reference/api/pandas.DataFrame.isnull.html?highlight=isnull\n",
    "\n",
    "+ pd.DataFrame.drop() = https://pandas.pydata.org/docs/reference/api/pandas.DataFrame.drop.html?highlight=drop#pandas.DataFrame.drop\n",
    "\n",
    "+ pd.DataFrame.dropna() = https://pandas.pydata.org/docs/reference/api/pandas.DataFrame.dropna.html?highlight=dropna#pandas.DataFrame.dropna"
   ]
  },
  {
   "cell_type": "markdown",
   "id": "cb169795",
   "metadata": {},
   "source": [
    "Aşağıdaki kod bloğunda, Pandas paketini içe aktarıp **\"pd.read_csv()\"** ile istediğimiz dosyaları DataFrame olarak değişkenlere atayacağız. Ardından atadığımız değişkenlerdeki DataFrame'ler hakkında **\"xx.head()\"** ile ve **\"xx.shape\"** ile bilgi edineceğiz."
   ]
  },
  {
   "cell_type": "code",
   "execution_count": 1,
   "id": "782c2d17",
   "metadata": {
    "scrolled": true
   },
   "outputs": [
    {
     "name": "stdout",
     "output_type": "stream",
     "text": [
      "  state   stop_date stop_time  county_name driver_gender driver_race  \\\n",
      "0    RI  2005-01-04     12:55          NaN             M       White   \n",
      "1    RI  2005-01-23     23:15          NaN             M       White   \n",
      "2    RI  2005-02-17     04:15          NaN             M       White   \n",
      "\n",
      "                    violation_raw  violation  search_conducted search_type  \\\n",
      "0  Equipment/Inspection Violation  Equipment             False         NaN   \n",
      "1                        Speeding   Speeding             False         NaN   \n",
      "2                        Speeding   Speeding             False         NaN   \n",
      "\n",
      "  stop_outcome is_arrested stop_duration  drugs_related_stop district  \n",
      "0     Citation       False      0-15 Min               False  Zone X4  \n",
      "1     Citation       False      0-15 Min               False  Zone K3  \n",
      "2     Citation       False      0-15 Min               False  Zone X4  \n",
      "police dataframe shape :  (91741, 15)\n"
     ]
    }
   ],
   "source": [
    "# Pandas'ı içe aktaralım \n",
    "import pandas as pd\n",
    "\n",
    "# \"police.csv\" dosyasını bir DataFrame olarak police adlı değişkene atayalım\n",
    "police = pd.read_csv(\"police.csv\")\n",
    "\n",
    "# police DataFrame'inin ilk 3 satırını döndürelim ve satır-sütun sayısını görelim\n",
    "print(police.head(3))\n",
    "print(\"police dataframe shape : \", police.shape)"
   ]
  },
  {
   "cell_type": "markdown",
   "id": "ed12af69",
   "metadata": {},
   "source": [
    "Pandas'ın **\"xx.isnull()\"** işlevinin sonuna **\"xx.sum()\"** işlevini ekleyerek sütunlarda kaç adet NaN (missing) değer var onu görüntüleyelim."
   ]
  },
  {
   "cell_type": "code",
   "execution_count": 2,
   "id": "358352c2",
   "metadata": {},
   "outputs": [
    {
     "data": {
      "text/plain": [
       "state                     0\n",
       "stop_date                 0\n",
       "stop_time                 0\n",
       "county_name           91741\n",
       "driver_gender          5205\n",
       "driver_race            5202\n",
       "violation_raw          5202\n",
       "violation              5202\n",
       "search_conducted          0\n",
       "search_type           88434\n",
       "stop_outcome           5202\n",
       "is_arrested            5202\n",
       "stop_duration          5202\n",
       "drugs_related_stop        0\n",
       "district                  0\n",
       "dtype: int64"
      ]
     },
     "execution_count": 2,
     "metadata": {},
     "output_type": "execute_result"
    }
   ],
   "source": [
    "police.isnull().sum()"
   ]
  },
  {
   "cell_type": "markdown",
   "id": "fce901c1",
   "metadata": {},
   "source": [
    "+ police Dataframe'inin 91741 satırı var ve county_name sütununda 91741 adet NaN değer mevcut. Yani burada hiçbir veri yok, bu yüzden işimize yaramayacak. Ayrcıa tüm trafik duraklamaları tek bir eyalette (Rhode Island) gerçekleştiği için eyalet sütunu da işimize yaramayacak. Verinin analiz edilebilirliğini atırmak için bu iki sütunu bırakalım."
   ]
  },
  {
   "cell_type": "markdown",
   "id": "625ef275",
   "metadata": {},
   "source": [
    "Aşağıdaki kod bloğunda Pandas'ın **\"xx.drop()\"** işlevini kullanarak county_name ve state sütunlarını bırakalım. Bırakmadan önce **\"xx.shape\"** işlevi ile satır-sütun sayısını görüntüleyelim, bir de bıraktıktan sonra görüntüleyelim."
   ]
  },
  {
   "cell_type": "code",
   "execution_count": 3,
   "id": "c2c1e8f7",
   "metadata": {},
   "outputs": [
    {
     "name": "stdout",
     "output_type": "stream",
     "text": [
      "police dataframe shape :  (91741, 15)\n",
      "police dataframe shape :  (91741, 13)\n"
     ]
    }
   ],
   "source": [
    "# sütunları bırakmadan önce satır-sütun sayısı\n",
    "print(\"police dataframe shape : \", police.shape)\n",
    "\n",
    "# county_name ve state sütunlarını bırakalım\n",
    "# sütunları bıraktığımızı belirtmek için axis parametresini \"columns\" olarak ayarlayalım\n",
    "# police dataframe'i bıraktıktan sonra eski haline dönmesin diye inplace = True olarak ayarlayalım\n",
    "police.drop([\"county_name\", \"state\"], axis = \"columns\", inplace = True)\n",
    "\n",
    "# sütunları bıraktıktan sonra satır-sütun sayısı\n",
    "print(\"police dataframe shape : \", police.shape)"
   ]
  },
  {
   "cell_type": "markdown",
   "id": "1d163e43",
   "metadata": {},
   "source": [
    "+ Görüleceği üzere sütunları bırakmadan önce 15, bıraktıktan sonra 13 sütun kaldı. İşimize yaramayacak sütunları bıraktıktan sonra, sıra satırlara geldi. Bizim için önem arz eden sütunlarda (driver_gender) NaN değer içeren satırları bırakalım.\n",
    "\n",
    "!! : stop_time ve stop_date sütunları da analizimiz için çok önemli ancak o sütunlarda NaN değeri olmadığından dolayı **\"xx.dropna()\"** işlevini bu iki sütunda kullanmamıza gerek yok. "
   ]
  },
  {
   "cell_type": "markdown",
   "id": "ae441129",
   "metadata": {},
   "source": [
    "Aşağıdaki kod bloğunda Pandas'ın **\"xx.dropna()\"** işlevi ile driver_gender sütunundaki NaN değer içeren satırları bırakalım. "
   ]
  },
  {
   "cell_type": "code",
   "execution_count": 4,
   "id": "ccefeb63",
   "metadata": {
    "scrolled": true
   },
   "outputs": [
    {
     "name": "stdout",
     "output_type": "stream",
     "text": [
      "stop_date                 0\n",
      "stop_time                 0\n",
      "driver_gender          5205\n",
      "driver_race            5202\n",
      "violation_raw          5202\n",
      "violation              5202\n",
      "search_conducted          0\n",
      "search_type           88434\n",
      "stop_outcome           5202\n",
      "is_arrested            5202\n",
      "stop_duration          5202\n",
      "drugs_related_stop        0\n",
      "district                  0\n",
      "dtype: int64\n",
      "\n",
      "*****\n",
      "\n",
      "stop_date                 0\n",
      "stop_time                 0\n",
      "driver_gender             0\n",
      "driver_race               0\n",
      "violation_raw             0\n",
      "violation                 0\n",
      "search_conducted          0\n",
      "search_type           83229\n",
      "stop_outcome              0\n",
      "is_arrested               0\n",
      "stop_duration             0\n",
      "drugs_related_stop        0\n",
      "district                  0\n",
      "dtype: int64\n",
      "police dataframe shape :  (86536, 13)\n"
     ]
    }
   ],
   "source": [
    "# bırakmadan önce sütunlardaki NaN sayısını görelim\n",
    "print(police.isnull().sum())\n",
    "\n",
    "# driver_gender sütunundaki NaN içeren satırları bırakalım\n",
    "police.dropna(subset = [\"driver_gender\"], inplace = True)\n",
    "\n",
    "print(\"\\n*****\\n\")\n",
    "\n",
    "# bıraktıktan sonra sütunlardaki NaN sayısını görelim\n",
    "print(police.isnull().sum())\n",
    "\n",
    "# satır-sütun sayısını görüntüleyelim\n",
    "print(\"police dataframe shape : \", police.shape)"
   ]
  },
  {
   "cell_type": "markdown",
   "id": "3e48bc49",
   "metadata": {},
   "source": [
    "+ NaN satırlar bırakılınca driver_gender sütunundaki NaN sayısı 5205 iken 0 oldu, satır sayısı 91741 iken 86536 oldu."
   ]
  },
  {
   "cell_type": "markdown",
   "id": "a72a1f2d",
   "metadata": {},
   "source": [
    "### < Using Proper Data Type (Uygun Veri Tipini Kullanma) >  "
   ]
  },
  {
   "cell_type": "markdown",
   "id": "24564937",
   "metadata": {},
   "source": [
    "Bu bölümde, sütunların her birinin uygun veri türüne sahip olduğundan emin olarak veri kümesini temizlemeye devam edeceğiz.\n",
    "\n",
    "Bu başlık altında kullandığımız bütün işlevler ve Tutorial Linkleri: \n",
    "\n",
    "+ pd.DataFrame.dtypes = https://pandas.pydata.org/docs/reference/api/pandas.DataFrame.dtypes.html?highlight=dtypes#pandas.DataFrame.dtypes\n",
    "\n",
    "+ pd.DataFrame.astype() = https://pandas.pydata.org/docs/reference/api/pandas.DataFrame.astype.html"
   ]
  },
  {
   "cell_type": "markdown",
   "id": "93a815f1",
   "metadata": {},
   "source": [
    "Her sütunun veri tipini tespit etmek için Pandas'ın **\"xx.dtypes\"** işlevini kullanacağız."
   ]
  },
  {
   "cell_type": "code",
   "execution_count": 5,
   "id": "f9ef6675",
   "metadata": {},
   "outputs": [
    {
     "data": {
      "text/plain": [
       "stop_date             object\n",
       "stop_time             object\n",
       "driver_gender         object\n",
       "driver_race           object\n",
       "violation_raw         object\n",
       "violation             object\n",
       "search_conducted        bool\n",
       "search_type           object\n",
       "stop_outcome          object\n",
       "is_arrested           object\n",
       "stop_duration         object\n",
       "drugs_related_stop      bool\n",
       "district              object\n",
       "dtype: object"
      ]
     },
     "execution_count": 5,
     "metadata": {},
     "output_type": "execute_result"
    }
   ],
   "source": [
    "police.dtypes"
   ]
  },
  {
   "cell_type": "markdown",
   "id": "bd25d3f4",
   "metadata": {},
   "source": [
    "+ Görüleceği üzere şu anda kullanımda olan veri türleri sadece object ve bool'dur. \"is_arrested\" sütununun object değil de bool olması gerekir."
   ]
  },
  {
   "cell_type": "markdown",
   "id": "9bbacd79",
   "metadata": {},
   "source": [
    "Veri tipini değiştirmek istediğimiz sütunun, veri tipini değiştirmek için Pandas'ın **\"xx.astype()\"** işlevini kullanacağız. İlk olarak is_arrested sütunun ilk birkaç satırını döndürelim ardından veri tipini değiştirelim. Son olarak **\"xx.dtypes\"** ile is_arrested sütununun veri tipini görüntüleyelim."
   ]
  },
  {
   "cell_type": "code",
   "execution_count": 6,
   "id": "c9f9974c",
   "metadata": {},
   "outputs": [
    {
     "name": "stdout",
     "output_type": "stream",
     "text": [
      "0    False\n",
      "1    False\n",
      "2    False\n",
      "3     True\n",
      "4    False\n",
      "Name: is_arrested, dtype: object\n",
      "is_arrested column dtype :  bool\n"
     ]
    }
   ],
   "source": [
    "# is_arrested sütunuyla ilgili bilgi edinelim\n",
    "print(police.is_arrested.head())\n",
    "\n",
    "# is_arrested sütununu bool olarak ayarlayalım ve dtype kullanarak kontrol edelim\n",
    "police[\"is_arrested\"] = police.is_arrested.astype(\"bool\")\n",
    "print(\"is_arrested column dtype : \",police[\"is_arrested\"].dtype)"
   ]
  },
  {
   "cell_type": "markdown",
   "id": "efd21f68",
   "metadata": {},
   "source": [
    "### < Creating a DatetimeIndex (DatetimeIndex Oluşturma) >"
   ]
  },
  {
   "cell_type": "markdown",
   "id": "64286cad",
   "metadata": {},
   "source": [
    "Bu bölümde DataFrame'imiz için bir DatetimeIndex oluşturacağız. Pandas DatetimeIndex.date özniteliği, DatetimeIndex nesnesinin girişlerinin her birinde bulunan tarih değerlerini içeren bir Index nesnesi çıkarır.\n",
    "\n",
    "Bu başlık altında kullandığımız bütün işlevler ve Tutorial Linkleri : \n",
    "\n",
    "+ pd.Series.str.cat = https://pandas.pydata.org/docs/reference/api/pandas.Series.str.cat.html\n",
    "\n",
    "+ pd.DataFrame.set_index() = https://pandas.pydata.org/docs/reference/api/pandas.DataFrame.set_index.html?highlight=set_index#pandas.DataFrame.set_index"
   ]
  },
  {
   "cell_type": "markdown",
   "id": "2b51723b",
   "metadata": {},
   "source": [
    "Her bir trafik durağının tarih ve saati, her ikisi de nesne sütunları ayrı olan sütunlarda saklanır. Analizimide stop_date ve stop_time sütunlarını kullancağımız için bu iki sütunu birleştirelim ve o sütunu Pandas'ın tarih-saat biçimine (Datetime) dönüştürelim. Bu yararlı olacaktır çünkü object tipindeki sütunların aksine, Datetime tipindeki sütunlar, analizimizi kolaylaştıracak tarihe dayalı nitelikler sağlayacaktır."
   ]
  },
  {
   "cell_type": "markdown",
   "id": "332bf59f",
   "metadata": {},
   "source": [
    "Aşağıdaki kod bloğunda, stop_date ve stop_time sütunlarını birleştirelim ve birleştirdiğimiz sütunu Pandas'ın \"Datetime\" biçiminbe dönüştürelim. Birleştirmek için Pandas'ın **\"xx.str.cat()\"** işlevini, Datetime biçimine dönüştürmek için Pandas'ın **xx.to_datetime()** işlevini kullanacağız. Son olarak da police DataFrame'inin sütunlarının veri tiplerine göz atalım."
   ]
  },
  {
   "cell_type": "code",
   "execution_count": 7,
   "id": "f12c4b93",
   "metadata": {
    "scrolled": true
   },
   "outputs": [
    {
     "name": "stdout",
     "output_type": "stream",
     "text": [
      "stop_date                     object\n",
      "stop_time                     object\n",
      "driver_gender                 object\n",
      "driver_race                   object\n",
      "violation_raw                 object\n",
      "violation                     object\n",
      "search_conducted                bool\n",
      "search_type                   object\n",
      "stop_outcome                  object\n",
      "is_arrested                     bool\n",
      "stop_duration                 object\n",
      "drugs_related_stop              bool\n",
      "district                      object\n",
      "stop_datetime         datetime64[ns]\n",
      "dtype: object\n",
      "\n",
      "********\n",
      "\n",
      "0       2005-01-04 12:55:00\n",
      "1       2005-01-23 23:15:00\n",
      "2       2005-02-17 04:15:00\n",
      "3       2005-02-20 17:15:00\n",
      "4       2005-02-24 01:20:00\n",
      "                ...        \n",
      "91736   2015-12-31 21:21:00\n",
      "91737   2015-12-31 21:59:00\n",
      "91738   2015-12-31 22:04:00\n",
      "91739   2015-12-31 22:09:00\n",
      "91740   2015-12-31 22:47:00\n",
      "Name: stop_datetime, Length: 86536, dtype: datetime64[ns]\n"
     ]
    }
   ],
   "source": [
    "# stop_date ve stop_time sütunlarını birleştirelim ve combined adlı değişkene atayalım\n",
    "# sep = \" \" parametresini bu şekilde ayarlayınca, iki sütunu birleştirmesini aralarını boşlukla ayırmasını söylüyoruz.\n",
    "combined = police[\"stop_date\"].str.cat(police[\"stop_time\"], sep = \" \")\n",
    "\n",
    "# combined değişkeninin veri tipini Datetime olarak ayarlayalım\n",
    "# ve bunu stop_datetime isimli bir sütun olarak police DataFrame'ine ekleyelim\n",
    "police[\"stop_datetime\"] = pd.to_datetime(combined)\n",
    "\n",
    "# sütunların veri tiplerine göz atalım \n",
    "print(police.dtypes)\n",
    "print(\"\\n********\\n\")\n",
    "print(police[\"stop_datetime\"])"
   ]
  },
  {
   "cell_type": "markdown",
   "id": "7d3cbdf9",
   "metadata": {},
   "source": [
    "+ Son adım olarak stop_datetime sütununu index olarak ayarlayalım."
   ]
  },
  {
   "cell_type": "markdown",
   "id": "ef0c0d5a",
   "metadata": {},
   "source": [
    "Aşağıdaki kod bloğunda, stop_datetime sütununu **\"xx.set_index()\"** ile index olarak ayarlayalım ve police DataFrame'ine göz atalım."
   ]
  },
  {
   "cell_type": "code",
   "execution_count": 8,
   "id": "749cc5b4",
   "metadata": {},
   "outputs": [
    {
     "data": {
      "text/html": [
       "<div>\n",
       "<style scoped>\n",
       "    .dataframe tbody tr th:only-of-type {\n",
       "        vertical-align: middle;\n",
       "    }\n",
       "\n",
       "    .dataframe tbody tr th {\n",
       "        vertical-align: top;\n",
       "    }\n",
       "\n",
       "    .dataframe thead th {\n",
       "        text-align: right;\n",
       "    }\n",
       "</style>\n",
       "<table border=\"1\" class=\"dataframe\">\n",
       "  <thead>\n",
       "    <tr style=\"text-align: right;\">\n",
       "      <th></th>\n",
       "      <th>stop_date</th>\n",
       "      <th>stop_time</th>\n",
       "      <th>driver_gender</th>\n",
       "      <th>driver_race</th>\n",
       "      <th>violation_raw</th>\n",
       "      <th>violation</th>\n",
       "      <th>search_conducted</th>\n",
       "      <th>search_type</th>\n",
       "      <th>stop_outcome</th>\n",
       "      <th>is_arrested</th>\n",
       "      <th>stop_duration</th>\n",
       "      <th>drugs_related_stop</th>\n",
       "      <th>district</th>\n",
       "    </tr>\n",
       "    <tr>\n",
       "      <th>stop_datetime</th>\n",
       "      <th></th>\n",
       "      <th></th>\n",
       "      <th></th>\n",
       "      <th></th>\n",
       "      <th></th>\n",
       "      <th></th>\n",
       "      <th></th>\n",
       "      <th></th>\n",
       "      <th></th>\n",
       "      <th></th>\n",
       "      <th></th>\n",
       "      <th></th>\n",
       "      <th></th>\n",
       "    </tr>\n",
       "  </thead>\n",
       "  <tbody>\n",
       "    <tr>\n",
       "      <th>2005-01-04 12:55:00</th>\n",
       "      <td>2005-01-04</td>\n",
       "      <td>12:55</td>\n",
       "      <td>M</td>\n",
       "      <td>White</td>\n",
       "      <td>Equipment/Inspection Violation</td>\n",
       "      <td>Equipment</td>\n",
       "      <td>False</td>\n",
       "      <td>NaN</td>\n",
       "      <td>Citation</td>\n",
       "      <td>False</td>\n",
       "      <td>0-15 Min</td>\n",
       "      <td>False</td>\n",
       "      <td>Zone X4</td>\n",
       "    </tr>\n",
       "    <tr>\n",
       "      <th>2005-01-23 23:15:00</th>\n",
       "      <td>2005-01-23</td>\n",
       "      <td>23:15</td>\n",
       "      <td>M</td>\n",
       "      <td>White</td>\n",
       "      <td>Speeding</td>\n",
       "      <td>Speeding</td>\n",
       "      <td>False</td>\n",
       "      <td>NaN</td>\n",
       "      <td>Citation</td>\n",
       "      <td>False</td>\n",
       "      <td>0-15 Min</td>\n",
       "      <td>False</td>\n",
       "      <td>Zone K3</td>\n",
       "    </tr>\n",
       "    <tr>\n",
       "      <th>2005-02-17 04:15:00</th>\n",
       "      <td>2005-02-17</td>\n",
       "      <td>04:15</td>\n",
       "      <td>M</td>\n",
       "      <td>White</td>\n",
       "      <td>Speeding</td>\n",
       "      <td>Speeding</td>\n",
       "      <td>False</td>\n",
       "      <td>NaN</td>\n",
       "      <td>Citation</td>\n",
       "      <td>False</td>\n",
       "      <td>0-15 Min</td>\n",
       "      <td>False</td>\n",
       "      <td>Zone X4</td>\n",
       "    </tr>\n",
       "  </tbody>\n",
       "</table>\n",
       "</div>"
      ],
      "text/plain": [
       "                      stop_date stop_time driver_gender driver_race  \\\n",
       "stop_datetime                                                         \n",
       "2005-01-04 12:55:00  2005-01-04     12:55             M       White   \n",
       "2005-01-23 23:15:00  2005-01-23     23:15             M       White   \n",
       "2005-02-17 04:15:00  2005-02-17     04:15             M       White   \n",
       "\n",
       "                                      violation_raw  violation  \\\n",
       "stop_datetime                                                    \n",
       "2005-01-04 12:55:00  Equipment/Inspection Violation  Equipment   \n",
       "2005-01-23 23:15:00                        Speeding   Speeding   \n",
       "2005-02-17 04:15:00                        Speeding   Speeding   \n",
       "\n",
       "                     search_conducted search_type stop_outcome  is_arrested  \\\n",
       "stop_datetime                                                                 \n",
       "2005-01-04 12:55:00             False         NaN     Citation        False   \n",
       "2005-01-23 23:15:00             False         NaN     Citation        False   \n",
       "2005-02-17 04:15:00             False         NaN     Citation        False   \n",
       "\n",
       "                    stop_duration  drugs_related_stop district  \n",
       "stop_datetime                                                   \n",
       "2005-01-04 12:55:00      0-15 Min               False  Zone X4  \n",
       "2005-01-23 23:15:00      0-15 Min               False  Zone K3  \n",
       "2005-02-17 04:15:00      0-15 Min               False  Zone X4  "
      ]
     },
     "execution_count": 8,
     "metadata": {},
     "output_type": "execute_result"
    }
   ],
   "source": [
    "# stop_datetime sütununu, index olarak ayarlayalım\n",
    "police.set_index(\"stop_datetime\", inplace=True)\n",
    "\n",
    "# police DataFrame'ine göz atalım\n",
    "police.head(3)"
   ]
  },
  {
   "cell_type": "markdown",
   "id": "ceb2b225",
   "metadata": {},
   "source": [
    "+ Görüleceği üzere stop_datetime sütunu index olmuş durumda."
   ]
  },
  {
   "cell_type": "markdown",
   "id": "02ce8249",
   "metadata": {},
   "source": [
    "# 2-) Exploring the Relationship Between Gender and Policing (Cinsiyet ve Polislik Arasındaki İlişkiyi Keşfetmek)"
   ]
  },
  {
   "cell_type": "markdown",
   "id": "1f33f7a3",
   "metadata": {},
   "source": [
    "Bir sürücünün cinsiyetinin trafik durması sırasında polisin davranışı üzerinde bir etkisi var mı? Bu bölümde filtreleme, gruplama, yöntem zincirleme, Boole matematiği, dizi yöntemleri ve daha fazlasını uygularken bu soruyu keşfedeceğiz."
   ]
  },
  {
   "cell_type": "markdown",
   "id": "433d817b",
   "metadata": {},
   "source": [
    "### < Do the Genders Commit Different Violations? (Cinsiyetler Farklı İhlaller Yapıyor Mu?) > "
   ]
  },
  {
   "cell_type": "markdown",
   "id": "15869cd7",
   "metadata": {},
   "source": [
    "Bu bölümde, police Dataframe'indeki violation sütununu kullanarak her iki cinsiyetin aldıkları ihlallerin oranını karışık bir şekilde ve her cinsiyete özel olacak şekilde inceleyeceğiz.\n",
    "\n",
    "Bu bölümde kullandığımız bütün işlevler ve Tutorial Linkleri : \n",
    "\n",
    "+ pd.Series.value_counts() = https://pandas.pydata.org/docs/reference/api/pandas.Series.value_counts.html"
   ]
  },
  {
   "cell_type": "markdown",
   "id": "7f08ade6",
   "metadata": {},
   "source": [
    "Aşağıdaki kod bloğunda police DataFrame'indeki, violation (ihlal türlerinin olduğu sütun) sütunundaki eşsiz değerlerin kaç tane olduğunu Pandas'ın **\"xx.value_counts()\"** işlevi ile görelim."
   ]
  },
  {
   "cell_type": "code",
   "execution_count": 9,
   "id": "02725078",
   "metadata": {},
   "outputs": [
    {
     "name": "stdout",
     "output_type": "stream",
     "text": [
      "Speeding               48423\n",
      "Moving violation       16224\n",
      "Equipment              10921\n",
      "Other                   4409\n",
      "Registration/plates     3703\n",
      "Seat belt               2856\n",
      "Name: violation, dtype: int64\n"
     ]
    }
   ],
   "source": [
    "print(police[\"violation\"].value_counts())"
   ]
  },
  {
   "cell_type": "markdown",
   "id": "d0c8d317",
   "metadata": {},
   "source": [
    "+ İhlal çeşitleri ve her bir ihlalin kaç kez yapıldığını görüyoruz."
   ]
  },
  {
   "cell_type": "markdown",
   "id": "a5317179",
   "metadata": {},
   "source": [
    "Aşağıdaki kod bloğunda **\"xx.value_counts()\"** işlevinin **\"normalize\" parametresini** True olarak ayarlayalım ve trafik duraklarının yüzdelerini görelim"
   ]
  },
  {
   "cell_type": "code",
   "execution_count": 10,
   "id": "734b47e3",
   "metadata": {},
   "outputs": [
    {
     "name": "stdout",
     "output_type": "stream",
     "text": [
      "Speeding               0.559571\n",
      "Moving violation       0.187483\n",
      "Equipment              0.126202\n",
      "Other                  0.050950\n",
      "Registration/plates    0.042791\n",
      "Seat belt              0.033004\n",
      "Name: violation, dtype: float64\n"
     ]
    }
   ],
   "source": [
    "print(police[\"violation\"].value_counts(normalize = True))"
   ]
  },
  {
   "cell_type": "markdown",
   "id": "2cf07bf6",
   "metadata": {},
   "source": [
    "+ İhlal çeşitlerini ve her bir ihlalin yüzde olarak ne kadar yapıldığını görüyoruz. Bu şekildeki sonuçlar, yorumlama yaparken yüzdelik olarak yapmamıza olanak tanır."
   ]
  },
  {
   "cell_type": "markdown",
   "id": "3f8a9260",
   "metadata": {},
   "source": [
    "Aşağıdaki kod bloğunda, driver_gender (sürücülerin cinsiyetlerinin olduğu sütun) adlı sütundaki M satırlarını male adlı değişkene, F satırlarını female adlı değişkene atayalım ve bu iki değişkenin ilk 3 satırını görünteleyelim."
   ]
  },
  {
   "cell_type": "code",
   "execution_count": 11,
   "id": "1fcc3ef3",
   "metadata": {
    "scrolled": true
   },
   "outputs": [
    {
     "name": "stdout",
     "output_type": "stream",
     "text": [
      "                      stop_date stop_time driver_gender driver_race  \\\n",
      "stop_datetime                                                         \n",
      "2005-01-04 12:55:00  2005-01-04     12:55             M       White   \n",
      "2005-01-23 23:15:00  2005-01-23     23:15             M       White   \n",
      "2005-02-17 04:15:00  2005-02-17     04:15             M       White   \n",
      "\n",
      "                                      violation_raw  violation  \\\n",
      "stop_datetime                                                    \n",
      "2005-01-04 12:55:00  Equipment/Inspection Violation  Equipment   \n",
      "2005-01-23 23:15:00                        Speeding   Speeding   \n",
      "2005-02-17 04:15:00                        Speeding   Speeding   \n",
      "\n",
      "                     search_conducted search_type stop_outcome  is_arrested  \\\n",
      "stop_datetime                                                                 \n",
      "2005-01-04 12:55:00             False         NaN     Citation        False   \n",
      "2005-01-23 23:15:00             False         NaN     Citation        False   \n",
      "2005-02-17 04:15:00             False         NaN     Citation        False   \n",
      "\n",
      "                    stop_duration  drugs_related_stop district  \n",
      "stop_datetime                                                   \n",
      "2005-01-04 12:55:00      0-15 Min               False  Zone X4  \n",
      "2005-01-23 23:15:00      0-15 Min               False  Zone K3  \n",
      "2005-02-17 04:15:00      0-15 Min               False  Zone X4  \n",
      "\n",
      "*****\n",
      "\n",
      "                      stop_date stop_time driver_gender driver_race  \\\n",
      "stop_datetime                                                         \n",
      "2005-02-24 01:20:00  2005-02-24     01:20             F       White   \n",
      "2005-03-14 10:00:00  2005-03-14     10:00             F       White   \n",
      "2005-07-14 11:20:00  2005-07-14     11:20             F       White   \n",
      "\n",
      "                    violation_raw violation  search_conducted search_type  \\\n",
      "stop_datetime                                                               \n",
      "2005-02-24 01:20:00      Speeding  Speeding             False         NaN   \n",
      "2005-03-14 10:00:00      Speeding  Speeding             False         NaN   \n",
      "2005-07-14 11:20:00      Speeding  Speeding             False         NaN   \n",
      "\n",
      "                    stop_outcome  is_arrested stop_duration  \\\n",
      "stop_datetime                                                 \n",
      "2005-02-24 01:20:00     Citation        False      0-15 Min   \n",
      "2005-03-14 10:00:00     Citation        False      0-15 Min   \n",
      "2005-07-14 11:20:00     Citation        False      0-15 Min   \n",
      "\n",
      "                     drugs_related_stop district  \n",
      "stop_datetime                                     \n",
      "2005-02-24 01:20:00               False  Zone X3  \n",
      "2005-03-14 10:00:00               False  Zone K3  \n",
      "2005-07-14 11:20:00               False  Zone X4  \n"
     ]
    }
   ],
   "source": [
    "female = police[police[\"driver_gender\"] == 'F']\n",
    "male = police[police[\"driver_gender\"] == 'M']\n",
    "print(male.head(3))\n",
    "print(\"\\n*****\\n\")\n",
    "print(female.head(3))"
   ]
  },
  {
   "cell_type": "markdown",
   "id": "fd4e1ee1",
   "metadata": {},
   "source": [
    "Aşağıdaki kod bloğunda, oluşturduğumuz male ve female isimli DataFrame'lerdeki violations sütununa **\"xx.value_counts()\"** işlevini uygulayalım."
   ]
  },
  {
   "cell_type": "code",
   "execution_count": 12,
   "id": "a4e852c7",
   "metadata": {},
   "outputs": [
    {
     "name": "stdout",
     "output_type": "stream",
     "text": [
      "Speeding               0.522243\n",
      "Moving violation       0.206144\n",
      "Equipment              0.134158\n",
      "Other                  0.058985\n",
      "Registration/plates    0.042175\n",
      "Seat belt              0.036296\n",
      "Name: violation, dtype: float64\n",
      "\n",
      "******\n",
      "\n",
      "Speeding               0.658114\n",
      "Moving violation       0.138218\n",
      "Equipment              0.105199\n",
      "Registration/plates    0.044418\n",
      "Other                  0.029738\n",
      "Seat belt              0.024312\n",
      "Name: violation, dtype: float64\n"
     ]
    }
   ],
   "source": [
    "print(male[\"violation\"].value_counts(normalize = True))\n",
    "print(\"\\n******\\n\")\n",
    "print(female[\"violation\"].value_counts(normalize = True))"
   ]
  },
  {
   "cell_type": "markdown",
   "id": "f2448fe3",
   "metadata": {},
   "source": [
    "+ Yukarıdaki ilk sonuçta erkeklerin yaptığı ihlal çeşitlerinin oranlarını, aşağıdaki sonuçta da kadınlarınkini görüyoruz."
   ]
  },
  {
   "cell_type": "markdown",
   "id": "cde250f2",
   "metadata": {},
   "source": [
    "### < Does Gender Affect Who Gets a Ticket For Speeding? (Cinsiyet, Kimin Hız Cezası Aldığını Etkiler mi?) >  "
   ]
  },
  {
   "cell_type": "markdown",
   "id": "0c7c6619",
   "metadata": {},
   "source": [
    "Cinsiyet, kimin hız cezası aldığını etkiler mi? Bu bölümde bu soruya yanıt arayacağız. Bu analiz için ek bir teknik kullanmamız gerekecek. Bir DataFrame'i birden çok koşula göre filtreleyeceğiz ve ilişkiyi analiz etmek için cinsiyet-hız arasındaki korelasyonu hesaplayacağız."
   ]
  },
  {
   "cell_type": "markdown",
   "id": "a5ac09f1",
   "metadata": {},
   "source": [
    "Bir önceki bölümde oluşturduğumuz female adlı değişkende driver_gender sütunundaki değerlerin sadece F olanları vardı. Daha da ayrıntıya inip :\n",
    "\n",
    "\"Tutuklanan kadınları\" bir değişkene DataFrame olarak atayalım. Bunu **\"AND (&)\"** operatörü ile yapabiliriz.\n",
    "\n",
    "**\"OR (|)\"** operatörü ile hem tutuklanan hem de kadın olan satırları bir değişkene atayabiliriz."
   ]
  },
  {
   "cell_type": "markdown",
   "id": "c17c0edf",
   "metadata": {},
   "source": [
    "Aşağıdaki kod bloğunda, driver_gender sütununda F ve M olan satırları ve violation sütununda Speeding olan satırları ayrı ayrı DataFrame olacak şekilde değişkenlere atayalım. "
   ]
  },
  {
   "cell_type": "code",
   "execution_count": 13,
   "id": "654a0809",
   "metadata": {
    "scrolled": true
   },
   "outputs": [
    {
     "name": "stdout",
     "output_type": "stream",
     "text": [
      "Citation            0.952192\n",
      "Warning             0.040074\n",
      "Arrest Driver       0.005752\n",
      "N/D                 0.000959\n",
      "Arrest Passenger    0.000639\n",
      "No Action           0.000383\n",
      "Name: stop_outcome, dtype: float64\n",
      "\n",
      "*****\n",
      "\n",
      "Citation            0.944595\n",
      "Warning             0.036184\n",
      "Arrest Driver       0.015895\n",
      "Arrest Passenger    0.001281\n",
      "No Action           0.001068\n",
      "N/D                 0.000976\n",
      "Name: stop_outcome, dtype: float64\n"
     ]
    }
   ],
   "source": [
    "# hız nedeniyle durdurulan kadın sürücülerden oluşan bir DataFrame oluşturalım\n",
    "female_and_speeding = police[(police[\"driver_gender\"] == \"F\") & (police[\"violation\"] == \"Speeding\")]\n",
    "\n",
    "# hız nedeniyle durdurulan erkek sürücülerden oluşan bir DataFrame oluşturun\n",
    "male_and_speeding = police[(police[\"driver_gender\"] == \"M\") & (police[\"violation\"] == \"Speeding\")]\n",
    "\n",
    "# kadın sürücüler için durma sonuçlarını hesaplayalım (oran olarak)\n",
    "print(female_and_speeding[\"stop_outcome\"].value_counts(normalize = True))\n",
    "\n",
    "print(\"\\n*****\\n\")\n",
    "\n",
    "# erkek sürücüler için durma sonuçlarını hesaplayalım (oran olarak)\n",
    "print(male_and_speeding[\"stop_outcome\"].value_counts(normalize = True))"
   ]
  },
  {
   "cell_type": "markdown",
   "id": "5a7e8f58",
   "metadata": {},
   "source": [
    "+ Yukarıda, driver_gender (sürücü cinsiyeti) sütunundaki kadın ve erkeklerin violation (ihlal çeşitleri) sütunundaki \"Speeding\" ihlalini yapanları ayrı ayrı değişkenlere atadık. Atadağımız bu değişkenler de artık yeni bir Dataframe olmuş oldu. Bu yeni Dataframe'lerin de stop_outcome sütunlarındaki değerlerin ortalamasını aldık"
   ]
  },
  {
   "cell_type": "markdown",
   "id": "c4c51f37",
   "metadata": {},
   "source": [
    "### < Does Gender Affect Whose Vehicle Is Searched (Cinsiyet, Aracı Aranan Kişiyi Etkiler mi?) >  "
   ]
  },
  {
   "cell_type": "markdown",
   "id": "f5393403",
   "metadata": {},
   "source": [
    "Bu bölümde, arama oranı olarak da bilinen bir araç aramasıyla sonuçlanan police DataFrame'deki tüm durakların yüzdesini hesaplayacağız.\n",
    "\n",
    "Bu bölümde kullandığımız bütün işlevler ve Tutorial Linkleri : \n",
    "\n",
    "+ np.mean() = https://numpy.org/doc/stable/reference/generated/numpy.mean.html\n",
    "\n",
    "+ np.unique() = https://numpy.org/doc/stable/reference/generated/numpy.unique.html\n",
    "\n",
    "+ pd.DataFrame.groupby() = https://pandas.pydata.org/docs/reference/api/pandas.DataFrame.groupby.html"
   ]
  },
  {
   "cell_type": "markdown",
   "id": "a6399482",
   "metadata": {},
   "source": [
    "Bir sütundaki benzersiz satırların ne olduğunu görmek için Numpy'ın **\"xx.unique()\"** işlevini kullanabiliriz."
   ]
  },
  {
   "cell_type": "markdown",
   "id": "97f649a9",
   "metadata": {},
   "source": [
    "Aşağıdaki kod bloğunda, police Dataframe'indeki search_conducted sütununun veri tipini görüntüleyelim. Ardından ilk önce Pandas'ın **\"xx.value_counts()\"** işlevi ile search_conducted sütunundaki oranları görüntüleyelim. Daha sonra da Numpy'ın **\"xx.mean()\"** işlevi ile oranları görüntüleyelim. Bakalım aynı sonuçları verecekler mi? (Vermeliler)"
   ]
  },
  {
   "cell_type": "code",
   "execution_count": 14,
   "id": "4f235d14",
   "metadata": {},
   "outputs": [
    {
     "name": "stdout",
     "output_type": "stream",
     "text": [
      "bool\n",
      "\n",
      "*****\n",
      "\n",
      "False    0.961785\n",
      "True     0.038215\n",
      "Name: search_conducted, dtype: float64\n",
      "\n",
      "*****\n",
      "\n",
      "0.0382153092354627\n"
     ]
    }
   ],
   "source": [
    "# search_conducted sütununun veri tipini kontrol edelim\n",
    "print(police[\"search_conducted\"].dtype)\n",
    "\n",
    "print(\"\\n*****\\n\")\n",
    "\n",
    "# xx.value_counts() ile search_conducted sütunundaki oranları döndürelim\n",
    "print(police[\"search_conducted\"].value_counts(normalize = True))\n",
    "\n",
    "print(\"\\n*****\\n\")\n",
    "\n",
    "# xx.mean() işlevi ile search_conducted sütunundaki oranları döndürelim\n",
    "print(police[\"search_conducted\"].mean())"
   ]
  },
  {
   "cell_type": "markdown",
   "id": "69d98439",
   "metadata": {},
   "source": [
    "+ Boolean bir serinin ortalamasını aldık. True = 1 ve False = 0 olarak sayıldığından dolayı bu mümkündür. Boolean bir serinin ortalaması, True olan değerlerin yüzdesini temsil eder."
   ]
  },
  {
   "cell_type": "markdown",
   "id": "e54a47db",
   "metadata": {},
   "source": [
    "Aşağıdaki kod bloğunda, driver_gender sütununda F olarak ve M olarak eşleşen satırların search_conducted sütununda karşılık gelen değerlerinin ortalamasını uzun yoldan hesaplayalım. Ardından da Pandas'ın **\"xx.groupby()\"** işlevi ile hesaplayalım."
   ]
  },
  {
   "cell_type": "code",
   "execution_count": 15,
   "id": "28aa3114",
   "metadata": {
    "scrolled": true
   },
   "outputs": [
    {
     "name": "stdout",
     "output_type": "stream",
     "text": [
      "0.019180617481282074\n",
      "0.04542557598546892\n",
      "\n",
      "*****\n",
      "\n",
      "driver_gender\n",
      "F    0.019181\n",
      "M    0.045426\n",
      "Name: search_conducted, dtype: float64\n"
     ]
    }
   ],
   "source": [
    "# kadın sürücüler için arama oranını hesaplayalım\n",
    "print(police[police[\"driver_gender\"] == 'F'][\"search_conducted\"].mean())\n",
    "\n",
    "# erkek sürücüler için arama oranını hesaplayalım\n",
    "print(police[police[\"driver_gender\"] == 'M'][\"search_conducted\"].mean())\n",
    "\n",
    "print(\"\\n*****\\n\")\n",
    "\n",
    "# xx.groupby() işlevi ile bütün driver_gender sütununu hesaplayalım\n",
    "print(police.groupby(\"driver_gender\")[\"search_conducted\"].mean())"
   ]
  },
  {
   "cell_type": "markdown",
   "id": "8de4822c",
   "metadata": {},
   "source": [
    "Aşağıdaki kod bloğunda, her bir cinsiyet (driver_gender sütunu) ve ihlal (violation sütunu) kombinasyonu için arama oranını hesaplamak üzere bir **\"xx.groupby()\"** işlevini kullanalım. Erkekler ve kadınlar her ihlal için yaklaşık olarak aynı oranda mı aranıyor görelim."
   ]
  },
  {
   "cell_type": "code",
   "execution_count": 16,
   "id": "dbb92d82",
   "metadata": {
    "scrolled": true
   },
   "outputs": [
    {
     "name": "stdout",
     "output_type": "stream",
     "text": [
      "driver_gender  violation          \n",
      "F              Equipment              0.039984\n",
      "               Moving violation       0.039257\n",
      "               Other                  0.041018\n",
      "               Registration/plates    0.054924\n",
      "               Seat belt              0.017301\n",
      "               Speeding               0.008309\n",
      "M              Equipment              0.071496\n",
      "               Moving violation       0.061524\n",
      "               Other                  0.046191\n",
      "               Registration/plates    0.108802\n",
      "               Seat belt              0.035119\n",
      "               Speeding               0.027885\n",
      "Name: search_conducted, dtype: float64\n"
     ]
    }
   ],
   "source": [
    "print(police.groupby([\"driver_gender\", \"violation\"])[\"search_conducted\"].mean())"
   ]
  },
  {
   "cell_type": "markdown",
   "id": "6aaf0f14",
   "metadata": {},
   "source": [
    "Aşağıdaki kod bloğunda, cinsiyetten (driver_gender sütunu) önce ihlale (violation sütunu) göre gruplamak için sıralamayı tersine çevirin. Bu şekilde sunulduğunda sonuçları karşılaştırmak daha kolay olabilir."
   ]
  },
  {
   "cell_type": "code",
   "execution_count": 17,
   "id": "58954de8",
   "metadata": {},
   "outputs": [
    {
     "name": "stdout",
     "output_type": "stream",
     "text": [
      "violation            driver_gender\n",
      "Equipment            F                0.039984\n",
      "                     M                0.071496\n",
      "Moving violation     F                0.039257\n",
      "                     M                0.061524\n",
      "Other                F                0.041018\n",
      "                     M                0.046191\n",
      "Registration/plates  F                0.054924\n",
      "                     M                0.108802\n",
      "Seat belt            F                0.017301\n",
      "                     M                0.035119\n",
      "Speeding             F                0.008309\n",
      "                     M                0.027885\n",
      "Name: search_conducted, dtype: float64\n"
     ]
    }
   ],
   "source": [
    "print(police.groupby([\"violation\", \"driver_gender\"])[\"search_conducted\"].mean())"
   ]
  },
  {
   "cell_type": "markdown",
   "id": "e74cdaa9",
   "metadata": {},
   "source": [
    "+ **\"xx.groupby()\"** işlevinden sonra köşeli parantez ( [ ] ), içinde yazdığımız sütun adı, hangi sütundaki değerlere işlem yapacağımızı belirtiyor."
   ]
  },
  {
   "cell_type": "markdown",
   "id": "04040cef",
   "metadata": {},
   "source": [
    "### < Does Gender Affect Who Is Frisked During a Search? (Cinsiyet,  Arama Esnasında Kimin Arandığını Etkiliyor mu?) > "
   ]
  },
  {
   "cell_type": "markdown",
   "id": "2ec557c4",
   "metadata": {},
   "source": [
    "Bu bölümde arama sırandaki durumla ilgileneceğiz.\n",
    "\n",
    "Bu bölümde kullandığımız bütün işlevler ve Tutorial Linkleri : \n",
    "\n",
    "+ pd.Series.str.contains = https://pandas.pydata.org/docs/reference/api/pandas.Series.str.contains.html "
   ]
  },
  {
   "cell_type": "markdown",
   "id": "e11bc8e2",
   "metadata": {},
   "source": [
    "Aşağıdaki kod bloğunda, **\"xx.value_counts()\"** ile search_conducted ve search_type sütunlarındaki benzersiz değerlerin sayısına bakalım."
   ]
  },
  {
   "cell_type": "code",
   "execution_count": 18,
   "id": "0409324e",
   "metadata": {
    "scrolled": true
   },
   "outputs": [
    {
     "name": "stdout",
     "output_type": "stream",
     "text": [
      "False    83229\n",
      "True      3307\n",
      "Name: search_conducted, dtype: int64\n",
      "\n",
      "*****\n",
      "\n",
      "NaN                                                         83229\n",
      "Incident to Arrest                                           1290\n",
      "Probable Cause                                                924\n",
      "Inventory                                                     219\n",
      "Reasonable Suspicion                                          214\n",
      "Protective Frisk                                              164\n",
      "Incident to Arrest,Inventory                                  123\n",
      "Incident to Arrest,Probable Cause                             100\n",
      "Probable Cause,Reasonable Suspicion                            54\n",
      "Incident to Arrest,Inventory,Probable Cause                    35\n",
      "Probable Cause,Protective Frisk                                35\n",
      "Incident to Arrest,Protective Frisk                            33\n",
      "Inventory,Probable Cause                                       25\n",
      "Protective Frisk,Reasonable Suspicion                          19\n",
      "Incident to Arrest,Inventory,Protective Frisk                  18\n",
      "Incident to Arrest,Probable Cause,Protective Frisk             13\n",
      "Inventory,Protective Frisk                                     12\n",
      "Incident to Arrest,Reasonable Suspicion                         8\n",
      "Probable Cause,Protective Frisk,Reasonable Suspicion            5\n",
      "Incident to Arrest,Probable Cause,Reasonable Suspicion          5\n",
      "Incident to Arrest,Inventory,Reasonable Suspicion               4\n",
      "Incident to Arrest,Protective Frisk,Reasonable Suspicion        2\n",
      "Inventory,Reasonable Suspicion                                  2\n",
      "Inventory,Protective Frisk,Reasonable Suspicion                 1\n",
      "Inventory,Probable Cause,Reasonable Suspicion                   1\n",
      "Inventory,Probable Cause,Protective Frisk                       1\n",
      "Name: search_type, dtype: int64\n"
     ]
    }
   ],
   "source": [
    "print(police[\"search_conducted\"].value_counts())\n",
    "print(\"\\n*****\\n\")\n",
    "print(police[\"search_type\"].value_counts(dropna = False))"
   ]
  },
  {
   "cell_type": "markdown",
   "id": "cdd641d1",
   "metadata": {},
   "source": [
    "+ search_conducted sütunu (arama var mı yok mu onu belirten sütun) ve search_type (aramayla ilgili ek bilgi içeren sütun) ile ilgileneceğiz. search_type sütunundaki NaN sayısının, search_conducted ile aynı olduğuna dikkat edelim. Araç durdurulduğunda arama yapılmazsa False olacaktır ve arama ile ilgili bir bilgi olamayacaktır. Bu yüzden de search_type sütununa NaN olarak geçecektir."
   ]
  },
  {
   "cell_type": "markdown",
   "id": "da12d612",
   "metadata": {},
   "source": [
    "Aşağıdaki kod bloğunda, ilk olarak police Dataframe'indeki search_type sütunundaki benzersiz değerlerin kaç tane olduğunu Pandas'ın **\"xx.value_counts()\"** işlevi ile görelim. Ardından police Dataframe'ine \"frisk\" isimli bir sütun ekleyelim. Bu sütun, search_type sütunundaki tek arama türü \"Protective Frisk\" değerlerinin olduğu satırları barındırsın. Bunu Pandas'ın **\"xx.str.contains()\"** işlevi ile yapabiliriz. Ardından eklediğimiz frisk sütununun veri tipini ve kaç tane True değer içerdiğini görelim."
   ]
  },
  {
   "cell_type": "code",
   "execution_count": 19,
   "id": "f87083f9",
   "metadata": {
    "scrolled": true
   },
   "outputs": [
    {
     "name": "stdout",
     "output_type": "stream",
     "text": [
      "Incident to Arrest                                          1290\n",
      "Probable Cause                                               924\n",
      "Inventory                                                    219\n",
      "Reasonable Suspicion                                         214\n",
      "Protective Frisk                                             164\n",
      "Incident to Arrest,Inventory                                 123\n",
      "Incident to Arrest,Probable Cause                            100\n",
      "Probable Cause,Reasonable Suspicion                           54\n",
      "Incident to Arrest,Inventory,Probable Cause                   35\n",
      "Probable Cause,Protective Frisk                               35\n",
      "Incident to Arrest,Protective Frisk                           33\n",
      "Inventory,Probable Cause                                      25\n",
      "Protective Frisk,Reasonable Suspicion                         19\n",
      "Incident to Arrest,Inventory,Protective Frisk                 18\n",
      "Incident to Arrest,Probable Cause,Protective Frisk            13\n",
      "Inventory,Protective Frisk                                    12\n",
      "Incident to Arrest,Reasonable Suspicion                        8\n",
      "Probable Cause,Protective Frisk,Reasonable Suspicion           5\n",
      "Incident to Arrest,Probable Cause,Reasonable Suspicion         5\n",
      "Incident to Arrest,Inventory,Reasonable Suspicion              4\n",
      "Incident to Arrest,Protective Frisk,Reasonable Suspicion       2\n",
      "Inventory,Reasonable Suspicion                                 2\n",
      "Inventory,Protective Frisk,Reasonable Suspicion                1\n",
      "Inventory,Probable Cause,Reasonable Suspicion                  1\n",
      "Inventory,Probable Cause,Protective Frisk                      1\n",
      "Name: search_type, dtype: int64\n",
      "\n",
      "*****\n",
      "\n",
      "bool\n",
      "\n",
      "*****\n",
      "\n",
      "303\n"
     ]
    }
   ],
   "source": [
    "# Count the 'search_type' values\n",
    "print(police[\"search_type\"].value_counts())\n",
    "\n",
    "print(\"\\n*****\\n\")\n",
    "\n",
    "# Check if 'search_type' contains the string 'Protective Frisk'\n",
    "police['frisk'] = police[\"search_type\"].str.contains('Protective Frisk', na= False)\n",
    "\n",
    "# Check the data type of 'frisk'\n",
    "print(police[\"frisk\"].dtype)\n",
    "\n",
    "print(\"\\n*****\\n\")\n",
    "\n",
    "# Take the sum of 'frisk'\n",
    "print(police[\"frisk\"].sum())"
   ]
  },
  {
   "cell_type": "markdown",
   "id": "e98115fc",
   "metadata": {},
   "source": [
    "Aşağıdaki kod bloğunda, search_conducted == True olan satırları searched adlı değişkene atayalım. Arından oluşturduğumuz \"frisk\" sütununun ortalamasını alarak genel frisk oranını hesaplayalım. Son olarak da **\"xx.groupby()\"** işlevi ile driver_gender sütunundaki her değer için frisk sütununun ortalamasını hesaplayalım."
   ]
  },
  {
   "cell_type": "code",
   "execution_count": 20,
   "id": "72a81c2a",
   "metadata": {},
   "outputs": [
    {
     "name": "stdout",
     "output_type": "stream",
     "text": [
      "0.09162382824312065\n",
      "\n",
      "*****\n",
      "\n",
      "driver_gender\n",
      "F    0.074561\n",
      "M    0.094353\n",
      "Name: frisk, dtype: float64\n"
     ]
    }
   ],
   "source": [
    "# bir aramanın yürütüldüğü duraklardan oluşan bir DataFrame oluşturalım\n",
    "searched = police[police[\"search_conducted\"] == True]\n",
    "\n",
    "# 'frisk'in ortalamasını alarak genel frisk oranını hesaplayalım\n",
    "print(searched[\"frisk\"].mean())\n",
    "\n",
    "print(\"\\n*****\\n\")\n",
    "\n",
    "# her cinsiyet için frisk oranını hesaplayın\n",
    "print(searched.groupby('driver_gender').frisk.mean())"
   ]
  },
  {
   "cell_type": "markdown",
   "id": "c4fcebcb",
   "metadata": {},
   "source": [
    "# 3-) Visual Exploratory Data Analysis (Görsel Keşifsel Veri Analizi) "
   ]
  },
  {
   "cell_type": "markdown",
   "id": "a0bdc7d9",
   "metadata": {},
   "source": [
    "Günün belirli bir saatinde tutuklanma olasılığınız daha mı yüksek? Uyuşturucuyla ilgili duraklamalar artıyor mu? Bu bölümde, veri setini görsel olarak analiz ederek bu ve diğer soruları cevaplayacağız çünkü grafikler, ham verileri incelemenin yapamayacağı şekilde eğilimleri anlamanıza yardımcı olabilir."
   ]
  },
  {
   "cell_type": "markdown",
   "id": "d7fd22f4",
   "metadata": {},
   "source": [
    "### < Does Time of Day Affect Arrest Rate? (Günün Saati, Tutuklanma Oranını Etkiler mi?) > "
   ]
  },
  {
   "cell_type": "markdown",
   "id": "bb6fda4e",
   "metadata": {},
   "source": [
    "Günün saati, tutuklanma oranını etkiler mi? Bu bölümde bu soruyu grafikler oluşturarak yanıtlamaya çalışacağız.\n",
    "\n",
    "Bu bölümde kullandığımız bütün işlevler ve Tutorial Linkleri : \n",
    "\n",
    "+ pd.Series.dt.month = https://pandas.pydata.org/docs/reference/api/pandas.Series.dt.month.html\n",
    "\n",
    "+ pd.DatetimeIndex.hour = https://pandas.pydata.org/docs/reference/api/pandas.DatetimeIndex.hour.html"
   ]
  },
  {
   "cell_type": "markdown",
   "id": "fad3a9f8",
   "metadata": {},
   "source": [
    "Bir polis memuru bir sürücüyü durdurduğunda, bu duraklamaların küçük bir yüzdesi tutuklanmayla sonuçlanıyor. Bu tutuklama oranı olarak bilinir. Bu alıştırmada, tutuklama oranının günün saatine göre değişip değişmediğini öğreneceğiz."
   ]
  },
  {
   "cell_type": "markdown",
   "id": "85a47a44",
   "metadata": {},
   "source": [
    "Aşağıdaki kod bloğunda, önce is_arrested (durdurulan kişi tutuklanmış mu tutuklanmamış mı True ve False ile gösteren sütun) sütununun ortalamasını **\"xx.mean()\"** ile hesaplayalım. Daha sonra Pandas'ın **\"xx.index.hour()\"** işlevi ile saatlik tutuklama oranını hesaplayacağız. Son olarak da hesapladığımız bu sonucu hourly_arrest_rate adlı değişkene atayacağız."
   ]
  },
  {
   "cell_type": "code",
   "execution_count": 21,
   "id": "24c4b1e0",
   "metadata": {
    "scrolled": true
   },
   "outputs": [
    {
     "name": "stdout",
     "output_type": "stream",
     "text": [
      "0.0355690117407784\n",
      "\n",
      "*****\n",
      "\n",
      "stop_datetime\n",
      "0     0.051431\n",
      "1     0.064932\n",
      "2     0.060798\n",
      "3     0.060549\n",
      "4     0.048000\n",
      "5     0.042781\n",
      "6     0.013813\n",
      "7     0.013032\n",
      "8     0.021854\n",
      "9     0.025206\n",
      "10    0.028213\n",
      "11    0.028897\n",
      "12    0.037399\n",
      "13    0.030776\n",
      "14    0.030605\n",
      "15    0.030679\n",
      "16    0.035281\n",
      "17    0.040619\n",
      "18    0.038204\n",
      "19    0.032245\n",
      "20    0.038107\n",
      "21    0.064541\n",
      "22    0.048666\n",
      "23    0.047592\n",
      "Name: is_arrested, dtype: float64\n"
     ]
    }
   ],
   "source": [
    "# genel tutuklama oranını hesaplayalım\n",
    "print(police[\"is_arrested\"].mean())\n",
    "\n",
    "print(\"\\n*****\\n\")\n",
    "\n",
    "# saatlik tutuklama oranını hesaplayalım\n",
    "print(police.groupby(police.index.hour)[\"is_arrested\"].mean())\n",
    "\n",
    "# saatlik tutuklama oranını değişkene atayalım \n",
    "hourly_arrest_rate = police.groupby(police.index.hour)[\"is_arrested\"].mean()"
   ]
  },
  {
   "cell_type": "markdown",
   "id": "cbb0bfb2",
   "metadata": {},
   "source": [
    "Aşağıdaki kod bloğunda, hourly_arrest_rate adında tutuklanma oranının günün saatine göre oranını atadığımız değişkenin grafiğini çizeceğiz."
   ]
  },
  {
   "cell_type": "code",
   "execution_count": 22,
   "id": "2fa8e32a",
   "metadata": {
    "scrolled": true
   },
   "outputs": [
    {
     "data": {
      "image/png": "[encoded data removed]",
      "text/plain": [
       "<Figure size 432x288 with 1 Axes>"
      ]
     },
     "metadata": {
      "needs_background": "light"
     },
     "output_type": "display_data"
    }
   ],
   "source": [
    "# matplotlib.pyplot'u içe aktaralım\n",
    "import matplotlib.pyplot as plt \n",
    "\n",
    "# hourly_arrest_rate'in line plot'unu çizelim\n",
    "hourly_arrest_rate.plot()\n",
    "\n",
    "# xlabel, ylabel ve title ekleyelim\n",
    "plt.xlabel(\"Hour\")\n",
    "plt.ylabel(\"Arrest Rate\")\n",
    "plt.title(\"Arrest Rate by Time of Day\")\n",
    "\n",
    "# grafiği gösterelim\n",
    "plt.show()"
   ]
  },
  {
   "cell_type": "markdown",
   "id": "02e58fc0",
   "metadata": {},
   "source": [
    "+ Tek bir değişkenin (arrest rate) zaman içinde nasıl değiştiğinin grafiği çizdik."
   ]
  },
  {
   "cell_type": "markdown",
   "id": "21f36b46",
   "metadata": {},
   "source": [
    "### < Are Drug-Related Stops On The Rise? (Uyuşturucuyla ilgili duraklamalar artıyor mu?) > "
   ]
  },
  {
   "cell_type": "markdown",
   "id": "b786cf9e",
   "metadata": {},
   "source": [
    "Bu bölümde, zaman içinde iki değişken arasındaki ilişikiyi gözlemleyeceğiz.\n",
    "\n",
    "Bu bölümde kullandığımız bütün işlevler ve Tutorial Linkleri : \n",
    "\n",
    "+ pd.DataFrame.resample() = https://pandas.pydata.org/docs/reference/api/pandas.DataFrame.resample.html\n",
    "\n",
    "+ pd.concat() = https://pandas.pydata.org/docs/reference/api/pandas.concat.html"
   ]
  },
  {
   "cell_type": "markdown",
   "id": "487c48f9",
   "metadata": {},
   "source": [
    "Trafik durdurmalarının küçük bir bölümünde yapılan aramalarda araçta uyuşturucu madde bulundu. Bu alıştırmada, uyuşturucuyla ilgili bu durmaların zaman içinde daha yaygın hale gelip gelmediğini değerlendireceğiz."
   ]
  },
  {
   "cell_type": "markdown",
   "id": "b575cfe7",
   "metadata": {},
   "source": [
    "Aşağıdaki kod bloğunda, drugs_related_stop Boolean sütunu (belirli bir durdurma sırasında uyuşturucu bulunup bulunmadığını belirtir) bu sütunu yeniden örnekleyerek yıllık ilaç oranını hesaplayacak ve ardından oranın zaman içinde nasıl değiştiğini görselleştirmek için bir çizgi grafiği çizeceğiz. Yeniden örnekleme işlemini Pandas'ın **\"xx.resample()\"** işlevi ile yapacağız. Yeniden örneklediğimiz sonucu da annual_drug_rate isimli bir değişkene atayacağız."
   ]
  },
  {
   "cell_type": "code",
   "execution_count": 23,
   "id": "69343bc8",
   "metadata": {
    "scrolled": true
   },
   "outputs": [
    {
     "name": "stdout",
     "output_type": "stream",
     "text": [
      "stop_datetime\n",
      "2005-12-31    0.006501\n",
      "2006-12-31    0.007258\n",
      "2007-12-31    0.007970\n",
      "2008-12-31    0.007505\n",
      "2009-12-31    0.009889\n",
      "2010-12-31    0.010081\n",
      "2011-12-31    0.009731\n",
      "2012-12-31    0.009921\n",
      "2013-12-31    0.013094\n",
      "2014-12-31    0.013826\n",
      "2015-12-31    0.012266\n",
      "Freq: A-DEC, Name: drugs_related_stop, dtype: float64\n"
     ]
    },
    {
     "data": {
      "image/png": "[encoded data removed]",
      "text/plain": [
       "<Figure size 432x288 with 1 Axes>"
      ]
     },
     "metadata": {
      "needs_background": "light"
     },
     "output_type": "display_data"
    }
   ],
   "source": [
    "# uyuşturucuya bağlı durdurmaların yıllık oranını hesaplayalım\n",
    "print(police[\"drugs_related_stop\"].resample(\"A\").mean())\n",
    "\n",
    "# uyuşturucuya bağlı durmaların yıllık oranını annual_drug_rate adlı değişkene atayalım\n",
    "annual_drug_rate = police[\"drugs_related_stop\"].resample(\"A\").mean()\n",
    "\n",
    "# annual_drug_rate'in çizgi grafiğini oluşturalım\n",
    "annual_drug_rate.plot()\n",
    "\n",
    "# grafiği gösterelim\n",
    "plt.show()"
   ]
  },
  {
   "cell_type": "markdown",
   "id": "b3c67394",
   "metadata": {},
   "source": [
    "+ Yıllık ilaç oranındaki tarihlerin 12. ayın son günü olduğuna dikkat edelim."
   ]
  },
  {
   "cell_type": "markdown",
   "id": "db5d4edd",
   "metadata": {},
   "source": [
    "Aşağıdaki kod bloğunda, annual_search_rate adlı değişkene search_conducted (arama yapılıp yapılmadığını gösteren sütun) sütununun yeniden örneklenmiş ve yıllık arama oranını hesaplanmış halini atayacağız. Daha sonra annual adlı değişkene Pandas'ın **\"xx.concat\"** işlevini kullanarak yukarıda oluşturduğumuz annual_drug_rate sütunu ve annual_search_rate sütununu birleştireceğiz. Son olarak da annul değişkeninin grafiğini çizdireceğiz. Grafiği çizdiriken **\"xx.plot()\"** işlevinin, **subplots** parametresini True olarak ayarlayacağız ki grafikleri tek bir tabloda çizmek yerine ayrı ayrı çizsin."
   ]
  },
  {
   "cell_type": "code",
   "execution_count": 24,
   "id": "ec898e2b",
   "metadata": {
    "scrolled": true
   },
   "outputs": [
    {
     "data": {
      "image/png": "[encoded data removed]",
      "text/plain": [
       "<Figure size 432x288 with 2 Axes>"
      ]
     },
     "metadata": {
      "needs_background": "light"
     },
     "output_type": "display_data"
    }
   ],
   "source": [
    "# yıllık arama oranını hesaplayın ve kaydedelim\n",
    "annual_search_rate = police[\"search_conducted\"].resample(\"A\").mean()\n",
    "\n",
    "# \"annual_drug_rate\" ve \"annual_search_rate\" öğelerini birleştirelim\n",
    "annual = pd.concat([annual_drug_rate, annual_search_rate], axis=\"columns\")\n",
    "\n",
    "# Create subplots from 'annual'\n",
    "annual.plot(subplots = True)\n",
    "\n",
    "# Display the subplots\n",
    "plt.show()"
   ]
  },
  {
   "cell_type": "markdown",
   "id": "3dea0120",
   "metadata": {},
   "source": [
    "### < What Violations Are Caught in Each District? (İlçelerde Hangi İhlaller Yakalanıyor) >   "
   ]
  },
  {
   "cell_type": "markdown",
   "id": "47021b77",
   "metadata": {},
   "source": [
    "Bu bölümde, bölgelere göre ihlalleri grafikleştireceğiz.\n",
    "\n",
    "Bu bölümde kullandığımız bütün işlevler ve Tutorial Linkleri : \n",
    "\n",
    "+ pd.crosstab() = https://pandas.pydata.org/docs/reference/api/pandas.crosstab.html"
   ]
  },
  {
   "cell_type": "markdown",
   "id": "04032f3e",
   "metadata": {},
   "source": [
    "Aşağıdaki kod bloğunda, altı bölgenin her birinde her türden kaç ihlalin gerçekleştiğini belirlemek için police Dataframe'indeki district (bölgelerin olduğu sütun) ve violation (ihlal türlerinin olduğu sütun)'dan oluşan bir sıklık tablosunu Pandas'ın **\"xx.crosstab()\"** işlevi ile oluşturacağız ve all_zones adlı değişkene atayacağız. Ardından, oluşturduğumuz tabloyu **\"xx.loc[ ]\"** ile Zone K1'den, Zone K3'e kadar filtreleyeceğiz. Filtrelememizi de k_zones adlı değişkene atayacağız."
   ]
  },
  {
   "cell_type": "code",
   "execution_count": 25,
   "id": "95b75721",
   "metadata": {
    "scrolled": true
   },
   "outputs": [
    {
     "name": "stdout",
     "output_type": "stream",
     "text": [
      "violation  Equipment  Moving violation  Other  Registration/plates  Seat belt  \\\n",
      "district                                                                        \n",
      "Zone K1          672              1254    290                  120          0   \n",
      "Zone K2         2061              2962    942                  768        481   \n",
      "Zone K3         2302              2898    705                  695        638   \n",
      "Zone X1          296               671    143                   38         74   \n",
      "Zone X3         2049              3086    769                  671        820   \n",
      "Zone X4         3541              5353   1560                 1411        843   \n",
      "\n",
      "violation  Speeding  \n",
      "district             \n",
      "Zone K1        5960  \n",
      "Zone K2       10448  \n",
      "Zone K3       12322  \n",
      "Zone X1        1119  \n",
      "Zone X3        8779  \n",
      "Zone X4        9795  \n",
      "\n",
      "******\n",
      "\n",
      "violation  Equipment  Moving violation  Other  Registration/plates  Seat belt  \\\n",
      "district                                                                        \n",
      "Zone K1          672              1254    290                  120          0   \n",
      "Zone K2         2061              2962    942                  768        481   \n",
      "Zone K3         2302              2898    705                  695        638   \n",
      "\n",
      "violation  Speeding  \n",
      "district             \n",
      "Zone K1        5960  \n",
      "Zone K2       10448  \n",
      "Zone K3       12322  \n"
     ]
    }
   ],
   "source": [
    "# bölgeler (district sütunu) ve ihlaller (violation sütunu) için bir sıklık tablosu oluşturun\n",
    "print(pd.crosstab(police[\"district\"], police[\"violation\"]))\n",
    "\n",
    "# 'all_zones' adlı değişkene oluşturduğumuz frekans tablosunu atayalım\n",
    "all_zones = pd.crosstab(police[\"district\"], police[\"violation\"])\n",
    "\n",
    "print(\"\\n******\\n\")\n",
    "\n",
    "# Zone K1'den, Zone K3'e kadar olan kısımları filtreleyelim (seçelim)\n",
    "print(all_zones.loc[\"Zone K1\" : \"Zone K3\"])\n",
    "\n",
    "# filtrelememizi k_zones adlı değişkene atayalım\n",
    "k_zones = all_zones.loc[\"Zone K1\" : \"Zone K3\"]"
   ]
  },
  {
   "cell_type": "markdown",
   "id": "d0c77de9",
   "metadata": {},
   "source": [
    "Aşağıdaki kod bloğunda, k_zones olarak oluşturduğumuz değişkenin bar grafiğini çizelim ve bölgelere göre ihlallerin ne kadar yapıldığını görselleştirmiş olalım."
   ]
  },
  {
   "cell_type": "code",
   "execution_count": 26,
   "id": "e266ea8f",
   "metadata": {},
   "outputs": [
    {
     "data": {
      "image/png": "[encoded data removed]",
      "text/plain": [
       "<Figure size 432x288 with 1 Axes>"
      ]
     },
     "metadata": {
      "needs_background": "light"
     },
     "output_type": "display_data"
    },
    {
     "name": "stdout",
     "output_type": "stream",
     "text": [
      "\n",
      "*****\n",
      "\n"
     ]
    },
    {
     "data": {
      "image/png": "[encoded data removed]",
      "text/plain": [
       "<Figure size 432x288 with 1 Axes>"
      ]
     },
     "metadata": {
      "needs_background": "light"
     },
     "output_type": "display_data"
    }
   ],
   "source": [
    "k_zones.plot(kind = \"bar\", stacked = True)\n",
    "plt.show()\n",
    "\n",
    "print(\"\\n*****\\n\")\n",
    "\n",
    "k_zones.plot(kind = \"bar\")\n",
    "plt.show()"
   ]
  },
  {
   "cell_type": "markdown",
   "id": "1a9310f7",
   "metadata": {},
   "source": [
    "### < How Long Might You Be Stopped For a Violation? (Bir ihlal nedeniyle ne kadar süreyle durdurulabilirsiniz?) > "
   ]
  },
  {
   "cell_type": "markdown",
   "id": "125b66c7",
   "metadata": {},
   "source": [
    "police veri setinde, stop_duration sütunu, sürücünün memur tarafından yaklaşık olarak ne kadar süreyle gözaltında tutulduğunu size söyler. Maalesef süreler '0-15 Dak' gibi diziler halinde saklanıyor. Bu verilerin analiz edilmesini kolaylaştırmamız lazım. Bu bölümde bunu yapıp grafik ile görselleştireceğiz.\n",
    "\n",
    "Bu bölümde kullandığımız bütün işlevler ve Tutorial Linkleri : \n",
    "\n",
    "+ pd.Series.map() = https://pandas.pydata.org/docs/reference/api/pandas.Series.map.html?highlight=map%209\n",
    "\n",
    "+ pd.Series.unique() = https://pandas.pydata.org/docs/reference/api/pandas.Series.unique.html?highlight=unique#pandas.Series.unique\n",
    "\n",
    "+ pd.DataFrame.sort_values() = https://pandas.pydata.org/docs/reference/api/pandas.DataFrame.sort_values.html?highlight=sort_values#pandas.DataFrame.sort_values"
   ]
  },
  {
   "cell_type": "markdown",
   "id": "f08d3da6",
   "metadata": {},
   "source": [
    "Aşağıdaki kod bloğunda, durma sürelerini **\"xx.map()\"** işlevi ile tam sayılara çevireceğiz. Kesin süreler mevcut olmadığından, sayıları makul değerler kullanarak tahmin etmemiz gerecek. Tam sayılara dönüşmüş haldeki sütunu stop_minutes adlı bir sütun olarak oluşturacağız ve son olarak bu sütundaki eşsiz değerleri **\"xx.unique()\"** işlevi ile döndüreceğiz."
   ]
  },
  {
   "cell_type": "code",
   "execution_count": 27,
   "id": "c599db3f",
   "metadata": {},
   "outputs": [
    {
     "name": "stdout",
     "output_type": "stream",
     "text": [
      "['0-15 Min' '16-30 Min' '30+ Min']\n",
      "[ 8 23 45]\n"
     ]
    }
   ],
   "source": [
    "# 'stop_duration' içindeki benzersiz değerleri yazdıralım\n",
    "print(police[\"stop_duration\"].unique())\n",
    "\n",
    "# dizeleri tam sayılara eşleyen bir sözlük oluşturalım\n",
    "mapping = {\"0-15 Min\" : 8, \"16-30 Min\" : 23, \"30+ Min\" : 45}\n",
    "\n",
    "# mapping'i kullanarak 'stop_duration' dizelerini tam sayılara dönüştürün\n",
    "police['stop_minutes'] = police[\"stop_duration\"].map(mapping)\n",
    "\n",
    "# benzersiz değerleri 'stop_ minutes' için yazdıralım\n",
    "print(police[\"stop_minutes\"].unique())"
   ]
  },
  {
   "cell_type": "markdown",
   "id": "ec84532e",
   "metadata": {},
   "source": [
    "+ Görüleceği üzere stop_duration'daki string olarak aralık belirten dakikalar, stop_minutes adlı sütunda integer olarak tam sayı değer belirtiyorlar."
   ]
  },
  {
   "cell_type": "markdown",
   "id": "b7c21b39",
   "metadata": {},
   "source": [
    "Aşağıdaki sütunda, violation_raw sütunundaki stop_minutes sütununa denk gelen değerlerin ortalaması alalım ve stop_length adlı bir değişkene atayalım. Ardından **xx.sort_values()** işlevi ile küçükten büyüğe sıralayıp bar grafiği çizelim."
   ]
  },
  {
   "cell_type": "code",
   "execution_count": 28,
   "id": "eb825fae",
   "metadata": {},
   "outputs": [
    {
     "name": "stdout",
     "output_type": "stream",
     "text": [
      "violation_raw\n",
      "APB                                 17.967033\n",
      "Call for Service                    22.124371\n",
      "Equipment/Inspection Violation      11.445655\n",
      "Motorist Assist/Courtesy            17.741463\n",
      "Other Traffic Violation             13.844490\n",
      "Registration Violation              13.736970\n",
      "Seatbelt Violation                   9.662815\n",
      "Special Detail/Directed Patrol      15.123632\n",
      "Speeding                            10.581562\n",
      "Suspicious Person                   14.910714\n",
      "Violation of City/Town Ordinance    13.254144\n",
      "Warrant                             24.055556\n",
      "Name: stop_minutes, dtype: float64\n"
     ]
    },
    {
     "data": {
      "image/png": "[encoded data removed]",
      "text/plain": [
       "<Figure size 432x288 with 1 Axes>"
      ]
     },
     "metadata": {
      "needs_background": "light"
     },
     "output_type": "display_data"
    }
   ],
   "source": [
    "# \"violation_raw\" içindeki her değer için ortalama \"stop_minutes\"ı hesaplayalım\n",
    "print(police.groupby(\"violation_raw\")[\"stop_minutes\"].mean())\n",
    "\n",
    "# ortaya çıkan Seriyi 'stop_length' olarak kaydedelim\n",
    "stop_length = police.groupby(\"violation_raw\")[\"stop_minutes\"].mean()\n",
    "\n",
    "# 'stop_length' değerini değerlerine göre sıralayalım ve yatay bir çubuk grafiği oluşturalım\n",
    "stop_length.sort_values().plot(kind = \"barh\")\n",
    "\n",
    "# grafiği gösterelim\n",
    "plt.show()"
   ]
  },
  {
   "cell_type": "markdown",
   "id": "e3b95e32",
   "metadata": {},
   "source": [
    "# 4-) Analyzing the Effect of Weather on Policing (Hava Durumunun Polislik Üzerindeki Etkisini Analiz Etmek)"
   ]
  },
  {
   "cell_type": "markdown",
   "id": "f1a6a623",
   "metadata": {},
   "source": [
    "Bu bölümde, trafik durdurmaları sırasında hava koşullarının polis davranışları üzerindeki etkisini keşfetmek için ikinci bir veri kümesi kullanacağız. Veri kümelerini birleştirme ve yeniden şekillendirme, bir veri kaynağının güvenilir olup olmadığını değerlendirme, kategorik verilerle çalışma ve diğer ileri düzey beceriler üzerinde pratik yapacağız."
   ]
  },
  {
   "cell_type": "markdown",
   "id": "85a242ae",
   "metadata": {},
   "source": [
    "### < Exploring the Weather Dataset (Hava Durumu Veri Setini Keşfetmek) >"
   ]
  },
  {
   "cell_type": "markdown",
   "id": "477b7109",
   "metadata": {},
   "source": [
    "Trafik durdurmaları sırasında hava koşullarının polis davranışlarını nasıl etkilediğini görmek için weather adlı bir Dataframe ile daha çalışacağız. Bu Dataframe, National Centers for Environmental Information (Ulusal Çevresel Bilgi Merkezleri) tarafından toplanmıştır. Bu bölümde, weather Dataframe'ini inceleyeceğiz."
   ]
  },
  {
   "cell_type": "markdown",
   "id": "362757d0",
   "metadata": {},
   "source": [
    "Aşağıdaki kod bloğunda, \"weather.csv\" adlı dosyayı içe aktaralım ve Dataframe'i inceleyelim."
   ]
  },
  {
   "cell_type": "code",
   "execution_count": 29,
   "id": "ac0243d6",
   "metadata": {
    "scrolled": true
   },
   "outputs": [
    {
     "name": "stdout",
     "output_type": "stream",
     "text": [
      "       STATION        DATE  TAVG  TMIN  TMAX  AWND  WSF2  WT01  WT02  WT03  \\\n",
      "0  USW00014765  2005-01-01  44.0    35    53  8.95  25.1   1.0   NaN   NaN   \n",
      "1  USW00014765  2005-01-02  36.0    28    44  9.40  14.1   NaN   NaN   NaN   \n",
      "2  USW00014765  2005-01-03  49.0    44    53  6.93  17.0   1.0   NaN   NaN   \n",
      "\n",
      "   ...  WT11  WT13  WT14  WT15  WT16  WT17  WT18  WT19  WT21  WT22  \n",
      "0  ...   NaN   1.0   NaN   NaN   NaN   NaN   NaN   NaN   NaN   NaN  \n",
      "1  ...   NaN   NaN   NaN   NaN   1.0   NaN   1.0   NaN   NaN   NaN  \n",
      "2  ...   NaN   1.0   NaN   NaN   1.0   NaN   NaN   NaN   NaN   NaN  \n",
      "\n",
      "[3 rows x 27 columns]\n",
      "\n",
      "*****\n",
      "\n",
      "weather dataframe shape :  (4017, 27)\n"
     ]
    }
   ],
   "source": [
    "import pandas as pd\n",
    "\n",
    "weather = pd.read_csv(\"weather.csv\")\n",
    "print(weather.head(3))\n",
    "print(\"\\n*****\\n\")\n",
    "print(\"weather dataframe shape : \", weather.shape)"
   ]
  },
  {
   "cell_type": "markdown",
   "id": "a4e284a4",
   "metadata": {},
   "source": [
    "+ TAVG, TMIN, TMAX = Sıcaklıkla alakalı olan sütunlar\n",
    "\n",
    "  AWND, WSF2 = Rüzgar hızıyla alakalı olan sütunlar\n",
    "  \n",
    "  WT01....WT22 = Kötü hava koşullarının varlığı ile ilgili sütunlar\n",
    " "
   ]
  },
  {
   "cell_type": "markdown",
   "id": "becd3fa2",
   "metadata": {},
   "source": [
    "Aşağıdaki kod bloğunda, sıcaklıkla alakalı olan sütunları **\"xx.describe()\"** işlevi ile tanımlayıcı istatistik sonuçlarını döndürelim ve Dataframe'e olan güveni artırmak adına bir boxplot (kutu grafiği) çizelim ve aykırı değer vs. göz atalım."
   ]
  },
  {
   "cell_type": "code",
   "execution_count": 30,
   "id": "c6b848e2",
   "metadata": {},
   "outputs": [
    {
     "name": "stdout",
     "output_type": "stream",
     "text": [
      "              TMIN         TAVG         TMAX\n",
      "count  4017.000000  1217.000000  4017.000000\n",
      "mean     43.484441    52.493016    61.268608\n",
      "std      17.020298    17.830714    18.199517\n",
      "min      -5.000000     6.000000    15.000000\n",
      "25%      30.000000    39.000000    47.000000\n",
      "50%      44.000000    54.000000    62.000000\n",
      "75%      58.000000    68.000000    77.000000\n",
      "max      77.000000    86.000000   102.000000\n",
      "\n",
      "*****\n",
      "\n"
     ]
    },
    {
     "data": {
      "image/png": "[encoded data removed]",
      "text/plain": [
       "<Figure size 432x288 with 1 Axes>"
      ]
     },
     "metadata": {
      "needs_background": "light"
     },
     "output_type": "display_data"
    }
   ],
   "source": [
    "# sıcaklıkla alakalı olan sütunların tanımlayıcı istatistiklerini döndürelim\n",
    "print(weather[['TMIN', 'TAVG', 'TMAX']].describe())\n",
    "\n",
    "print(\"\\n*****\\n\")\n",
    "\n",
    "# sıcaklıkla alakalı olan sütunların kutu grafiğini çizdirelim\n",
    "weather[['TMIN', 'TAVG', 'TMAX']].plot(kind='box')\n",
    "plt.show()"
   ]
  },
  {
   "cell_type": "markdown",
   "id": "ed9377be",
   "metadata": {},
   "source": [
    "Aşağıdaki kod bloğunda, maksimum ve minimum sıcaklıklar arasındaki farkı temsil eden TDIFF adlı yeni bir sütun oluşturalım. Ardından bu sütunun tanımlayıcı istatistiklerini döndürelim. Son olarak da bu sütunun histogram grafiğini çizdirelim."
   ]
  },
  {
   "cell_type": "code",
   "execution_count": 31,
   "id": "b0d777fe",
   "metadata": {
    "scrolled": false
   },
   "outputs": [
    {
     "name": "stdout",
     "output_type": "stream",
     "text": [
      "count    4017.000000\n",
      "mean       17.784167\n",
      "std         6.350720\n",
      "min         2.000000\n",
      "25%        14.000000\n",
      "50%        18.000000\n",
      "75%        22.000000\n",
      "max        43.000000\n",
      "Name: TDIFF, dtype: float64\n",
      "\n",
      "*****\n",
      "\n"
     ]
    },
    {
     "data": {
      "image/png": "[encoded data removed]",
      "text/plain": [
       "<Figure size 432x288 with 1 Axes>"
      ]
     },
     "metadata": {
      "needs_background": "light"
     },
     "output_type": "display_data"
    }
   ],
   "source": [
    "# TDIFF sütununu oluşturalım\n",
    "weather[\"TDIFF\"] = weather[\"TMAX\"] - weather[\"TMIN\"]\n",
    "\n",
    "# TDIFF sütununun tanımlayıcı istatistiklerini döndürelim\n",
    "print(weather[\"TDIFF\"].describe())\n",
    "\n",
    "print(\"\\n*****\\n\")\n",
    "\n",
    "# TDIFF sütununun histogram grafiğini çizdirelim\n",
    "weather[\"TDIFF\"].plot(kind = \"hist\", bins = 20)\n",
    "plt.show()"
   ]
  },
  {
   "cell_type": "markdown",
   "id": "6f1473b1",
   "metadata": {},
   "source": [
    "+ Sıcaklıklar arası açıklık (max değerler -min değerler) grafiği sağa çarpıktır. Yani ortalama, en sık tekrar eden değerden (mod) büyüktür.  "
   ]
  },
  {
   "cell_type": "markdown",
   "id": "711582e0",
   "metadata": {},
   "source": [
    "### < Categorizing the Weather (Hava Durumunun Sınıflandırılması) > "
   ]
  },
  {
   "cell_type": "markdown",
   "id": "5a3e99a4",
   "metadata": {},
   "source": [
    "Bu bölümde, her günki hava koşullarına bir derecelendirme vereceğiz. \n",
    "\n",
    "Bu bölümde kullandığımız bütün işlevler ve Tutorial Linkleri : \n",
    "\n",
    "+ pd.CategoricalDtype = Veri tipini değiştirmek istediğimiz sütundaki verilerin hangi sırada olacağını (büyüklük sıralaması) belirlememize olanak sağlar.\n",
    "\n",
    "https://pandas.pydata.org/docs/reference/api/pandas.CategoricalDtype.html "
   ]
  },
  {
   "cell_type": "markdown",
   "id": "ea790c74",
   "metadata": {},
   "source": [
    "Aşağıdaki kod bloğunda, weather Dataframe'indeki WT01'den WT22 sütununa kadar olan sütunların olduğu yeni bir Dataframe'i WT adlı değişkene atayalım. Ardından WT Dataframe'indeki her satırın toplanmış halini weather Dataframe'ine \"bad_conditions\" adlı bir sütun olarak ekleyelim. Daha sonra bu sütundaki kayıp değerleri (NaN) 0'a eşitleyelim. Son olarak da bu sütunun histogram grafiğini çizdirelim. "
   ]
  },
  {
   "cell_type": "code",
   "execution_count": 32,
   "id": "a24d811e",
   "metadata": {},
   "outputs": [
    {
     "data": {
      "image/png": "[encoded data removed]",
      "text/plain": [
       "<Figure size 432x288 with 1 Axes>"
      ]
     },
     "metadata": {
      "needs_background": "light"
     },
     "output_type": "display_data"
    },
    {
     "name": "stdout",
     "output_type": "stream",
     "text": [
      "\n",
      "*****\n",
      "\n"
     ]
    },
    {
     "data": {
      "text/plain": [
       "0       2\n",
       "1       2\n",
       "2       3\n",
       "3       4\n",
       "4       4\n",
       "       ..\n",
       "4012    1\n",
       "4013    0\n",
       "4014    3\n",
       "4015    2\n",
       "4016    1\n",
       "Name: bad_conditions, Length: 4017, dtype: int32"
      ]
     },
     "execution_count": 32,
     "metadata": {},
     "output_type": "execute_result"
    }
   ],
   "source": [
    "# 'WT01' ile 'WT22'yi yeni bir DataFrame'e kopyalayalım\n",
    "WT = weather.loc[:, \"WT01\":\"WT22\"]\n",
    "\n",
    "# 'WT'deki her satırın toplamını hesaplayalım\n",
    "weather['bad_conditions'] = WT.sum(axis = \"columns\")\n",
    "\n",
    "# \"bad_conditions\" içindeki eksik değerleri \"0\" ile değiştirelim\n",
    "weather['bad_conditions'] = weather.bad_conditions.fillna(0).astype('int')\n",
    "\n",
    "# 'bad_conditions' görselleştirmek için bir histogram oluşturalım\n",
    "weather[\"bad_conditions\"].plot(kind = \"hist\")\n",
    "\n",
    "# grafiği gösterelim\n",
    "plt.show()\n",
    "\n",
    "print(\"\\n*****\\n\")\n",
    "\n",
    "weather[\"bad_conditions\"]"
   ]
  },
  {
   "cell_type": "markdown",
   "id": "bfc61bc8",
   "metadata": {},
   "source": [
    "+ bad_conditions Dataframe'i WT01'den WT22'ye kadar olan sütunlardaki satırların değerlerinin toplamını içeren bir Dataframe olmuş oldu. Bu toplamlar, kötü hava koşullarının varlığını ifade etmekte."
   ]
  },
  {
   "cell_type": "markdown",
   "id": "3f156973",
   "metadata": {},
   "source": [
    "Aşağıdaki kod bloğunda, ilk olarak yukarıda oluşturduğumuz bad_conditions adlı Dataframe'deki değerleri sıralayalım (**\"xx.sort_index()\"**) ve eşsiz değerlerden kaç tane olduğunu görelim (**\"xx.value_counts()\"**). Ardından eşsiz değerleri **\"xx.map()\"** işlevi ile string ifadelere dönüştüreceğiz ve weather Dataframe'inde \"rating\" adlı bir sütun olarak saklayacağız. Son olarak rating sütunundaki eşsiz değerleri **\"xx.unique()\"** işlevi ile yazdıracağız."
   ]
  },
  {
   "cell_type": "code",
   "execution_count": 33,
   "id": "8756a212",
   "metadata": {},
   "outputs": [
    {
     "name": "stdout",
     "output_type": "stream",
     "text": [
      "0    1749\n",
      "1     613\n",
      "2     367\n",
      "3     380\n",
      "4     476\n",
      "5     282\n",
      "6     101\n",
      "7      41\n",
      "8       4\n",
      "9       4\n",
      "Name: bad_conditions, dtype: int64\n",
      "\n",
      "*****\n",
      "\n",
      "bad      1836\n",
      "good     1749\n",
      "worse     432\n",
      "Name: rating, dtype: int64\n"
     ]
    }
   ],
   "source": [
    "# 'bad_conditions' içindeki benzersiz değerleri sayalım ve dizini sıralayalım\n",
    "print(weather[\"bad_conditions\"].value_counts().sort_index())\n",
    "\n",
    "print(\"\\n*****\\n\")\n",
    "\n",
    "# tamsayıları dizelere eşleyen bir sözlük oluşturalım\n",
    "mapping = {0:'good', 1:'bad', 2:'bad', 3:\"bad\", 4:\"bad\", 5:\"worse\", 6:\"worse\", 7:\"worse\", 8:\"worse\", 9: \"worse\"}\n",
    "\n",
    "# 'mapping'i kullanarak 'bad_conditions' tamsayılarını dizelere dönüştürelim\n",
    "weather['rating'] = weather[\"bad_conditions\"].map(mapping)\n",
    "\n",
    "# 'rating'deki benzersiz değerleri sayalım\n",
    "print(weather[\"rating\"].value_counts())"
   ]
  },
  {
   "cell_type": "markdown",
   "id": "8f230c90",
   "metadata": {},
   "source": [
    "+ bad, worse, good artık kategorik bir hale geldi. Kategorik olmasına rağmen sıralı halde değiller. Bunu düzeltmeliyiz."
   ]
  },
  {
   "cell_type": "markdown",
   "id": "8664a952",
   "metadata": {},
   "source": [
    "Aşağıdaki kod bloğunda, bad,worse,good eşsiz değerlerini **xx.CategoricalDtype()** işlevi ile sıralanmış bir hale getirelim. Bu işlemin sonunda worse, bad ve good eşsiz değerleri arasında sıralama olmuş olacak. Ardından **xx.astype()** işlevi ile rating sütununu kategorik hale getirelim ve ilk 5 satırını döndürelim."
   ]
  },
  {
   "cell_type": "code",
   "execution_count": 34,
   "id": "cf5d459c",
   "metadata": {},
   "outputs": [
    {
     "name": "stdout",
     "output_type": "stream",
     "text": [
      "0    bad\n",
      "1    bad\n",
      "2    bad\n",
      "3    bad\n",
      "4    bad\n",
      "Name: rating, dtype: category\n",
      "Categories (3, object): ['good' < 'bad' < 'worse']\n"
     ]
    }
   ],
   "source": [
    "# hava durumu derecelendirmelerinin mantıksal sırasını belirtelim\n",
    "cats = pd.CategoricalDtype(['good', 'bad', 'worse'], ordered=True)\n",
    "\n",
    "# 'rating' sütununun veri türünü kategori olarak değiştirelim\n",
    "weather['rating'] = weather.rating.astype(cats)\n",
    "\n",
    "# \"rating\" sütununun başını döndürelim\n",
    "print(weather.rating.head())"
   ]
  },
  {
   "cell_type": "markdown",
   "id": "ca0ada08",
   "metadata": {},
   "source": [
    "### < Merging Datasets (Veri Setlerini Birleştirme) > "
   ]
  },
  {
   "cell_type": "markdown",
   "id": "b46d8395",
   "metadata": {},
   "source": [
    "Hava durumu ve polis davranışının arasındaki ilişikiyi analiz edebilmemiz için bu iki Dataframe'i birleştirmemiz gerek. Bu bölümde bununla uğraşacağız."
   ]
  },
  {
   "cell_type": "markdown",
   "id": "f87374ab",
   "metadata": {},
   "source": [
    "Aşağıdaki kod bloğunda, birleştirilmeye hazır olmaları için trafik durdurma ve hava durumu DataFrame'lerini hazırlayalım. police DataFrame'indeki \"stop_datetime\" dizinini **\"xx.reset_index()\"** ile sütun haline getireceğiz çünkü dizin birleştirme sırasında kaybolacaktır. Ardından weather DataFrame'inden yalnızca \"DATE\" ve \"rating\" sütunlarını içeren weather_rating adlı yeni bir DataFrame oluşturalım. Daha sonra weather_rating Dataframe'inin ilk birkaç satırını döndürelim. "
   ]
  },
  {
   "cell_type": "code",
   "execution_count": 35,
   "id": "fc03cd5f",
   "metadata": {
    "scrolled": true
   },
   "outputs": [
    {
     "name": "stdout",
     "output_type": "stream",
     "text": [
      "        stop_datetime   stop_date stop_time driver_gender driver_race  \\\n",
      "0 2005-01-04 12:55:00  2005-01-04     12:55             M       White   \n",
      "1 2005-01-23 23:15:00  2005-01-23     23:15             M       White   \n",
      "2 2005-02-17 04:15:00  2005-02-17     04:15             M       White   \n",
      "3 2005-02-20 17:15:00  2005-02-20     17:15             M       White   \n",
      "4 2005-02-24 01:20:00  2005-02-24     01:20             F       White   \n",
      "\n",
      "                    violation_raw  violation  search_conducted search_type  \\\n",
      "0  Equipment/Inspection Violation  Equipment             False         NaN   \n",
      "1                        Speeding   Speeding             False         NaN   \n",
      "2                        Speeding   Speeding             False         NaN   \n",
      "3                Call for Service      Other             False         NaN   \n",
      "4                        Speeding   Speeding             False         NaN   \n",
      "\n",
      "    stop_outcome  is_arrested stop_duration  drugs_related_stop district  \\\n",
      "0       Citation        False      0-15 Min               False  Zone X4   \n",
      "1       Citation        False      0-15 Min               False  Zone K3   \n",
      "2       Citation        False      0-15 Min               False  Zone X4   \n",
      "3  Arrest Driver         True     16-30 Min               False  Zone X1   \n",
      "4       Citation        False      0-15 Min               False  Zone X3   \n",
      "\n",
      "   frisk  stop_minutes  \n",
      "0  False             8  \n",
      "1  False             8  \n",
      "2  False             8  \n",
      "3  False            23  \n",
      "4  False             8  \n",
      "\n",
      "*****\n",
      "\n",
      "         DATE rating\n",
      "0  2005-01-01    bad\n",
      "1  2005-01-02    bad\n",
      "2  2005-01-03    bad\n",
      "3  2005-01-04    bad\n",
      "4  2005-01-05    bad\n"
     ]
    }
   ],
   "source": [
    "# police dataframe'ini resetleyelim\n",
    "# inplace parametresini True yapalım ki yaptığımız değişiklik kaydedilsin\n",
    "police.reset_index(inplace = True)\n",
    "\n",
    "# police dataframe'ine göz atalım\n",
    "# index olarak duran stop_datetime, sütun haline gelmiş olacak \n",
    "print(police.head())\n",
    "\n",
    "print(\"\\n*****\\n\")\n",
    "\n",
    "#'DATE' ve 'rating' sütunlarından bir DataFrame oluşturalım\n",
    "weather_rating = weather[[\"DATE\", \"rating\"]]\n",
    "\n",
    "# gözden geçirelim weather_rating dataframe'ini\n",
    "print(weather_rating.head())"
   ]
  },
  {
   "cell_type": "markdown",
   "id": "219e17a4",
   "metadata": {},
   "source": [
    "Aşağıdaki kod bloğunda, police ve weather_rating DataFrame'lerini yeni bir DataFrame olan ri_weather'da birleştireceğiz. DataFrame'ler, ri'den stop_date sütunu ve weather_rating'den DATE sütununu **xx.merge()** kullanılarak birleştireceğiz. Neyse ki tarih biçimlendirmesi tam olarak eşleşiyor, ki bu her zaman böyle olmuyor! Birleştirme tamamlandığında, önceki alıştırmada kaydettiğiniz sütun olan stop_datetime'ı dizin olarak ayarlayacağız. "
   ]
  },
  {
   "cell_type": "code",
   "execution_count": 36,
   "id": "60aa0f00",
   "metadata": {},
   "outputs": [
    {
     "name": "stdout",
     "output_type": "stream",
     "text": [
      "police dataframe shape :  (86536, 16)\n",
      "police_weather dataframe shape : (86536, 18)\n"
     ]
    }
   ],
   "source": [
    "# police dataframe'inin kaç satır-sütun olduğunu görelim\n",
    "print(\"police dataframe shape : \",police.shape)\n",
    "\n",
    "# police ve weather_rating dataframe'lerini sol birleştirme ile birleştirelim\n",
    "police_weather = pd.merge(left=police, right=weather_rating, left_on='stop_date', right_on='DATE', how='left')\n",
    "\n",
    "# police_weather dataframe'inin kaç satır-sütun olduğunu görelim\n",
    "print(\"police_weather dataframe shape :\",police_weather.shape)\n",
    "\n",
    "# police_weather dataframe'inde stop_datetime sütununu tekrardan index olarak ayarlayalım\n",
    "police_weather.set_index('stop_datetime', inplace=True)"
   ]
  },
  {
   "cell_type": "markdown",
   "id": "5925ee3f",
   "metadata": {},
   "source": [
    "+ Sütun sayısına bakarak da birleştirildiğini, satır sayılarına bakarak da düzgün bir şekilde birleştirildiğini anlayabiliriz."
   ]
  },
  {
   "cell_type": "markdown",
   "id": "e6489943",
   "metadata": {},
   "source": [
    "### < Does Weather Affect the Arrest Rate (Hava Durumu Tutuklanmayı Etkiler mi?) >  "
   ]
  },
  {
   "cell_type": "markdown",
   "id": "f4642f2b",
   "metadata": {},
   "source": [
    "Dördüncü başlık altında; buraya kadarki kısımlarda weather Dataframe'ini inceledik, kullanacağımız sütunların sınıflandırmasını yaptık ve police Dataframe'iyle birleştirdik. Bu bölümde hava durumunun tutuklamayı etkileyip etkilemediğini inceleyeceğiz ve ardından çok indeksli bir seri ile çalışacağız.\n",
    "\n",
    "Bu bölümde kullandığımız bütün işlevler ve Tutorial Linkleri :\n",
    "\n",
    "+ pd.pivot_table() = https://pandas.pydata.org/docs/reference/api/pandas.DataFrame.pivot_table.html?highlight=pivot_table#pandas.DataFrame.pivot_table"
   ]
  },
  {
   "cell_type": "markdown",
   "id": "dc288b07",
   "metadata": {},
   "source": [
    "Çoklu sütunlardaki tek bir **\"xx.groupby()\"** işleminin çıktısı, MultiIndex içeren bir Seridir. Bu tür bir nesneyle çalışmak, bir DataFrame ile çalışmaya benzer. Bu yüzden Pandas'ın **MultiIndex.from_xx** işlevinin mantığını bilmeliyiz. Aşağıdaki kod bloklarında anlaşılmada güçlük olmaması amacıyla bu işlevi biraz açıklayalım.\n",
    "\n",
    "+ Multi-Index, Multi-level (çok düzeyli) veya hierarchical (hiyerarşik) bir Pandas nesnesidir. Indeximizde (dizin) birden fazla satır ve sütun seçmemize olanak tanır.\n",
    "\n",
    "+ **\"MultiIndex.from_arrays\"**, **\"MultiIndex.from_tuples\"**, **\"MultiIndex.from_product\"**, **\"MultiIndex.from_frame\"** olarak kullanılan çeşitli MultiIndex (Çoklu dizin) yöntemleri vardır. \n",
    "\n",
    "Tutorial Linki = https://pandas.pydata.org/docs/reference/api/pandas.MultiIndex.html"
   ]
  },
  {
   "cell_type": "code",
   "execution_count": 37,
   "id": "7772e7ed",
   "metadata": {},
   "outputs": [
    {
     "data": {
      "text/plain": [
       "MultiIndex([(  'Sohom', 10, 90),\n",
       "            ( 'Suresh', 11, 92),\n",
       "            ( 'kumkum', 12, 23),\n",
       "            ('subrata', 13, 64)],\n",
       "           names=['names', 'ages', 'marks'])"
      ]
     },
     "execution_count": 37,
     "metadata": {},
     "output_type": "execute_result"
    }
   ],
   "source": [
    "import pandas as pd\n",
    "\n",
    "# isimlerden oluşan bir dizi oluşturalım\n",
    "names = ['Sohom','Suresh','kumkum','subrata']\n",
    "\n",
    "# yaşlardan oluşan bir dizi oluşturalım\n",
    "ages = [10, 11, 12, 13]\n",
    "\n",
    "# işaretlerden oluşan bir dizi oluşturalım\n",
    "marks = [90, 92, 23, 64]\n",
    "\n",
    "# MultiIndex.from_arrays kullanarak, \n",
    "# dizileri adlarıyla birlikte bir araya getiriyoruz\n",
    "# ve 3 dizideki her öğeyle farklı satırlarda çoklu dizin oluşturuyoruz.\n",
    "pd.MultiIndex.from_arrays([names, ages, marks], names = (\"names\", \"ages\", \"marks\"))"
   ]
  },
  {
   "cell_type": "code",
   "execution_count": 38,
   "id": "2977b8e9",
   "metadata": {},
   "outputs": [
    {
     "name": "stdout",
     "output_type": "stream",
     "text": [
      "       name                jobs  Annual Salary(L.P.A)\n",
      "0    Saikat  Software Developer                  12.4\n",
      "1  Shrestha     System Engineer                   5.6\n",
      "2     Sandi          Footballer                   9.3\n",
      "3   Abinash              Singer                  10.0\n"
     ]
    },
    {
     "data": {
      "text/plain": [
       "MultiIndex([(  'Saikat', 'Software Developer', 12.4),\n",
       "            ('Shrestha',    'System Engineer',  5.6),\n",
       "            (   'Sandi',         'Footballer',  9.3),\n",
       "            ( 'Abinash',             'Singer', 10.0)],\n",
       "           names=['name', 'jobs', 'Annual Salary(L.P.A)'])"
      ]
     },
     "execution_count": 38,
     "metadata": {},
     "output_type": "execute_result"
    }
   ],
   "source": [
    "import pandas as pd \n",
    "\n",
    "# Bir veri oluşturalım\n",
    "information = {\"name\": [\"Saikat\", \"Shrestha\", \"Sandi\", \"Abinash\"],\n",
    "               \n",
    "              \"jobs\": [\"Software Developer\", \"System Engineer\",\n",
    "                        \"Footballer\", \"Singer\"],\n",
    "               \n",
    "              'Annual Salary(L.P.A)': [12.4, 5.6, 9.3, 10]}\n",
    "\n",
    "# Bütün veriyi bir DataFrame'e dönüştürelim\n",
    "df = pd.DataFrame(information)\n",
    "\n",
    "# Veriyi inceleyelim \n",
    "print(df)\n",
    "\n",
    "# Dataframe'den multiple index (çoklu dizin) oluşturalım\n",
    "pd.MultiIndex.from_frame(df)"
   ]
  },
  {
   "cell_type": "markdown",
   "id": "cf9051ec",
   "metadata": {},
   "source": [
    "Aşağıdaki kod bloğunda, ilk olarak genel tutuklanma oranını bulacağız. Daha sonra, önceden oluşturduğumuz hava durumu derecelendirmelerinin (\"rating sütunu\") her biri için tutuklanma oranını hesaplayacağız. Son olarak tutuklanma oranında herhangi bir fark olup olmadığını görmek için ihlal türünü (\"violation\" sütunu) analize ikince bir faktör olarak ekleyeceğiz."
   ]
  },
  {
   "cell_type": "code",
   "execution_count": 39,
   "id": "a7f26dc4",
   "metadata": {
    "scrolled": true
   },
   "outputs": [
    {
     "name": "stdout",
     "output_type": "stream",
     "text": [
      "0.0355690117407784\n",
      "\n",
      "*****\n",
      "\n",
      "rating\n",
      "good     0.033715\n",
      "bad      0.036261\n",
      "worse    0.041667\n",
      "Name: is_arrested, dtype: float64\n",
      "\n",
      "*****\n",
      "\n",
      "violation            rating\n",
      "Equipment            good      0.059007\n",
      "                     bad       0.066311\n",
      "                     worse     0.097357\n",
      "Moving violation     good      0.056227\n",
      "                     bad       0.058050\n",
      "                     worse     0.065860\n",
      "Other                good      0.076966\n",
      "                     bad       0.087443\n",
      "                     worse     0.062893\n",
      "Registration/plates  good      0.081574\n",
      "                     bad       0.098160\n",
      "                     worse     0.115625\n",
      "Seat belt            good      0.028587\n",
      "                     bad       0.022493\n",
      "                     worse     0.000000\n",
      "Speeding             good      0.013405\n",
      "                     bad       0.013314\n",
      "                     worse     0.016886\n",
      "Name: is_arrested, dtype: float64\n"
     ]
    }
   ],
   "source": [
    "# Genel tutuklama oranını hesaplayalım\n",
    "print(police_weather[\"is_arrested\"].mean())\n",
    "\n",
    "print(\"\\n*****\\n\")\n",
    "\n",
    "# rating sütunundaki satır için tutuklama oranını hesaplayalım\n",
    "print(police_weather.groupby(\"rating\")[\"is_arrested\"].mean())\n",
    "\n",
    "print(\"\\n*****\\n\")\n",
    "\n",
    "# Her bir 'ihlal (violation)' ve 'derecelendirme (rating)' için tutuklama oranını hesaplayalım\n",
    "print(police_weather.groupby([\"violation\", \"rating\"]).is_arrested.mean())"
   ]
  },
  {
   "cell_type": "markdown",
   "id": "a11d9c02",
   "metadata": {},
   "source": [
    "Aşağıdaki kod bloğunda, rating ve violation için hesapladığımız tutuklanma oranlarını \"arrest_rate\" olarak kaydedelim. Ardından, kötü hava koşullarındaki hareket ihlallerinin tutuklama oranını yazdıralım. Son olarak da her üç hava koşulunda da hız ihlalleri için tutuklama oranlarını yazdıralım."
   ]
  },
  {
   "cell_type": "code",
   "execution_count": 40,
   "id": "2cb55d57",
   "metadata": {
    "scrolled": true
   },
   "outputs": [
    {
     "name": "stdout",
     "output_type": "stream",
     "text": [
      "violation            rating\n",
      "Equipment            good      0.059007\n",
      "                     bad       0.066311\n",
      "                     worse     0.097357\n",
      "Moving violation     good      0.056227\n",
      "                     bad       0.058050\n",
      "                     worse     0.065860\n",
      "Other                good      0.076966\n",
      "                     bad       0.087443\n",
      "                     worse     0.062893\n",
      "Registration/plates  good      0.081574\n",
      "                     bad       0.098160\n",
      "                     worse     0.115625\n",
      "Seat belt            good      0.028587\n",
      "                     bad       0.022493\n",
      "                     worse     0.000000\n",
      "Speeding             good      0.013405\n",
      "                     bad       0.013314\n",
      "                     worse     0.016886\n",
      "Name: is_arrested, dtype: float64\n",
      "\n",
      "*****\n",
      "\n",
      "0.05804964058049641\n",
      "\n",
      "******\n",
      "\n",
      "rating\n",
      "good     0.013405\n",
      "bad      0.013314\n",
      "worse    0.016886\n",
      "Name: is_arrested, dtype: float64\n"
     ]
    }
   ],
   "source": [
    "# arrest_rate adlı değişkene rating \n",
    "# rating ve violation için hesapladığımız tutuklanma oranlarını kaydedelim\n",
    "arrest_rate = police_weather.groupby(['violation', 'rating']).is_arrested.mean()\n",
    "\n",
    "# arrest_rate serisini yazdıralım\n",
    "print(arrest_rate)\n",
    "\n",
    "print(\"\\n*****\\n\")\n",
    "\n",
    "# kötü hava koşullarında hareket ihlalleri için tutuklama oranını yazdıralım\n",
    "print(arrest_rate.loc['Moving violation', 'bad'])\n",
    "\n",
    "print(\"\\n******\\n\")\n",
    "\n",
    "# Üç hava koşulunda da hız ihlalleri için tutuklama oranlarını yazdıralım\n",
    "print(arrest_rate.loc['Speeding'])"
   ]
  },
  {
   "cell_type": "markdown",
   "id": "9dd9dc0f",
   "metadata": {},
   "source": [
    "+ Çoklu sütunlardaki tek bir **\"xx.groupby()\"** işleminin çıktısı, MultiIndex içeren bir Seridir. Bu tür bir nesneyle çalışmak, bir DataFrame ile çalışmaya benzer."
   ]
  },
  {
   "cell_type": "markdown",
   "id": "2677fa46",
   "metadata": {},
   "source": [
    "Aşağıdaki kod bloğunda, yukarı **\"xx.groupby()\"** işlevi ile oluşturduğumuz Dataframe'i, **\"xx.pivot_table()\"** işlevi ile rahat bir şekilde oluşturalım. Ancak ondan önce arrest_rate serisini Dataframe olarak şekilldendirmek için **xx.unstack()** işlevi ile yığından ayıracağız."
   ]
  },
  {
   "cell_type": "code",
   "execution_count": 41,
   "id": "f092cd69",
   "metadata": {
    "scrolled": false
   },
   "outputs": [
    {
     "name": "stdout",
     "output_type": "stream",
     "text": [
      "rating                   good       bad     worse\n",
      "violation                                        \n",
      "Equipment            0.059007  0.066311  0.097357\n",
      "Moving violation     0.056227  0.058050  0.065860\n",
      "Other                0.076966  0.087443  0.062893\n",
      "Registration/plates  0.081574  0.098160  0.115625\n",
      "Seat belt            0.028587  0.022493  0.000000\n",
      "Speeding             0.013405  0.013314  0.016886\n",
      "rating                   good       bad     worse\n",
      "violation                                        \n",
      "Equipment            0.059007  0.066311  0.097357\n",
      "Moving violation     0.056227  0.058050  0.065860\n",
      "Other                0.076966  0.087443  0.062893\n",
      "Registration/plates  0.081574  0.098160  0.115625\n",
      "Seat belt            0.028587  0.022493  0.000000\n",
      "Speeding             0.013405  0.013314  0.016886\n"
     ]
    }
   ],
   "source": [
    "# 'arrest_rate' Serisini bir DataFrame'e ayıralım\n",
    "print(arrest_rate.unstack())\n",
    "\n",
    "# pivot_table kullanarak aynı DataFrame'i oluşturalım\n",
    "print(police_weather.pivot_table(index='violation', columns='rating', values='is_arrested'))"
   ]
  }
 ],
 "metadata": {
  "kernelspec": {
   "display_name": "Python 3 (ipykernel)",
   "language": "python",
   "name": "python3"
  },
  "language_info": {
   "codemirror_mode": {
    "name": "ipython",
    "version": 3
   },
   "file_extension": ".py",
   "mimetype": "text/x-python",
   "name": "python",
   "nbconvert_exporter": "python",
   "pygments_lexer": "ipython3",
   "version": "3.9.7"
  }
 },
 "nbformat": 4,
 "nbformat_minor": 5
}
